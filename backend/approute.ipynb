{
 "cells": [
  {
   "cell_type": "code",
   "execution_count": 2,
   "id": "a9807b7c",
   "metadata": {},
   "outputs": [
    {
     "name": "stdout",
     "output_type": "stream",
     "text": [
      "Requirement already satisfied: tensorflow==2.18.0 in c:\\anaconda3\\envs\\dev\\lib\\site-packages (2.18.0)\n",
      "Requirement already satisfied: tensorflow-intel==2.18.0 in c:\\anaconda3\\envs\\dev\\lib\\site-packages (from tensorflow==2.18.0) (2.18.0)\n",
      "Requirement already satisfied: absl-py>=1.0.0 in c:\\anaconda3\\envs\\dev\\lib\\site-packages (from tensorflow-intel==2.18.0->tensorflow==2.18.0) (2.2.0)\n",
      "Requirement already satisfied: astunparse>=1.6.0 in c:\\anaconda3\\envs\\dev\\lib\\site-packages (from tensorflow-intel==2.18.0->tensorflow==2.18.0) (1.6.3)\n",
      "Requirement already satisfied: flatbuffers>=24.3.25 in c:\\anaconda3\\envs\\dev\\lib\\site-packages (from tensorflow-intel==2.18.0->tensorflow==2.18.0) (25.2.10)\n",
      "Requirement already satisfied: gast!=0.5.0,!=0.5.1,!=0.5.2,>=0.2.1 in c:\\anaconda3\\envs\\dev\\lib\\site-packages (from tensorflow-intel==2.18.0->tensorflow==2.18.0) (0.4.0)\n",
      "Requirement already satisfied: google-pasta>=0.1.1 in c:\\anaconda3\\envs\\dev\\lib\\site-packages (from tensorflow-intel==2.18.0->tensorflow==2.18.0) (0.2.0)\n",
      "Requirement already satisfied: libclang>=13.0.0 in c:\\anaconda3\\envs\\dev\\lib\\site-packages (from tensorflow-intel==2.18.0->tensorflow==2.18.0) (18.1.1)\n",
      "Requirement already satisfied: opt-einsum>=2.3.2 in c:\\anaconda3\\envs\\dev\\lib\\site-packages (from tensorflow-intel==2.18.0->tensorflow==2.18.0) (3.4.0)\n",
      "Requirement already satisfied: packaging in c:\\anaconda3\\envs\\dev\\lib\\site-packages (from tensorflow-intel==2.18.0->tensorflow==2.18.0) (24.1)\n",
      "Requirement already satisfied: protobuf!=4.21.0,!=4.21.1,!=4.21.2,!=4.21.3,!=4.21.4,!=4.21.5,<6.0.0dev,>=3.20.3 in c:\\anaconda3\\envs\\dev\\lib\\site-packages (from tensorflow-intel==2.18.0->tensorflow==2.18.0) (5.29.4)\n",
      "Requirement already satisfied: requests<3,>=2.21.0 in c:\\anaconda3\\envs\\dev\\lib\\site-packages (from tensorflow-intel==2.18.0->tensorflow==2.18.0) (2.32.3)\n",
      "Requirement already satisfied: setuptools in c:\\anaconda3\\envs\\dev\\lib\\site-packages (from tensorflow-intel==2.18.0->tensorflow==2.18.0) (75.1.0)\n",
      "Requirement already satisfied: six>=1.12.0 in c:\\anaconda3\\envs\\dev\\lib\\site-packages (from tensorflow-intel==2.18.0->tensorflow==2.18.0) (1.16.0)\n",
      "Requirement already satisfied: termcolor>=1.1.0 in c:\\anaconda3\\envs\\dev\\lib\\site-packages (from tensorflow-intel==2.18.0->tensorflow==2.18.0) (2.5.0)\n",
      "Requirement already satisfied: typing-extensions>=3.6.6 in c:\\anaconda3\\envs\\dev\\lib\\site-packages (from tensorflow-intel==2.18.0->tensorflow==2.18.0) (4.11.0)\n",
      "Requirement already satisfied: wrapt>=1.11.0 in c:\\anaconda3\\envs\\dev\\lib\\site-packages (from tensorflow-intel==2.18.0->tensorflow==2.18.0) (1.14.1)\n",
      "Requirement already satisfied: grpcio<2.0,>=1.24.3 in c:\\anaconda3\\envs\\dev\\lib\\site-packages (from tensorflow-intel==2.18.0->tensorflow==2.18.0) (1.71.0)\n",
      "Requirement already satisfied: tensorboard<2.19,>=2.18 in c:\\anaconda3\\envs\\dev\\lib\\site-packages (from tensorflow-intel==2.18.0->tensorflow==2.18.0) (2.18.0)\n",
      "Requirement already satisfied: keras>=3.5.0 in c:\\anaconda3\\envs\\dev\\lib\\site-packages (from tensorflow-intel==2.18.0->tensorflow==2.18.0) (3.9.2)\n",
      "Requirement already satisfied: numpy<2.1.0,>=1.26.0 in c:\\anaconda3\\envs\\dev\\lib\\site-packages (from tensorflow-intel==2.18.0->tensorflow==2.18.0) (1.26.4)\n",
      "Requirement already satisfied: h5py>=3.11.0 in c:\\anaconda3\\envs\\dev\\lib\\site-packages (from tensorflow-intel==2.18.0->tensorflow==2.18.0) (3.13.0)\n",
      "Requirement already satisfied: ml-dtypes<0.5.0,>=0.4.0 in c:\\anaconda3\\envs\\dev\\lib\\site-packages (from tensorflow-intel==2.18.0->tensorflow==2.18.0) (0.4.1)\n",
      "Requirement already satisfied: tensorflow-io-gcs-filesystem>=0.23.1 in c:\\anaconda3\\envs\\dev\\lib\\site-packages (from tensorflow-intel==2.18.0->tensorflow==2.18.0) (0.31.0)\n",
      "Requirement already satisfied: wheel<1.0,>=0.23.0 in c:\\anaconda3\\envs\\dev\\lib\\site-packages (from astunparse>=1.6.0->tensorflow-intel==2.18.0->tensorflow==2.18.0) (0.44.0)\n",
      "Requirement already satisfied: rich in c:\\anaconda3\\envs\\dev\\lib\\site-packages (from keras>=3.5.0->tensorflow-intel==2.18.0->tensorflow==2.18.0) (13.7.1)\n",
      "Requirement already satisfied: namex in c:\\anaconda3\\envs\\dev\\lib\\site-packages (from keras>=3.5.0->tensorflow-intel==2.18.0->tensorflow==2.18.0) (0.0.8)\n",
      "Requirement already satisfied: optree in c:\\anaconda3\\envs\\dev\\lib\\site-packages (from keras>=3.5.0->tensorflow-intel==2.18.0->tensorflow==2.18.0) (0.15.0)\n",
      "Requirement already satisfied: charset-normalizer<4,>=2 in c:\\anaconda3\\envs\\dev\\lib\\site-packages (from requests<3,>=2.21.0->tensorflow-intel==2.18.0->tensorflow==2.18.0) (3.3.2)\n",
      "Requirement already satisfied: idna<4,>=2.5 in c:\\anaconda3\\envs\\dev\\lib\\site-packages (from requests<3,>=2.21.0->tensorflow-intel==2.18.0->tensorflow==2.18.0) (3.7)\n",
      "Requirement already satisfied: urllib3<3,>=1.21.1 in c:\\anaconda3\\envs\\dev\\lib\\site-packages (from requests<3,>=2.21.0->tensorflow-intel==2.18.0->tensorflow==2.18.0) (1.26.20)\n",
      "Requirement already satisfied: certifi>=2017.4.17 in c:\\anaconda3\\envs\\dev\\lib\\site-packages (from requests<3,>=2.21.0->tensorflow-intel==2.18.0->tensorflow==2.18.0) (2025.1.31)\n",
      "Requirement already satisfied: markdown>=2.6.8 in c:\\anaconda3\\envs\\dev\\lib\\site-packages (from tensorboard<2.19,>=2.18->tensorflow-intel==2.18.0->tensorflow==2.18.0) (3.3.6)\n",
      "Requirement already satisfied: tensorboard-data-server<0.8.0,>=0.7.0 in c:\\anaconda3\\envs\\dev\\lib\\site-packages (from tensorboard<2.19,>=2.18->tensorflow-intel==2.18.0->tensorflow==2.18.0) (0.7.2)\n",
      "Requirement already satisfied: werkzeug>=1.0.1 in c:\\anaconda3\\envs\\dev\\lib\\site-packages (from tensorboard<2.19,>=2.18->tensorflow-intel==2.18.0->tensorflow==2.18.0) (3.0.3)\n",
      "Requirement already satisfied: MarkupSafe>=2.1.1 in c:\\anaconda3\\envs\\dev\\lib\\site-packages (from werkzeug>=1.0.1->tensorboard<2.19,>=2.18->tensorflow-intel==2.18.0->tensorflow==2.18.0) (2.1.3)\n",
      "Requirement already satisfied: markdown-it-py>=2.2.0 in c:\\anaconda3\\envs\\dev\\lib\\site-packages (from rich->keras>=3.5.0->tensorflow-intel==2.18.0->tensorflow==2.18.0) (2.2.0)\n",
      "Requirement already satisfied: pygments<3.0.0,>=2.13.0 in c:\\anaconda3\\envs\\dev\\lib\\site-packages (from rich->keras>=3.5.0->tensorflow-intel==2.18.0->tensorflow==2.18.0) (2.15.1)\n",
      "Requirement already satisfied: mdurl~=0.1 in c:\\anaconda3\\envs\\dev\\lib\\site-packages (from markdown-it-py>=2.2.0->rich->keras>=3.5.0->tensorflow-intel==2.18.0->tensorflow==2.18.0) (0.1.0)\n"
     ]
    }
   ],
   "source": [
    "!pip install tensorflow==2.18.0"
   ]
  },
  {
   "cell_type": "code",
   "execution_count": null,
   "id": "fcf59df9",
   "metadata": {},
   "outputs": [
    {
     "ename": "ModuleNotFoundError",
     "evalue": "No module named 'tensorflow.keras'",
     "output_type": "error",
     "traceback": [
      "\u001b[1;31m---------------------------------------------------------------------------\u001b[0m",
      "\u001b[1;31mModuleNotFoundError\u001b[0m                       Traceback (most recent call last)",
      "Cell \u001b[1;32mIn[3], line 5\u001b[0m\n\u001b[0;32m      3\u001b[0m \u001b[38;5;28;01mimport\u001b[39;00m \u001b[38;5;21;01mpickle\u001b[39;00m\n\u001b[0;32m      4\u001b[0m \u001b[38;5;28;01mfrom\u001b[39;00m \u001b[38;5;21;01msqlalchemy\u001b[39;00m \u001b[38;5;28;01mimport\u001b[39;00m create_engine, Table, MetaData\n\u001b[1;32m----> 5\u001b[0m \u001b[38;5;28;01mfrom\u001b[39;00m \u001b[38;5;21;01mtensorflow\u001b[39;00m\u001b[38;5;21;01m.\u001b[39;00m\u001b[38;5;21;01mkeras\u001b[39;00m\u001b[38;5;21;01m.\u001b[39;00m\u001b[38;5;21;01mmodels\u001b[39;00m \u001b[38;5;28;01mimport\u001b[39;00m load_model\n\u001b[0;32m      7\u001b[0m \u001b[38;5;66;03m# Load models and files\u001b[39;00m\n\u001b[0;32m      8\u001b[0m model \u001b[38;5;241m=\u001b[39m load_model(\u001b[38;5;124m'\u001b[39m\u001b[38;5;124mmodels/disease_prediction_model.h5\u001b[39m\u001b[38;5;124m'\u001b[39m)  \u001b[38;5;66;03m# Path to .h5 file\u001b[39;00m\n",
      "\u001b[1;31mModuleNotFoundError\u001b[0m: No module named 'tensorflow.keras'"
     ]
    }
   ],
   "source": [
    "import pandas as pd\n",
    "import numpy as np\n",
    "import pickle\n",
    "from sqlalchemy import create_engine, Table, MetaData\n",
    "from tensorflow.keras.models import load_model\n",
    "\n",
    "# Load models and files\n",
    "model = load_model('models/disease_prediction_model.h5')  # Path to .h5 file\n",
    "with open('models/scaler.pkl', 'rb') as f:\n",
    "    scaler = pickle.load(f)\n",
    "with open('models/binary_features.pkl', 'rb') as f:\n",
    "    binary_features = pickle.load(f)\n",
    "\n",
    "# Setup database connection\n",
    "db_params = {\n",
    "    'dbname': 'disease_symptom_db',\n",
    "    'user': 'postgres',\n",
    "    'password': 'postgres',\n",
    "    'host': 'localhost',\n",
    "    'port': '5432'\n",
    "}\n",
    "connection_string = f\"postgresql://{db_params['user']}:{db_params['password']}@{db_params['host']}:{db_params['port']}/{db_params['dbname']}\"\n",
    "engine = create_engine(connection_string)\n",
    "metadata = MetaData()\n",
    "metadata.reflect(bind=engine)  # Load table metadata\n",
    "\n",
    "# Map tables for direct queries\n",
    "Symptoms = Table('symptoms_tb', metadata, autoload_with=engine)\n",
    "Diseases = Table('diseases_tb', metadata, autoload_with=engine)\n",
    "DiseaseSymptom = Table('disease_symptom_tb', metadata, autoload_with=engine)"
   ]
  },
  {
   "cell_type": "code",
   "execution_count": null,
   "id": "82e0db52",
   "metadata": {},
   "outputs": [],
   "source": [
    "# Simulated user input\n",
    "selectedSymptom_ids = ['C0085593', 'C0746619', 'C0030193', 'C0004093', 'C0004604']\n",
    "print(\"Selected Symptom IDs:\", selectedSymptom_ids)\n"
   ]
  },
  {
   "cell_type": "code",
   "execution_count": null,
   "id": "f834e1dc",
   "metadata": {},
   "outputs": [],
   "source": [
    "from sqlalchemy.orm import Session\n",
    "\n",
    "session = Session(engine)\n",
    "symptom_names = []\n",
    "for symptom_id in selectedSymptom_ids:\n",
    "    result = session.query(Symptoms).filter_by(symptom_id=symptom_id).first()\n",
    "    if result:\n",
    "        symptom_names.append(result.s_name)\n",
    "    else:\n",
    "        print(f\"Symptom ID {symptom_id} not found in the database.\")\n",
    "session.close()\n",
    "print(\"Symptom Names:\", symptom_names)\n"
   ]
  },
  {
   "cell_type": "code",
   "execution_count": null,
   "id": "e089137b",
   "metadata": {},
   "outputs": [],
   "source": [
    "# Create test input\n",
    "test_input = pd.DataFrame([{symptom_id: 1 for symptom_id in selectedSymptom_ids}], columns=binary_features).fillna(0)\n",
    "\n",
    "# Validate input alignment\n",
    "print(\"Test Input DataFrame:\\n\", test_input.head())\n",
    "print(\"Binary Features:\", binary_features)\n",
    "\n",
    "# Scale test input\n",
    "test_input_scaled = scaler.transform(test_input)\n",
    "print(\"Scaled Test Input:\\n\", test_input_scaled)\n"
   ]
  },
  {
   "cell_type": "code",
   "execution_count": null,
   "id": "805cfb68",
   "metadata": {},
   "outputs": [],
   "source": [
    "# Predict disease probabilities\n",
    "probabilities = model.predict(test_input_scaled)\n",
    "print(\"Predicted Probabilities:\", probabilities)\n"
   ]
  },
  {
   "cell_type": "code",
   "execution_count": null,
   "id": "e7e9b69f",
   "metadata": {},
   "outputs": [],
   "source": [
    "top_indices = np.argsort(probabilities[0])[-3:][::-1]\n",
    "print(\"Top Indices:\", top_indices)\n",
    "\n",
    "# Query disease_symptom_hotcoded structure\n",
    "session = Session(engine)\n",
    "symptom_disease_data = session.query(DiseaseSymptom).all()\n",
    "symptom_disease_df = pd.DataFrame([\n",
    "    {\"disease_id\": item.disease_id, \"symptom_id\": item.symptom_id}\n",
    "    for item in symptom_disease_data\n",
    "])\n",
    "\n",
    "# Recreate disease_symptom_hotcoded\n",
    "binary_features = pd.get_dummies(symptom_disease_df['symptom_id'])\n",
    "disease_symptom_hotcoded = pd.concat(\n",
    "    [symptom_disease_df['disease_id'], binary_features],\n",
    "    axis=1\n",
    ").groupby('disease_id').sum().reset_index()\n",
    "print(\"Disease Symptom Hotcoded:\\n\", disease_symptom_hotcoded.head())\n",
    "\n",
    "# Get top matches\n",
    "matches_response = []\n",
    "for index in top_indices:\n",
    "    if index >= len(disease_symptom_hotcoded):\n",
    "        print(f\"Index {index} is out of bounds for disease_symptom_hotcoded.\")\n",
    "        continue\n",
    "\n",
    "    try:\n",
    "        row = disease_symptom_hotcoded.iloc[index]\n",
    "        disease_id = row['disease_id']\n",
    "\n",
    "        # Lookup disease details\n",
    "        disease_result = session.query(Diseases).filter_by(disease_id=disease_id).first()\n",
    "        if disease_result:\n",
    "            associated_symptoms = session.query(DiseaseSymptom).filter_by(disease_id=disease_id).all()\n",
    "            symptom_list = [symptom.s_name for symptom in associated_symptoms]\n",
    "\n",
    "            # Build match entry\n",
    "            matches_response.append({\n",
    "                \"d_name\": disease_result.d_name,\n",
    "                \"description\": disease_result.description,\n",
    "                \"s_name\": symptom_list,\n",
    "                \"probability\": f\"{probabilities[0][index] * 100:.2f}%\"\n",
    "            })\n",
    "    except Exception as e:\n",
    "        print(f\"Error processing index {index}: {str(e)}\")\n",
    "session.close()\n",
    "print(\"Matches Response:\", matches_response)\n"
   ]
  }
 ],
 "metadata": {
  "kernelspec": {
   "display_name": "dev",
   "language": "python",
   "name": "python3"
  },
  "language_info": {
   "codemirror_mode": {
    "name": "ipython",
    "version": 3
   },
   "file_extension": ".py",
   "mimetype": "text/x-python",
   "name": "python",
   "nbconvert_exporter": "python",
   "pygments_lexer": "ipython3",
   "version": "3.10.13"
  }
 },
 "nbformat": 4,
 "nbformat_minor": 5
}
