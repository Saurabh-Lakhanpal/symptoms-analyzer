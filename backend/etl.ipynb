{
  "cells": [
    {
      "cell_type": "markdown",
      "metadata": {},
      "source": [
        "### app.py"
      ]
    },
    {
      "cell_type": "code",
      "execution_count": 9,
      "metadata": {
        "id": "u_llum7x5PTs"
      },
      "outputs": [],
      "source": [
        "import os\n",
        "import pandas as pd\n",
        "import requests\n",
        "from bs4 import BeautifulSoup\n",
        "from io import StringIO\n",
        "import re\n",
        "from pprint import pprint"
      ]
    },
    {
      "cell_type": "code",
      "execution_count": 10,
      "metadata": {
        "colab": {
          "base_uri": "https://localhost:8080/"
        },
        "id": "AaU0f-oL47Kt",
        "outputId": "b397053a-9f0b-4ffa-f329-6a7bba9c4ecc"
      },
      "outputs": [
        {
          "name": "stdout",
          "output_type": "stream",
          "text": [
            "Table scraped successfully\n"
          ]
        },
        {
          "data": {
            "application/vnd.microsoft.datawrangler.viewer.v0+json": {
              "columns": [
                {
                  "name": "index",
                  "rawType": "int64",
                  "type": "integer"
                },
                {
                  "name": "Disease",
                  "rawType": "object",
                  "type": "string"
                },
                {
                  "name": "Count of Disease\n  Occurrence",
                  "rawType": "object",
                  "type": "string"
                },
                {
                  "name": "Symptom",
                  "rawType": "object",
                  "type": "string"
                }
              ],
              "conversionMethod": "pd.DataFrame",
              "ref": "4a6442ea-5140-452b-9da3-444648f5ac52",
              "rows": [
                [
                  "0",
                  "UMLS:C0020538_hypertensive\n  disease",
                  "3363",
                  "UMLS:C0008031_pain\n  chest"
                ],
                [
                  "1",
                  "",
                  "",
                  "UMLS:C0392680_shortness\n  of breath"
                ],
                [
                  "2",
                  "",
                  "",
                  "UMLS:C0012833_dizziness"
                ],
                [
                  "3",
                  "",
                  "",
                  "UMLS:C0004093_asthenia"
                ],
                [
                  "4",
                  "",
                  "",
                  "UMLS:C0085639_fall"
                ],
                [
                  "5",
                  "",
                  "",
                  "UMLS:C0039070_syncope"
                ],
                [
                  "6",
                  "",
                  "",
                  "UMLS:C0042571_vertigo"
                ],
                [
                  "7",
                  "",
                  "",
                  "UMLS:C0038990_sweat^UMLS:C0700590_sweating\n  increased"
                ],
                [
                  "8",
                  "",
                  "",
                  "UMLS:C0030252_palpitation"
                ],
                [
                  "9",
                  "",
                  "",
                  "UMLS:C0027497_nausea"
                ],
                [
                  "10",
                  "",
                  "",
                  "UMLS:C0002962_angina\n  pectoris"
                ],
                [
                  "11",
                  "",
                  "",
                  "UMLS:C0438716_pressure\n  chest"
                ],
                [
                  "12",
                  "UMLS:C0011847_diabetes",
                  "1421",
                  "UMLS:C0032617_polyuria"
                ],
                [
                  "13",
                  "",
                  "",
                  "UMLS:C0085602_polydypsia"
                ],
                [
                  "14",
                  "",
                  "",
                  "UMLS:C0392680_shortness\n  of breath"
                ],
                [
                  "15",
                  "",
                  "",
                  "UMLS:C0008031_pain\n  chest"
                ],
                [
                  "16",
                  "",
                  "",
                  "UMLS:C0004093_asthenia"
                ],
                [
                  "17",
                  "",
                  "",
                  "UMLS:C0027497_nausea"
                ],
                [
                  "18",
                  "",
                  "",
                  "UMLS:C0085619_orthopnea"
                ],
                [
                  "19",
                  "",
                  "",
                  "UMLS:C0034642_rale"
                ],
                [
                  "20",
                  "",
                  "",
                  "UMLS:C0038990_sweat^UMLS:C0700590_sweating\n  increased"
                ],
                [
                  "21",
                  "",
                  "",
                  "UMLS:C0241526_unresponsiveness"
                ],
                [
                  "22",
                  "",
                  "",
                  "UMLS:C0856054_mental\n  status changes"
                ],
                [
                  "23",
                  "",
                  "",
                  "UMLS:C0042571_vertigo"
                ],
                [
                  "24",
                  "",
                  "",
                  "UMLS:C0042963_vomiting"
                ],
                [
                  "25",
                  "",
                  "",
                  "UMLS:C0553668_labored breathing"
                ],
                [
                  "26",
                  "UMLS:C0011570_depression\n  mental^UMLS:C0011581_depressive disorder",
                  "1337",
                  "UMLS:C0424000_feeling\n  suicidal"
                ],
                [
                  "27",
                  "",
                  "",
                  "UMLS:C0438696_suicidal"
                ],
                [
                  "28",
                  "",
                  "",
                  "UMLS:C0233762_hallucinations\n  auditory"
                ],
                [
                  "29",
                  "",
                  "",
                  "UMLS:C0150041_feeling\n  hopeless"
                ],
                [
                  "30",
                  "",
                  "",
                  "UMLS:C0424109_weepiness"
                ],
                [
                  "31",
                  "",
                  "",
                  "UMLS:C0917801_sleeplessness"
                ],
                [
                  "32",
                  "",
                  "",
                  "UMLS:C0424230_motor\n  retardation"
                ],
                [
                  "33",
                  "",
                  "",
                  "UMLS:C0022107_irritable\n  mood"
                ],
                [
                  "34",
                  "",
                  "",
                  "UMLS:C0312422_blackout"
                ],
                [
                  "35",
                  "",
                  "",
                  "UMLS:C0344315_mood\n  depressed"
                ],
                [
                  "36",
                  "",
                  "",
                  "UMLS:C0233763_hallucinations\n  visual"
                ],
                [
                  "37",
                  "",
                  "",
                  "UMLS:C0233481_worry"
                ],
                [
                  "38",
                  "",
                  "",
                  "UMLS:C0085631_agitation"
                ],
                [
                  "39",
                  "",
                  "",
                  "UMLS:C0040822_tremor"
                ],
                [
                  "40",
                  "",
                  "",
                  "UMLS:C0728899_intoxication"
                ],
                [
                  "41",
                  "",
                  "",
                  "UMLS:C0424068_verbal\n  auditory hallucinations"
                ],
                [
                  "42",
                  "",
                  "",
                  "UMLS:C0455769_energy\n  increased"
                ],
                [
                  "43",
                  "",
                  "",
                  "UMLS:C1299586_difficulty"
                ],
                [
                  "44",
                  "",
                  "",
                  "UMLS:C0028084_nightmare"
                ],
                [
                  "45",
                  "",
                  "",
                  "UMLS:C0235198_unable\n  to concentrate"
                ],
                [
                  "46",
                  "",
                  "",
                  "UMLS:C0237154_homelessness"
                ],
                [
                  "47",
                  "UMLS:C0010054_coronary\n  arteriosclerosis^UMLS:C0010068_coronary heart disease",
                  "1284",
                  "UMLS:C0008031_pain\n  chest"
                ],
                [
                  "48",
                  "",
                  "",
                  "UMLS:C0002962_angina\n  pectoris"
                ],
                [
                  "49",
                  "",
                  "",
                  "UMLS:C0392680_shortness\n  of breath"
                ]
              ],
              "shape": {
                "columns": 3,
                "rows": 1866
              }
            },
            "text/html": [
              "<div>\n",
              "<style scoped>\n",
              "    .dataframe tbody tr th:only-of-type {\n",
              "        vertical-align: middle;\n",
              "    }\n",
              "\n",
              "    .dataframe tbody tr th {\n",
              "        vertical-align: top;\n",
              "    }\n",
              "\n",
              "    .dataframe thead th {\n",
              "        text-align: right;\n",
              "    }\n",
              "</style>\n",
              "<table border=\"1\" class=\"dataframe\">\n",
              "  <thead>\n",
              "    <tr style=\"text-align: right;\">\n",
              "      <th></th>\n",
              "      <th>Disease</th>\n",
              "      <th>Count of Disease\\n  Occurrence</th>\n",
              "      <th>Symptom</th>\n",
              "    </tr>\n",
              "  </thead>\n",
              "  <tbody>\n",
              "    <tr>\n",
              "      <th>0</th>\n",
              "      <td>UMLS:C0020538_hypertensive\\n  disease</td>\n",
              "      <td>3363</td>\n",
              "      <td>UMLS:C0008031_pain\\n  chest</td>\n",
              "    </tr>\n",
              "    <tr>\n",
              "      <th>1</th>\n",
              "      <td></td>\n",
              "      <td></td>\n",
              "      <td>UMLS:C0392680_shortness\\n  of breath</td>\n",
              "    </tr>\n",
              "    <tr>\n",
              "      <th>2</th>\n",
              "      <td></td>\n",
              "      <td></td>\n",
              "      <td>UMLS:C0012833_dizziness</td>\n",
              "    </tr>\n",
              "    <tr>\n",
              "      <th>3</th>\n",
              "      <td></td>\n",
              "      <td></td>\n",
              "      <td>UMLS:C0004093_asthenia</td>\n",
              "    </tr>\n",
              "    <tr>\n",
              "      <th>4</th>\n",
              "      <td></td>\n",
              "      <td></td>\n",
              "      <td>UMLS:C0085639_fall</td>\n",
              "    </tr>\n",
              "    <tr>\n",
              "      <th>...</th>\n",
              "      <td>...</td>\n",
              "      <td>...</td>\n",
              "      <td>...</td>\n",
              "    </tr>\n",
              "    <tr>\n",
              "      <th>1861</th>\n",
              "      <td></td>\n",
              "      <td></td>\n",
              "      <td>UMLS:C0425251_bedridden^UMLS:C0741453_bedridden</td>\n",
              "    </tr>\n",
              "    <tr>\n",
              "      <th>1862</th>\n",
              "      <td></td>\n",
              "      <td></td>\n",
              "      <td>UMLS:C0242453_prostatism</td>\n",
              "    </tr>\n",
              "    <tr>\n",
              "      <th>1863</th>\n",
              "      <td>UMLS:C0011127_decubitus\\n  ulcer</td>\n",
              "      <td>42</td>\n",
              "      <td>UMLS:C0232257_systolic murmur</td>\n",
              "    </tr>\n",
              "    <tr>\n",
              "      <th>1864</th>\n",
              "      <td></td>\n",
              "      <td></td>\n",
              "      <td>UMLS:C0871754_frail</td>\n",
              "    </tr>\n",
              "    <tr>\n",
              "      <th>1865</th>\n",
              "      <td></td>\n",
              "      <td></td>\n",
              "      <td>UMLS:C0015967_fever</td>\n",
              "    </tr>\n",
              "  </tbody>\n",
              "</table>\n",
              "<p>1866 rows × 3 columns</p>\n",
              "</div>"
            ],
            "text/plain": [
              "                                    Disease Count of Disease\\n  Occurrence  \\\n",
              "0     UMLS:C0020538_hypertensive\\n  disease                           3363   \n",
              "1                                                                            \n",
              "2                                                                            \n",
              "3                                                                            \n",
              "4                                                                            \n",
              "...                                     ...                            ...   \n",
              "1861                                                                         \n",
              "1862                                                                         \n",
              "1863       UMLS:C0011127_decubitus\\n  ulcer                             42   \n",
              "1864                                                                         \n",
              "1865                                                                         \n",
              "\n",
              "                                              Symptom  \n",
              "0                         UMLS:C0008031_pain\\n  chest  \n",
              "1                UMLS:C0392680_shortness\\n  of breath  \n",
              "2                             UMLS:C0012833_dizziness  \n",
              "3                              UMLS:C0004093_asthenia  \n",
              "4                                  UMLS:C0085639_fall  \n",
              "...                                               ...  \n",
              "1861  UMLS:C0425251_bedridden^UMLS:C0741453_bedridden  \n",
              "1862                         UMLS:C0242453_prostatism  \n",
              "1863                    UMLS:C0232257_systolic murmur  \n",
              "1864                              UMLS:C0871754_frail  \n",
              "1865                              UMLS:C0015967_fever  \n",
              "\n",
              "[1866 rows x 3 columns]"
            ]
          },
          "execution_count": 10,
          "metadata": {},
          "output_type": "execute_result"
        }
      ],
      "source": [
        "# Fetch Disease-symptoms knowledge database\n",
        "url = 'https://people.dbmi.columbia.edu/~friedma/Projects/DiseaseSymptomKB/index.html'\n",
        "\n",
        "# Request page content\n",
        "headers = {'User-Agent': 'Mozilla/5.0'}\n",
        "response = requests.get(url, headers=headers)\n",
        "\n",
        "if response.status_code == 200:\n",
        "    soup = BeautifulSoup(response.text, 'html.parser')\n",
        "    tables = soup.find_all('table', {'class': 'MsoTableWeb3'})\n",
        "\n",
        "    if len(tables) > 0:\n",
        "        table = tables[0]\n",
        "        rows = table.find_all('tr')\n",
        "\n",
        "        # Extract header from the first row\n",
        "        headers = [th.get_text(strip=True) for th in rows[0].find_all(['th', 'td'])]\n",
        "\n",
        "        # Extract all subsequent rows into a list of lists\n",
        "        data = []\n",
        "        for row in rows[1:]:\n",
        "            cols = row.find_all('td')\n",
        "            cols = [col.get_text(strip=True) for col in cols]\n",
        "            if cols:\n",
        "                data.append(cols)\n",
        "\n",
        "        # Create DataFrame\n",
        "        df = pd.DataFrame(data, columns=headers)\n",
        "\n",
        "        # Print preview\n",
        "        print(\"Table scraped successfully\")\n",
        "\n",
        "\n",
        "        # Now df holds your table as a DataFrame and you can continue using it\n",
        "    else:\n",
        "        print(\"No table with class 'MsoTableWeb3' found.\")\n",
        "else:\n",
        "    print(f\"Failed to fetch the page. Status code: {response.status_code}\")\n",
        "df"
      ]
    },
    {
      "cell_type": "code",
      "execution_count": 11,
      "metadata": {},
      "outputs": [
        {
          "name": "stdout",
          "output_type": "stream",
          "text": [
            "Total occurrences of 'UMLS' in 'Disease' column: 149\n",
            "\n",
            "Rows with more than one 'UMLS':\n"
          ]
        },
        {
          "data": {
            "application/vnd.microsoft.datawrangler.viewer.v0+json": {
              "columns": [
                {
                  "name": "index",
                  "rawType": "int64",
                  "type": "integer"
                },
                {
                  "name": "Disease",
                  "rawType": "object",
                  "type": "string"
                },
                {
                  "name": "UMLS_Count",
                  "rawType": "int64",
                  "type": "integer"
                }
              ],
              "conversionMethod": "pd.DataFrame",
              "ref": "16d3c6a6-cf23-45f4-acff-0efbb5f5fce7",
              "rows": [
                [
                  "26",
                  "UMLS:C0011570_depression\n  mental^UMLS:C0011581_depressive disorder",
                  "2"
                ],
                [
                  "47",
                  "UMLS:C0010054_coronary\n  arteriosclerosis^UMLS:C0010068_coronary heart disease",
                  "2"
                ],
                [
                  "295",
                  "UMLS:C0006826_malignant\n  neoplasms^UMLS:C1306459_primary malignant neoplasm",
                  "2"
                ],
                [
                  "305",
                  "UMLS:C0001175_acquiredimmuno-deficiency\n  syndrome^UMLS:C0019682_HIV^UMLS:C0019693_hiv infections",
                  "3"
                ],
                [
                  "350",
                  "UMLS:C0036690_septicemia^UMLS:C0243026_systemic\n  infection^UMLS:C1090821_sepsis (invertebrate)",
                  "3"
                ],
                [
                  "819",
                  "UMLS:C0376358_malignant\n  neoplasm of prostate^UMLS:C0600139_carcinoma prostate",
                  "2"
                ],
                [
                  "885",
                  "UMLS:C0006142_malignant\n  neoplasm of breast^UMLS:C0678222_carcinoma breast",
                  "2"
                ],
                [
                  "1294",
                  "UMLS:C0006840_candidiasis^UMLS:C0006849_oralcandidiasis",
                  "2"
                ],
                [
                  "1357",
                  "UMLS:C0007102_malignant\n  tumor of colon^UMLS:C0699790_carcinoma colon",
                  "2"
                ],
                [
                  "1387",
                  "UMLS:C0014549_tonic-clonic\n  epilepsy^UMLS:C0494475_tonic-clonic seizures",
                  "2"
                ],
                [
                  "1454",
                  "UMLS:C0242379_malignant\n  neoplasm of lung^UMLS:C0684249_carcinoma of lung",
                  "2"
                ],
                [
                  "1625",
                  "UMLS:C0031039_effusion\n  pericardial^UMLS:C1253937_pericardial effusion body substance",
                  "2"
                ],
                [
                  "1784",
                  "UMLS:C0008350_cholelithiasis^UMLS:C0242216_biliary\n  calculus",
                  "2"
                ]
              ],
              "shape": {
                "columns": 2,
                "rows": 13
              }
            },
            "text/html": [
              "<div>\n",
              "<style scoped>\n",
              "    .dataframe tbody tr th:only-of-type {\n",
              "        vertical-align: middle;\n",
              "    }\n",
              "\n",
              "    .dataframe tbody tr th {\n",
              "        vertical-align: top;\n",
              "    }\n",
              "\n",
              "    .dataframe thead th {\n",
              "        text-align: right;\n",
              "    }\n",
              "</style>\n",
              "<table border=\"1\" class=\"dataframe\">\n",
              "  <thead>\n",
              "    <tr style=\"text-align: right;\">\n",
              "      <th></th>\n",
              "      <th>Disease</th>\n",
              "      <th>UMLS_Count</th>\n",
              "    </tr>\n",
              "  </thead>\n",
              "  <tbody>\n",
              "    <tr>\n",
              "      <th>26</th>\n",
              "      <td>UMLS:C0011570_depression\\n  mental^UMLS:C00115...</td>\n",
              "      <td>2</td>\n",
              "    </tr>\n",
              "    <tr>\n",
              "      <th>47</th>\n",
              "      <td>UMLS:C0010054_coronary\\n  arteriosclerosis^UML...</td>\n",
              "      <td>2</td>\n",
              "    </tr>\n",
              "    <tr>\n",
              "      <th>295</th>\n",
              "      <td>UMLS:C0006826_malignant\\n  neoplasms^UMLS:C130...</td>\n",
              "      <td>2</td>\n",
              "    </tr>\n",
              "    <tr>\n",
              "      <th>305</th>\n",
              "      <td>UMLS:C0001175_acquiredimmuno-deficiency\\n  syn...</td>\n",
              "      <td>3</td>\n",
              "    </tr>\n",
              "    <tr>\n",
              "      <th>350</th>\n",
              "      <td>UMLS:C0036690_septicemia^UMLS:C0243026_systemi...</td>\n",
              "      <td>3</td>\n",
              "    </tr>\n",
              "    <tr>\n",
              "      <th>819</th>\n",
              "      <td>UMLS:C0376358_malignant\\n  neoplasm of prostat...</td>\n",
              "      <td>2</td>\n",
              "    </tr>\n",
              "    <tr>\n",
              "      <th>885</th>\n",
              "      <td>UMLS:C0006142_malignant\\n  neoplasm of breast^...</td>\n",
              "      <td>2</td>\n",
              "    </tr>\n",
              "    <tr>\n",
              "      <th>1294</th>\n",
              "      <td>UMLS:C0006840_candidiasis^UMLS:C0006849_oralca...</td>\n",
              "      <td>2</td>\n",
              "    </tr>\n",
              "    <tr>\n",
              "      <th>1357</th>\n",
              "      <td>UMLS:C0007102_malignant\\n  tumor of colon^UMLS...</td>\n",
              "      <td>2</td>\n",
              "    </tr>\n",
              "    <tr>\n",
              "      <th>1387</th>\n",
              "      <td>UMLS:C0014549_tonic-clonic\\n  epilepsy^UMLS:C0...</td>\n",
              "      <td>2</td>\n",
              "    </tr>\n",
              "    <tr>\n",
              "      <th>1454</th>\n",
              "      <td>UMLS:C0242379_malignant\\n  neoplasm of lung^UM...</td>\n",
              "      <td>2</td>\n",
              "    </tr>\n",
              "    <tr>\n",
              "      <th>1625</th>\n",
              "      <td>UMLS:C0031039_effusion\\n  pericardial^UMLS:C12...</td>\n",
              "      <td>2</td>\n",
              "    </tr>\n",
              "    <tr>\n",
              "      <th>1784</th>\n",
              "      <td>UMLS:C0008350_cholelithiasis^UMLS:C0242216_bil...</td>\n",
              "      <td>2</td>\n",
              "    </tr>\n",
              "  </tbody>\n",
              "</table>\n",
              "</div>"
            ],
            "text/plain": [
              "                                                Disease  UMLS_Count\n",
              "26    UMLS:C0011570_depression\\n  mental^UMLS:C00115...           2\n",
              "47    UMLS:C0010054_coronary\\n  arteriosclerosis^UML...           2\n",
              "295   UMLS:C0006826_malignant\\n  neoplasms^UMLS:C130...           2\n",
              "305   UMLS:C0001175_acquiredimmuno-deficiency\\n  syn...           3\n",
              "350   UMLS:C0036690_septicemia^UMLS:C0243026_systemi...           3\n",
              "819   UMLS:C0376358_malignant\\n  neoplasm of prostat...           2\n",
              "885   UMLS:C0006142_malignant\\n  neoplasm of breast^...           2\n",
              "1294  UMLS:C0006840_candidiasis^UMLS:C0006849_oralca...           2\n",
              "1357  UMLS:C0007102_malignant\\n  tumor of colon^UMLS...           2\n",
              "1387  UMLS:C0014549_tonic-clonic\\n  epilepsy^UMLS:C0...           2\n",
              "1454  UMLS:C0242379_malignant\\n  neoplasm of lung^UM...           2\n",
              "1625  UMLS:C0031039_effusion\\n  pericardial^UMLS:C12...           2\n",
              "1784  UMLS:C0008350_cholelithiasis^UMLS:C0242216_bil...           2"
            ]
          },
          "metadata": {},
          "output_type": "display_data"
        }
      ],
      "source": [
        "# Step 1: Add a column to count the occurrences of \"UMLS\" in each row\n",
        "df['UMLS_Count'] = df['Disease'].fillna('').str.count('UMLS')\n",
        "\n",
        "# Step 2: Calculate the total occurrences of \"UMLS\" in the 'Disease' column\n",
        "disease_umls_count = df['UMLS_Count'].sum()\n",
        "\n",
        "# Print the total count of \"UMLS\"\n",
        "print(f\"Total occurrences of 'UMLS' in 'Disease' column: {disease_umls_count}\")\n",
        "\n",
        "# Step 3: Identify rows where a cell contains more than one occurrence of \"UMLS\"\n",
        "rows_with_multiple_umls = df[df['UMLS_Count'] > 1]\n",
        "\n",
        "# Print these rows\n",
        "print(\"\\nRows with more than one 'UMLS':\")\n",
        "display(rows_with_multiple_umls[['Disease','UMLS_Count']])"
      ]
    },
    {
      "cell_type": "code",
      "execution_count": 12,
      "metadata": {
        "colab": {
          "base_uri": "https://localhost:8080/"
        },
        "id": "zXkn5daBUaPk",
        "outputId": "b68b14e3-08ef-4f9b-8cfa-a0d8a749fad2"
      },
      "outputs": [
        {
          "name": "stdout",
          "output_type": "stream",
          "text": [
            "\n",
            "Duplicate disease_ids:\n",
            "   disease_id               d_name\n",
            "20   C0006826  malignant neoplasms\n",
            "99   C0006826   malignantneoplasms\n",
            "\n",
            "Duplicates dropped, DataFrame Updated.\n",
            "\n",
            "Final diseases_df created with 133 records.\n"
          ]
        },
        {
          "data": {
            "application/vnd.microsoft.datawrangler.viewer.v0+json": {
              "columns": [
                {
                  "name": "index",
                  "rawType": "int64",
                  "type": "integer"
                },
                {
                  "name": "disease_id",
                  "rawType": "object",
                  "type": "string"
                },
                {
                  "name": "d_name",
                  "rawType": "object",
                  "type": "string"
                }
              ],
              "conversionMethod": "pd.DataFrame",
              "ref": "de925cdc-b3eb-4867-8e4d-6cadc05828a5",
              "rows": [
                [
                  "0",
                  "C0020538",
                  "hypertensive disease"
                ],
                [
                  "1",
                  "C0011847",
                  "diabetes"
                ],
                [
                  "2",
                  "C0011570",
                  "depression mental"
                ],
                [
                  "3",
                  "C0010054",
                  "coronary arteriosclerosis"
                ],
                [
                  "4",
                  "C0032285",
                  "pneumonia"
                ],
                [
                  "5",
                  "C0018802",
                  "failure heart congestive"
                ],
                [
                  "6",
                  "C0038454",
                  "accidentcerebrovascular"
                ],
                [
                  "7",
                  "C0004096",
                  "asthma"
                ],
                [
                  "8",
                  "C0027051",
                  "myocardial infarction"
                ],
                [
                  "9",
                  "C0020443",
                  "hypercholesterolemia"
                ],
                [
                  "10",
                  "C0021311",
                  "infection"
                ],
                [
                  "11",
                  "C0042029",
                  "infection urinary tract"
                ],
                [
                  "12",
                  "C0002871",
                  "anemia"
                ],
                [
                  "13",
                  "C0024117",
                  "chronic obstructive airway disease"
                ],
                [
                  "14",
                  "C0497327",
                  "dementia"
                ],
                [
                  "15",
                  "C1565489",
                  "insufficiency renal"
                ],
                [
                  "16",
                  "C0009676",
                  "confusion"
                ],
                [
                  "17",
                  "C0029408",
                  "degenerativepolyarthritis"
                ],
                [
                  "18",
                  "C0020676",
                  "hypothyroidism"
                ],
                [
                  "19",
                  "C0700613",
                  "anxiety state"
                ],
                [
                  "20",
                  "C0006826",
                  "malignant neoplasms"
                ],
                [
                  "21",
                  "C0001175",
                  "acquiredimmuno-deficiency syndrome"
                ],
                [
                  "22",
                  "C0007642",
                  "cellulitis"
                ],
                [
                  "23",
                  "C0017168",
                  "gastroesophageal reflux disease"
                ],
                [
                  "24",
                  "C0036690",
                  "septicemia"
                ],
                [
                  "25",
                  "C0149871",
                  "deep vein thrombosis"
                ],
                [
                  "26",
                  "C0011175",
                  "dehydration"
                ],
                [
                  "27",
                  "C0027651",
                  "neoplasm"
                ],
                [
                  "28",
                  "C0034065",
                  "embolism pulmonary"
                ],
                [
                  "29",
                  "C0014544",
                  "epilepsy"
                ],
                [
                  "30",
                  "C0878544",
                  "cardiomyopathy"
                ],
                [
                  "31",
                  "C0022661",
                  "chronic kidney failure"
                ],
                [
                  "32",
                  "C0007097",
                  "carcinoma"
                ],
                [
                  "33",
                  "C0019196",
                  "hepatitis c"
                ],
                [
                  "34",
                  "C0085096",
                  "peripheral vascular disease"
                ],
                [
                  "35",
                  "C0033975",
                  "psychotic disorder"
                ],
                [
                  "36",
                  "C0020473",
                  "hyperlipidemia"
                ],
                [
                  "37",
                  "C0005586",
                  "bipolar disorder"
                ],
                [
                  "38",
                  "C0028754",
                  "obesity"
                ],
                [
                  "39",
                  "C0022116",
                  "ischemia"
                ],
                [
                  "40",
                  "C1623038",
                  "cirrhosis"
                ],
                [
                  "41",
                  "C0015230",
                  "exanthema"
                ],
                [
                  "42",
                  "C0005001",
                  "benign prostatic hypertrophy"
                ],
                [
                  "43",
                  "C0022660",
                  "kidney failure acute"
                ],
                [
                  "44",
                  "C0026266",
                  "mitral valve insufficiency"
                ],
                [
                  "45",
                  "C0003864",
                  "arthritis"
                ],
                [
                  "46",
                  "C0006277",
                  "bronchitis"
                ],
                [
                  "47",
                  "C0018989",
                  "hemiparesis"
                ],
                [
                  "48",
                  "C0029456",
                  "osteoporosis"
                ],
                [
                  "49",
                  "C0007787",
                  "transient ischemic attack"
                ]
              ],
              "shape": {
                "columns": 2,
                "rows": 133
              }
            },
            "text/html": [
              "<div>\n",
              "<style scoped>\n",
              "    .dataframe tbody tr th:only-of-type {\n",
              "        vertical-align: middle;\n",
              "    }\n",
              "\n",
              "    .dataframe tbody tr th {\n",
              "        vertical-align: top;\n",
              "    }\n",
              "\n",
              "    .dataframe thead th {\n",
              "        text-align: right;\n",
              "    }\n",
              "</style>\n",
              "<table border=\"1\" class=\"dataframe\">\n",
              "  <thead>\n",
              "    <tr style=\"text-align: right;\">\n",
              "      <th></th>\n",
              "      <th>disease_id</th>\n",
              "      <th>d_name</th>\n",
              "    </tr>\n",
              "  </thead>\n",
              "  <tbody>\n",
              "    <tr>\n",
              "      <th>0</th>\n",
              "      <td>C0020538</td>\n",
              "      <td>hypertensive disease</td>\n",
              "    </tr>\n",
              "    <tr>\n",
              "      <th>1</th>\n",
              "      <td>C0011847</td>\n",
              "      <td>diabetes</td>\n",
              "    </tr>\n",
              "    <tr>\n",
              "      <th>2</th>\n",
              "      <td>C0011570</td>\n",
              "      <td>depression mental</td>\n",
              "    </tr>\n",
              "    <tr>\n",
              "      <th>3</th>\n",
              "      <td>C0010054</td>\n",
              "      <td>coronary arteriosclerosis</td>\n",
              "    </tr>\n",
              "    <tr>\n",
              "      <th>4</th>\n",
              "      <td>C0032285</td>\n",
              "      <td>pneumonia</td>\n",
              "    </tr>\n",
              "    <tr>\n",
              "      <th>...</th>\n",
              "      <td>...</td>\n",
              "      <td>...</td>\n",
              "    </tr>\n",
              "    <tr>\n",
              "      <th>129</th>\n",
              "      <td>C1258215</td>\n",
              "      <td>ileus</td>\n",
              "    </tr>\n",
              "    <tr>\n",
              "      <th>130</th>\n",
              "      <td>C0001511</td>\n",
              "      <td>adhesion</td>\n",
              "    </tr>\n",
              "    <tr>\n",
              "      <th>131</th>\n",
              "      <td>C0011253</td>\n",
              "      <td>delusion</td>\n",
              "    </tr>\n",
              "    <tr>\n",
              "      <th>132</th>\n",
              "      <td>C0233472</td>\n",
              "      <td>affect labile</td>\n",
              "    </tr>\n",
              "    <tr>\n",
              "      <th>133</th>\n",
              "      <td>C0011127</td>\n",
              "      <td>decubitus ulcer</td>\n",
              "    </tr>\n",
              "  </tbody>\n",
              "</table>\n",
              "<p>133 rows × 2 columns</p>\n",
              "</div>"
            ],
            "text/plain": [
              "    disease_id                     d_name\n",
              "0     C0020538       hypertensive disease\n",
              "1     C0011847                   diabetes\n",
              "2     C0011570          depression mental\n",
              "3     C0010054  coronary arteriosclerosis\n",
              "4     C0032285                  pneumonia\n",
              "..         ...                        ...\n",
              "129   C1258215                      ileus\n",
              "130   C0001511                   adhesion\n",
              "131   C0011253                   delusion\n",
              "132   C0233472              affect labile\n",
              "133   C0011127            decubitus ulcer\n",
              "\n",
              "[133 rows x 2 columns]"
            ]
          },
          "execution_count": 12,
          "metadata": {},
          "output_type": "execute_result"
        }
      ],
      "source": [
        "# Step 1: Clean and normalize the 'Disease' column\n",
        "df['Disease'] = df['Disease'].str.replace('\\n', ' ', regex=False).str.strip()\n",
        "\n",
        "# Step 2: Filter rows containing valid 'UMLS:' entries\n",
        "disease_rows = df[df['Disease'].notna() & df['Disease'].str.contains('UMLS:')]\n",
        "\n",
        "# Step 3: Extract the first valid disease_id and d_name from each cell\n",
        "disease_list = []  \n",
        "seen_diseases = set()  \n",
        "\n",
        "for row in disease_rows['Disease']:\n",
        "    # Extract the first occurrence of a valid \"UMLS:\" entry\n",
        "    entry = next((e.strip() for e in row.split('^') if e.startswith(\"UMLS:\")), None)\n",
        "    if entry and '_' in entry:  \n",
        "        parts = entry.split('_', 1)  \n",
        "        if len(parts) == 2:\n",
        "            disease_id = parts[0].replace(\"UMLS:\", \"\").strip()  \n",
        "            # Replace underscores with spaces, then normalize spaces in d_name\n",
        "            d_name = ' '.join(parts[1].replace('_', ' ').split()).lower()\n",
        "            if (disease_id, d_name) not in seen_diseases:  \n",
        "                disease_list.append({'disease_id': disease_id, 'd_name': d_name})\n",
        "                seen_diseases.add((disease_id, d_name))\n",
        "    else:\n",
        "        # Log unmatched or invalid entries for debugging\n",
        "        print(f\"Unmatched or invalid entry: '{row}'\")\n",
        "\n",
        "# Step 4: Convert to DataFrame\n",
        "if disease_list:\n",
        "    diseases_df = pd.DataFrame(disease_list)\n",
        "\n",
        "    # Step 5: Check for duplicate disease_id values\n",
        "    duplicates = diseases_df[diseases_df['disease_id'].duplicated(keep=False)]  \n",
        "    print(\"\\nDuplicate disease_ids:\")\n",
        "    print(duplicates)\n",
        "\n",
        "    # Step 6: Drop duplicate rows and keep the first occurrence\n",
        "    diseases_df = diseases_df.drop_duplicates(subset='disease_id', keep='first')\n",
        "    print(\"\\nDuplicates dropped, DataFrame Updated.\")\n",
        "\n",
        "    # Final Output\n",
        "    print(f\"\\nFinal diseases_df created with {len(diseases_df)} records.\")\n",
        "else:\n",
        "    print(\"No valid disease entries found.\")\n",
        "\n",
        "# Display the resulting DataFrame\n",
        "diseases_df\n"
      ]
    },
    {
      "cell_type": "code",
      "execution_count": 13,
      "metadata": {
        "colab": {
          "base_uri": "https://localhost:8080/"
        },
        "id": "WG60T4K1fhaM",
        "outputId": "bc011a73-3f67-4bc4-d06e-b93784c4fea1"
      },
      "outputs": [
        {
          "name": "stdout",
          "output_type": "stream",
          "text": [
            "Disease Names:\n",
            "{0: 'hypertensive disease',\n",
            " 1: 'diabetes',\n",
            " 2: 'depression mental',\n",
            " 3: 'coronary arteriosclerosis',\n",
            " 4: 'pneumonia',\n",
            " 5: 'failure heart congestive',\n",
            " 6: 'accidentcerebrovascular',\n",
            " 7: 'asthma',\n",
            " 8: 'myocardial infarction',\n",
            " 9: 'hypercholesterolemia',\n",
            " 10: 'infection',\n",
            " 11: 'infection urinary tract',\n",
            " 12: 'anemia',\n",
            " 13: 'chronic obstructive airway disease',\n",
            " 14: 'dementia',\n",
            " 15: 'insufficiency renal',\n",
            " 16: 'confusion',\n",
            " 17: 'degenerativepolyarthritis',\n",
            " 18: 'hypothyroidism',\n",
            " 19: 'anxiety state',\n",
            " 20: 'malignant neoplasms',\n",
            " 21: 'acquiredimmuno-deficiency syndrome',\n",
            " 22: 'cellulitis',\n",
            " 23: 'gastroesophageal reflux disease',\n",
            " 24: 'septicemia',\n",
            " 25: 'deep vein thrombosis',\n",
            " 26: 'dehydration',\n",
            " 27: 'neoplasm',\n",
            " 28: 'embolism pulmonary',\n",
            " 29: 'epilepsy',\n",
            " 30: 'cardiomyopathy',\n",
            " 31: 'chronic kidney failure',\n",
            " 32: 'carcinoma',\n",
            " 33: 'hepatitis c',\n",
            " 34: 'peripheral vascular disease',\n",
            " 35: 'psychotic disorder',\n",
            " 36: 'hyperlipidemia',\n",
            " 37: 'bipolar disorder',\n",
            " 38: 'obesity',\n",
            " 39: 'ischemia',\n",
            " 40: 'cirrhosis',\n",
            " 41: 'exanthema',\n",
            " 42: 'benign prostatic hypertrophy',\n",
            " 43: 'kidney failure acute',\n",
            " 44: 'mitral valve insufficiency',\n",
            " 45: 'arthritis',\n",
            " 46: 'bronchitis',\n",
            " 47: 'hemiparesis',\n",
            " 48: 'osteoporosis',\n",
            " 49: 'transient ischemic attack',\n",
            " 50: 'adenocarcinoma',\n",
            " 51: 'paranoia',\n",
            " 52: 'pancreatitis',\n",
            " 53: 'incontinence',\n",
            " 54: 'paroxysmaldyspnea',\n",
            " 55: 'hernia',\n",
            " 56: 'malignant neoplasm of prostate',\n",
            " 57: 'edema pulmonary',\n",
            " 58: 'lymphatic diseases',\n",
            " 59: 'stenosis aortic valve',\n",
            " 60: 'malignant neoplasm of breast',\n",
            " 61: 'schizophrenia',\n",
            " 62: 'diverticulitis',\n",
            " 63: 'overload fluid',\n",
            " 64: 'ulcer peptic',\n",
            " 65: 'osteomyelitis',\n",
            " 66: 'gastritis',\n",
            " 67: 'bacteremia',\n",
            " 68: 'failure kidney',\n",
            " 69: 'sickle cell anemia',\n",
            " 70: 'failure heart',\n",
            " 71: 'upper respiratory infection',\n",
            " 72: 'hepatitis',\n",
            " 73: 'hypertension pulmonary',\n",
            " 74: 'deglutition disorder',\n",
            " 75: 'gout',\n",
            " 76: 'thrombocytopaenia',\n",
            " 77: 'hypoglycemia',\n",
            " 78: 'pneumonia aspiration',\n",
            " 79: 'colitis',\n",
            " 80: 'diverticulosis',\n",
            " 81: 'suicide attempt',\n",
            " 82: 'pneumocystiscariniipneumonia',\n",
            " 83: 'hepatitis b',\n",
            " 84: 'parkinson disease',\n",
            " 85: 'lymphoma',\n",
            " 86: 'hyperglycemia',\n",
            " 87: 'encephalopathy',\n",
            " 88: 'tricuspid valve insufficiency',\n",
            " 89: \"alzheimer's disease\",\n",
            " 90: 'candidiasis',\n",
            " 91: 'neuropathy',\n",
            " 92: 'kidney disease',\n",
            " 93: 'fibroid tumor',\n",
            " 94: 'glaucoma',\n",
            " 95: 'neoplasm metastasis',\n",
            " 96: 'malignant tumor of colon',\n",
            " 97: 'ketoacidosis diabetic',\n",
            " 98: 'tonic-clonic epilepsy',\n",
            " 100: 'respiratory failure',\n",
            " 101: 'melanoma',\n",
            " 102: 'gastroenteritis',\n",
            " 103: 'malignant neoplasm of lung',\n",
            " 104: 'manic disorder',\n",
            " 105: 'personality disorder',\n",
            " 106: 'primary carcinoma of the liver cells',\n",
            " 107: 'emphysema pulmonary',\n",
            " 108: 'hemorrhoids',\n",
            " 109: 'spasm bronchial',\n",
            " 110: 'aphasia',\n",
            " 111: 'obesity morbid',\n",
            " 112: 'pyelonephritis',\n",
            " 113: 'endocarditis',\n",
            " 114: 'effusion pericardial',\n",
            " 115: 'chronic alcoholic intoxication',\n",
            " 116: 'pneumothorax',\n",
            " 117: 'delirium',\n",
            " 118: 'neutropenia',\n",
            " 119: 'hyperbilirubinemia',\n",
            " 120: 'influenza',\n",
            " 121: 'dependence',\n",
            " 122: 'thrombus',\n",
            " 123: 'cholecystitis',\n",
            " 124: 'herniahiatal',\n",
            " 125: 'migraine disorders',\n",
            " 126: 'pancytopenia',\n",
            " 127: 'cholelithiasis',\n",
            " 128: 'tachycardia sinus',\n",
            " 129: 'ileus',\n",
            " 130: 'adhesion',\n",
            " 131: 'delusion',\n",
            " 132: 'affect labile',\n",
            " 133: 'decubitus ulcer'}\n"
          ]
        }
      ],
      "source": [
        "# Extract d_names into a dictionary with index as key\n",
        "if 'd_name' in diseases_df.columns:\n",
        "    d_names_dict = diseases_df['d_name'].to_dict()  \n",
        "    print(\"Disease Names:\")\n",
        "    pprint(d_names_dict)  \n",
        "else:\n",
        "    print(\"The 'd_name' column is missing!\")"
      ]
    },
    {
      "cell_type": "code",
      "execution_count": 14,
      "metadata": {
        "colab": {
          "base_uri": "https://localhost:8080/",
          "height": 206
        },
        "id": "aFbjyvQEaT6t",
        "outputId": "6303ca4e-d79c-4b19-e1ef-db2912c56499"
      },
      "outputs": [
        {
          "name": "stdout",
          "output_type": "stream",
          "text": [
            "\n",
            "Updated diseases_df with reset index:\n"
          ]
        },
        {
          "data": {
            "application/vnd.microsoft.datawrangler.viewer.v0+json": {
              "columns": [
                {
                  "name": "index",
                  "rawType": "int64",
                  "type": "integer"
                },
                {
                  "name": "disease_id",
                  "rawType": "object",
                  "type": "string"
                },
                {
                  "name": "d_name",
                  "rawType": "object",
                  "type": "string"
                },
                {
                  "name": "description",
                  "rawType": "object",
                  "type": "string"
                }
              ],
              "conversionMethod": "pd.DataFrame",
              "ref": "691913dc-fa32-4dba-b6c3-c7055183a698",
              "rows": [
                [
                  "0",
                  "C0020538",
                  "Hypertensive Disease",
                  "Chronic High Blood Pressure Increases Risk Of Heart Disease, Stroke, And Kidney Damage."
                ],
                [
                  "1",
                  "C0011847",
                  "Diabetes",
                  "A Metabolic Disorder Causing Elevated Blood Sugar Levels Due To Insulin Issues."
                ],
                [
                  "2",
                  "C0011570",
                  "Depression Mental",
                  "A Condition Marked By Persistent Sadness, Low Energy, And Loss Of Interest."
                ],
                [
                  "3",
                  "C0010054",
                  "Coronary Arteriosclerosis",
                  "Hardening Of Coronary Arteries Reduces Blood Flow To The Heart."
                ],
                [
                  "4",
                  "C0032285",
                  "Pneumonia",
                  "A Lung Infection That Causes Cough, Fever, And Difficulty Breathing."
                ],
                [
                  "5",
                  "C0018802",
                  "Failure Heart Congestive",
                  "The Heart'S Reduced Ability To Pump Blood Effectively Causes Fluid Buildup."
                ],
                [
                  "6",
                  "C0038454",
                  "Accidentcerebrovascular",
                  "A Stroke Occurs When Blood Flow To The Brain Is Reduced Or Blocked."
                ],
                [
                  "7",
                  "C0004096",
                  "Asthma",
                  "A Chronic Respiratory Condition Causing Airway Inflammation And Breathing Difficulty."
                ],
                [
                  "8",
                  "C0027051",
                  "Myocardial Infarction",
                  "A Heart Attack Due To Blocked Blood Flow To Heart Muscles."
                ],
                [
                  "9",
                  "C0020443",
                  "Hypercholesterolemia",
                  "Elevated Blood Cholesterol Raises Risk Of Heart Disease."
                ],
                [
                  "10",
                  "C0021311",
                  "Infection",
                  "Invasion By Harmful Microorganisms Causing Illness Or Inflammation."
                ],
                [
                  "11",
                  "C0042029",
                  "Infection Urinary Tract",
                  "A Bacterial Infection Of The Urinary System Causing Discomfort."
                ],
                [
                  "12",
                  "C0002871",
                  "Anemia",
                  "A Condition Where Low Red Blood Cells Reduce Oxygen Delivery To Tissues."
                ],
                [
                  "13",
                  "C0024117",
                  "Chronic Obstructive Airway Disease",
                  "A Group Of Lung Diseases Causing Airflow Blockage And Breathing Issues."
                ],
                [
                  "14",
                  "C0497327",
                  "Dementia",
                  "A Decline In Memory, Thinking, And Daily Functioning Due To Brain Damage."
                ],
                [
                  "15",
                  "C1565489",
                  "Insufficiency Renal",
                  "The Kidneys Fail To Filter Waste Efficiently, Leading To Toxic Buildup."
                ],
                [
                  "16",
                  "C0009676",
                  "Confusion",
                  "A State Of Disorientation Affecting Memory Or Focus."
                ],
                [
                  "17",
                  "C0029408",
                  "Degenerativepolyarthritis",
                  "A Chronic Joint Condition Causing Pain And Inflammation."
                ],
                [
                  "18",
                  "C0020676",
                  "Hypothyroidism",
                  "The Thyroid Produces Insufficient Hormones, Slowing Metabolism."
                ],
                [
                  "19",
                  "C0700613",
                  "Anxiety State",
                  "A Mental Health Condition Marked By Excessive Worry Or Fear."
                ],
                [
                  "20",
                  "C0006826",
                  "Malignant Neoplasms",
                  "Cancerous Tumors Capable Of Invading Tissues And Spreading."
                ],
                [
                  "21",
                  "C0001175",
                  "Acquiredimmuno-Deficiency Syndrome",
                  "A Chronic Immune Condition Caused By Hiv."
                ],
                [
                  "22",
                  "C0007642",
                  "Cellulitis",
                  "A Bacterial Skin Infection Causing Redness, Swelling, And Pain."
                ],
                [
                  "23",
                  "C0017168",
                  "Gastroesophageal Reflux Disease",
                  "Acid Reflux Irritates The Esophagus, Causing Discomfort."
                ],
                [
                  "24",
                  "C0036690",
                  "Septicemia",
                  "A Severe Infection Spreading Through The Bloodstream."
                ],
                [
                  "25",
                  "C0149871",
                  "Deep Vein Thrombosis",
                  "A Condition Where Blood Clots Form In Deep Veins, Often In The Legs, Causing Pain And Swelling."
                ],
                [
                  "26",
                  "C0011175",
                  "Dehydration",
                  "Excessive Loss Of Body Fluids Leading To Impaired Physical Functions."
                ],
                [
                  "27",
                  "C0027651",
                  "Neoplasm",
                  "An Abnormal Growth Of Tissue, Which May Be Benign Or Malignant."
                ],
                [
                  "28",
                  "C0034065",
                  "Embolism Pulmonary",
                  "A Blockage In The Lungs' Arteries, Often Caused By Blood Clots."
                ],
                [
                  "29",
                  "C0014544",
                  "Epilepsy",
                  "A Neurological Disorder Marked By Recurrent Seizures Due To Abnormal Brain Activity."
                ],
                [
                  "30",
                  "C0878544",
                  "Cardiomyopathy",
                  "Disease Of The Heart Muscle, Reducing Its Ability To Pump Blood Effectively."
                ],
                [
                  "31",
                  "C0022661",
                  "Chronic Kidney Failure",
                  "Gradual Loss Of Kidney Function Leading To The Buildup Of Waste In The Body."
                ],
                [
                  "32",
                  "C0007097",
                  "Carcinoma",
                  "A Type Of Cancer Originating In The Skin Or Tissues Lining Internal Organs."
                ],
                [
                  "33",
                  "C0019196",
                  "Hepatitis C",
                  "A Liver Infection Caused By The Hepatitis C Virus, Potentially Leading To Liver Damage."
                ],
                [
                  "34",
                  "C0085096",
                  "Peripheral Vascular Disease",
                  "Poor Circulation To The Limbs Caused By Narrowed Or Blocked Blood Vessels."
                ],
                [
                  "35",
                  "C0033975",
                  "Psychotic Disorder",
                  "A Mental Health Condition Causing Distorted Thinking, Perceptions, And Disconnection From Reality."
                ],
                [
                  "36",
                  "C0020473",
                  "Hyperlipidemia",
                  "High Levels Of Fats, Like Cholesterol, In The Blood, Increasing Heart Disease Risks."
                ],
                [
                  "37",
                  "C0005586",
                  "Bipolar Disorder",
                  "A Mental Illness Causing Extreme Mood Swings Between Manic Highs And Depressive Lows."
                ],
                [
                  "38",
                  "C0028754",
                  "Obesity",
                  "Excessive Body Fat Increasing Risks Of Various Health Conditions."
                ],
                [
                  "39",
                  "C0022116",
                  "Ischemia",
                  "Reduced Blood Flow To Tissues, Causing Oxygen Deprivation And Potential Damage."
                ],
                [
                  "40",
                  "C1623038",
                  "Cirrhosis",
                  "Chronic Liver Disease Characterized By Scarring And Impaired Liver Function."
                ],
                [
                  "41",
                  "C0015230",
                  "Exanthema",
                  "A Widespread Skin Rash Often Caused By Infections Or Allergic Reactions."
                ],
                [
                  "42",
                  "C0005001",
                  "Benign Prostatic Hypertrophy",
                  "Non-Cancerous Enlargement Of The Prostate Gland, Often Causing Urinary Issues."
                ],
                [
                  "43",
                  "C0022660",
                  "Kidney Failure Acute",
                  "Sudden Loss Of Kidney Function, Leading To Waste Buildup And Life-Threatening Complications."
                ],
                [
                  "44",
                  "C0026266",
                  "Mitral Valve Insufficiency",
                  "A Condition Where The Mitral Valve Does Not Close Properly, Allowing Blood To Flow Backward In The Heart."
                ],
                [
                  "45",
                  "C0003864",
                  "Arthritis",
                  "Inflammation Of Joints Causing Pain, Swelling, And Stiffness."
                ],
                [
                  "46",
                  "C0006277",
                  "Bronchitis",
                  "Inflammation Of The Bronchial Tubes, Causing Coughing And Mucus Production."
                ],
                [
                  "47",
                  "C0018989",
                  "Hemiparesis",
                  "Partial Paralysis Or Weakness On One Side Of The Body, Often Due To Stroke."
                ],
                [
                  "48",
                  "C0029456",
                  "Osteoporosis",
                  "A Condition That Weakens Bones, Making Them Prone To Fractures."
                ],
                [
                  "49",
                  "C0007787",
                  "Transient Ischemic Attack",
                  "A Mini-Stroke With Temporary Reduced Blood Flow To The Brain."
                ]
              ],
              "shape": {
                "columns": 3,
                "rows": 133
              }
            },
            "text/html": [
              "<div>\n",
              "<style scoped>\n",
              "    .dataframe tbody tr th:only-of-type {\n",
              "        vertical-align: middle;\n",
              "    }\n",
              "\n",
              "    .dataframe tbody tr th {\n",
              "        vertical-align: top;\n",
              "    }\n",
              "\n",
              "    .dataframe thead th {\n",
              "        text-align: right;\n",
              "    }\n",
              "</style>\n",
              "<table border=\"1\" class=\"dataframe\">\n",
              "  <thead>\n",
              "    <tr style=\"text-align: right;\">\n",
              "      <th></th>\n",
              "      <th>disease_id</th>\n",
              "      <th>d_name</th>\n",
              "      <th>description</th>\n",
              "    </tr>\n",
              "  </thead>\n",
              "  <tbody>\n",
              "    <tr>\n",
              "      <th>0</th>\n",
              "      <td>C0020538</td>\n",
              "      <td>Hypertensive Disease</td>\n",
              "      <td>Chronic High Blood Pressure Increases Risk Of ...</td>\n",
              "    </tr>\n",
              "    <tr>\n",
              "      <th>1</th>\n",
              "      <td>C0011847</td>\n",
              "      <td>Diabetes</td>\n",
              "      <td>A Metabolic Disorder Causing Elevated Blood Su...</td>\n",
              "    </tr>\n",
              "    <tr>\n",
              "      <th>2</th>\n",
              "      <td>C0011570</td>\n",
              "      <td>Depression Mental</td>\n",
              "      <td>A Condition Marked By Persistent Sadness, Low ...</td>\n",
              "    </tr>\n",
              "    <tr>\n",
              "      <th>3</th>\n",
              "      <td>C0010054</td>\n",
              "      <td>Coronary Arteriosclerosis</td>\n",
              "      <td>Hardening Of Coronary Arteries Reduces Blood F...</td>\n",
              "    </tr>\n",
              "    <tr>\n",
              "      <th>4</th>\n",
              "      <td>C0032285</td>\n",
              "      <td>Pneumonia</td>\n",
              "      <td>A Lung Infection That Causes Cough, Fever, And...</td>\n",
              "    </tr>\n",
              "    <tr>\n",
              "      <th>...</th>\n",
              "      <td>...</td>\n",
              "      <td>...</td>\n",
              "      <td>...</td>\n",
              "    </tr>\n",
              "    <tr>\n",
              "      <th>128</th>\n",
              "      <td>C1258215</td>\n",
              "      <td>Ileus</td>\n",
              "      <td>Disruption Of The Normal Movement Of The Intes...</td>\n",
              "    </tr>\n",
              "    <tr>\n",
              "      <th>129</th>\n",
              "      <td>C0001511</td>\n",
              "      <td>Adhesion</td>\n",
              "      <td>Scar Tissue That Forms Between Organs Or Tissu...</td>\n",
              "    </tr>\n",
              "    <tr>\n",
              "      <th>130</th>\n",
              "      <td>C0011253</td>\n",
              "      <td>Delusion</td>\n",
              "      <td>A Fixed False Belief, Often Associated With Me...</td>\n",
              "    </tr>\n",
              "    <tr>\n",
              "      <th>131</th>\n",
              "      <td>C0233472</td>\n",
              "      <td>Affect Labile</td>\n",
              "      <td>Rapid And Intense Emotional Changes, Commonly ...</td>\n",
              "    </tr>\n",
              "    <tr>\n",
              "      <th>132</th>\n",
              "      <td>C0011127</td>\n",
              "      <td>Decubitus Ulcer</td>\n",
              "      <td>Pressure Sores Or Bedsores Caused By Prolonged...</td>\n",
              "    </tr>\n",
              "  </tbody>\n",
              "</table>\n",
              "<p>133 rows × 3 columns</p>\n",
              "</div>"
            ],
            "text/plain": [
              "    disease_id                     d_name  \\\n",
              "0     C0020538       Hypertensive Disease   \n",
              "1     C0011847                   Diabetes   \n",
              "2     C0011570          Depression Mental   \n",
              "3     C0010054  Coronary Arteriosclerosis   \n",
              "4     C0032285                  Pneumonia   \n",
              "..         ...                        ...   \n",
              "128   C1258215                      Ileus   \n",
              "129   C0001511                   Adhesion   \n",
              "130   C0011253                   Delusion   \n",
              "131   C0233472              Affect Labile   \n",
              "132   C0011127            Decubitus Ulcer   \n",
              "\n",
              "                                           description  \n",
              "0    Chronic High Blood Pressure Increases Risk Of ...  \n",
              "1    A Metabolic Disorder Causing Elevated Blood Su...  \n",
              "2    A Condition Marked By Persistent Sadness, Low ...  \n",
              "3    Hardening Of Coronary Arteries Reduces Blood F...  \n",
              "4    A Lung Infection That Causes Cough, Fever, And...  \n",
              "..                                                 ...  \n",
              "128  Disruption Of The Normal Movement Of The Intes...  \n",
              "129  Scar Tissue That Forms Between Organs Or Tissu...  \n",
              "130  A Fixed False Belief, Often Associated With Me...  \n",
              "131  Rapid And Intense Emotional Changes, Commonly ...  \n",
              "132  Pressure Sores Or Bedsores Caused By Prolonged...  \n",
              "\n",
              "[133 rows x 3 columns]"
            ]
          },
          "execution_count": 14,
          "metadata": {},
          "output_type": "execute_result"
        }
      ],
      "source": [
        "# Replace the URL below with the raw file URL for your text file\n",
        "github_url = \"https://raw.githubusercontent.com/Saurabh-Lakhanpal/symptoms-analyzer/refs/heads/main/resources/data/disease_description.txt\"\n",
        "\n",
        "# Fetch the file content from GitHub\n",
        "response = requests.get(github_url)\n",
        "content = response.text\n",
        "\n",
        "# Parse the content to create a mapping of d_name to description\n",
        "d_name_to_description = {}\n",
        "for line in content.splitlines():\n",
        "    if \": \" in line:\n",
        "        parts = line.split(\": \", 1)\n",
        "        d_name_key = parts[0].split(\". \", 1)[1].strip().lower()\n",
        "        description_value = parts[1].strip()\n",
        "        d_name_to_description[d_name_key] = description_value\n",
        "\n",
        "# Map descriptions to the DataFrame\n",
        "diseases_df['description'] = diseases_df['d_name'].str.lower().map(d_name_to_description)\n",
        "\n",
        "# Reset index of the updated DataFrame\n",
        "diseases_df = diseases_df.reset_index(drop=True)\n",
        "\n",
        "# Apply title case to columns 'd_name' and 'description'\n",
        "diseases_df['d_name'] = diseases_df['d_name'].str.title()\n",
        "diseases_df['description'] = diseases_df['description'].str.title()\n",
        "\n",
        "# Display the updated DataFrame\n",
        "print(\"\\nUpdated diseases_df with reset index:\")\n",
        "diseases_df"
      ]
    },
    {
      "cell_type": "code",
      "execution_count": 15,
      "metadata": {
        "colab": {
          "base_uri": "https://localhost:8080/"
        },
        "id": "FBtV9LIAcyRZ",
        "outputId": "663a2fd2-81b0-4858-cd07-d38df8214465"
      },
      "outputs": [
        {
          "name": "stdout",
          "output_type": "stream",
          "text": [
            "\n",
            "Total duplicate entries in 'disease_id' column: 0\n",
            "\n",
            "Whitespace trimming complete.\n",
            "\n",
            "Null values in the DataFrame (per column):\n",
            "disease_id     0\n",
            "d_name         0\n",
            "description    0\n",
            "dtype: int64\n"
          ]
        }
      ],
      "source": [
        "# Step 1: Check for duplicates in the 'disease_id' column\n",
        "duplicates_in_disease_id = diseases_df[diseases_df['disease_id'].duplicated(keep=False)]  # Find all duplicate rows\n",
        "\n",
        "# Count the number of unique and duplicate entries\n",
        "total_duplicates_count = duplicates_in_disease_id.shape[0]\n",
        "print(f\"\\nTotal duplicate entries in 'disease_id' column: {total_duplicates_count}\")\n",
        "\n",
        "# Step 2: Trim leading and trailing whitespaces from all string columns\n",
        "diseases_df = diseases_df.apply(lambda x: x.str.strip() if x.dtype == \"object\" else x)\n",
        "print(\"\\nWhitespace trimming complete.\")\n",
        "\n",
        "# Step 3: Check for null values and display rows with NaN values\n",
        "null_values_per_column = diseases_df.isnull().sum()\n",
        "print(\"\\nNull values in the DataFrame (per column):\")\n",
        "print(null_values_per_column)\n"
      ]
    },
    {
      "cell_type": "code",
      "execution_count": 16,
      "metadata": {},
      "outputs": [
        {
          "name": "stdout",
          "output_type": "stream",
          "text": [
            "Total occurrences of 'UMLS' in 'Symptom' column: 1907\n",
            "\n",
            "41 Rows with more than one 'UMLS':\n"
          ]
        },
        {
          "data": {
            "application/vnd.microsoft.datawrangler.viewer.v0+json": {
              "columns": [
                {
                  "name": "index",
                  "rawType": "int64",
                  "type": "integer"
                },
                {
                  "name": "Symptom",
                  "rawType": "object",
                  "type": "string"
                },
                {
                  "name": "UMLS_Count",
                  "rawType": "int64",
                  "type": "integer"
                }
              ],
              "conversionMethod": "pd.DataFrame",
              "ref": "fe75b399-536c-4da6-8397-06b85d689176",
              "rows": [
                [
                  "7",
                  "UMLS:C0038990_sweat^UMLS:C0700590_sweating\n  increased",
                  "2"
                ],
                [
                  "20",
                  "UMLS:C0038990_sweat^UMLS:C0700590_sweating\n  increased",
                  "2"
                ],
                [
                  "51",
                  "UMLS:C0038990_sweat^UMLS:C0700590_sweating\n  increased",
                  "2"
                ],
                [
                  "101",
                  "UMLS:C0038990_sweat^UMLS:C0700590_sweating increased",
                  "2"
                ],
                [
                  "119",
                  "UMLS:C0038990_sweat^UMLS:C0700590_sweating increased",
                  "2"
                ],
                [
                  "195",
                  "UMLS:C0425251_bedridden^UMLS:C0741453_bedridden",
                  "2"
                ],
                [
                  "252",
                  "UMLS:C0013144_drowsiness^UMLS:C0234450_sleepy",
                  "2"
                ],
                [
                  "264",
                  "UMLS:C0015672_fatigue^UMLS:C0557875_tired",
                  "2"
                ],
                [
                  "298",
                  "UMLS:C0332601_cushingoid facies^UMLS:C0878661_cushingoidhabitus",
                  "2"
                ],
                [
                  "317",
                  "UMLS:C0026827_muscle hypotonia^UMLS:C0241938_hypotonic",
                  "2"
                ],
                [
                  "348",
                  "UMLS:C0038990_sweat^UMLS:C0700590_sweating increased",
                  "2"
                ],
                [
                  "390",
                  "UMLS:C0039070_syncope^UMLS:C0312422_blackout^UMLS:C0424533_history\n  of - blackout",
                  "3"
                ],
                [
                  "544",
                  "UMLS:C0038990_sweat^UMLS:C0700590_sweating increased",
                  "2"
                ],
                [
                  "586",
                  "UMLS:C0015672_fatigue^UMLS:C0557875_tired",
                  "2"
                ],
                [
                  "591",
                  "UMLS:C0013144_drowsiness^UMLS:C0234450_sleepy",
                  "2"
                ],
                [
                  "600",
                  "UMLS:C0038990_sweat^UMLS:C0700590_sweating increased",
                  "2"
                ],
                [
                  "702",
                  "UMLS:C0013144_drowsiness^UMLS:C0234450_sleepy",
                  "2"
                ],
                [
                  "750",
                  "UMLS:C0008767_cicatrisation^UMLS:C0241158_scar tissue",
                  "2"
                ],
                [
                  "765",
                  "UMLS:C0008767_cicatrisation^UMLS:C0241158_scar tissue",
                  "2"
                ],
                [
                  "799",
                  "UMLS:C0038990_sweat^UMLS:C0700590_sweating increased",
                  "2"
                ],
                [
                  "850",
                  "UMLS:C0038990_sweat^UMLS:C0700590_sweating increased",
                  "2"
                ],
                [
                  "906",
                  "UMLS:C0041667_underweight^UMLS:C1319518_underweight",
                  "2"
                ],
                [
                  "933",
                  "UMLS:C0013144_drowsiness^UMLS:C0234450_sleepy",
                  "2"
                ],
                [
                  "1002",
                  "UMLS:C0425251_bedridden^UMLS:C0741453_bedridden",
                  "2"
                ],
                [
                  "1113",
                  "UMLS:C0311395_lameness^UMLS:C1456822_claudication",
                  "2"
                ],
                [
                  "1225",
                  "UMLS:C0013144_drowsiness^UMLS:C0234450_sleepy",
                  "2"
                ],
                [
                  "1240",
                  "UMLS:C0015672_fatigue^UMLS:C0557875_tired",
                  "2"
                ],
                [
                  "1247",
                  "UMLS:C0332601_cushingoid facies^UMLS:C0878661_cushingoidhabitus",
                  "2"
                ],
                [
                  "1257",
                  "UMLS:C0013144_drowsiness^UMLS:C0234450_sleepy",
                  "2"
                ],
                [
                  "1283",
                  "UMLS:C0425251_bedridden^UMLS:C0741453_bedridden",
                  "2"
                ],
                [
                  "1307",
                  "UMLS:C0559546_adverse reaction^UMLS:C0879626_adverse effect",
                  "2"
                ],
                [
                  "1329",
                  "UMLS:C0026827_muscle hypotonia^UMLS:C0241938_hypotonic",
                  "2"
                ],
                [
                  "1653",
                  "UMLS:C0425560_cardiovascular\n  finding^UMLS:C1320716_cardiovascular event",
                  "2"
                ],
                [
                  "1667",
                  "UMLS:C0013144_drowsiness^UMLS:C0234450_sleepy",
                  "2"
                ],
                [
                  "1690",
                  "UMLS:C0332601_cushingoid facies^UMLS:C0878661_cushingoidhabitus",
                  "2"
                ],
                [
                  "1748",
                  "UMLS:C0425560_cardiovascular\n  finding^UMLS:C1320716_cardiovascular event",
                  "2"
                ],
                [
                  "1781",
                  "UMLS:C0332601_cushingoid facies^UMLS:C0878661_cushingoidhabitus",
                  "2"
                ],
                [
                  "1788",
                  "UMLS:C0332601_cushingoid facies^UMLS:C0878661_cushingoidhabitus",
                  "2"
                ],
                [
                  "1796",
                  "UMLS:C0038990_sweat^UMLS:C0700590_sweating increased",
                  "2"
                ],
                [
                  "1800",
                  "UMLS:C0425560_cardiovascular\n  finding^UMLS:C1320716_cardiovascular event",
                  "2"
                ],
                [
                  "1861",
                  "UMLS:C0425251_bedridden^UMLS:C0741453_bedridden",
                  "2"
                ]
              ],
              "shape": {
                "columns": 2,
                "rows": 41
              }
            },
            "text/html": [
              "<div>\n",
              "<style scoped>\n",
              "    .dataframe tbody tr th:only-of-type {\n",
              "        vertical-align: middle;\n",
              "    }\n",
              "\n",
              "    .dataframe tbody tr th {\n",
              "        vertical-align: top;\n",
              "    }\n",
              "\n",
              "    .dataframe thead th {\n",
              "        text-align: right;\n",
              "    }\n",
              "</style>\n",
              "<table border=\"1\" class=\"dataframe\">\n",
              "  <thead>\n",
              "    <tr style=\"text-align: right;\">\n",
              "      <th></th>\n",
              "      <th>Symptom</th>\n",
              "      <th>UMLS_Count</th>\n",
              "    </tr>\n",
              "  </thead>\n",
              "  <tbody>\n",
              "    <tr>\n",
              "      <th>7</th>\n",
              "      <td>UMLS:C0038990_sweat^UMLS:C0700590_sweating\\n  ...</td>\n",
              "      <td>2</td>\n",
              "    </tr>\n",
              "    <tr>\n",
              "      <th>20</th>\n",
              "      <td>UMLS:C0038990_sweat^UMLS:C0700590_sweating\\n  ...</td>\n",
              "      <td>2</td>\n",
              "    </tr>\n",
              "    <tr>\n",
              "      <th>51</th>\n",
              "      <td>UMLS:C0038990_sweat^UMLS:C0700590_sweating\\n  ...</td>\n",
              "      <td>2</td>\n",
              "    </tr>\n",
              "    <tr>\n",
              "      <th>101</th>\n",
              "      <td>UMLS:C0038990_sweat^UMLS:C0700590_sweating inc...</td>\n",
              "      <td>2</td>\n",
              "    </tr>\n",
              "    <tr>\n",
              "      <th>119</th>\n",
              "      <td>UMLS:C0038990_sweat^UMLS:C0700590_sweating inc...</td>\n",
              "      <td>2</td>\n",
              "    </tr>\n",
              "    <tr>\n",
              "      <th>195</th>\n",
              "      <td>UMLS:C0425251_bedridden^UMLS:C0741453_bedridden</td>\n",
              "      <td>2</td>\n",
              "    </tr>\n",
              "    <tr>\n",
              "      <th>252</th>\n",
              "      <td>UMLS:C0013144_drowsiness^UMLS:C0234450_sleepy</td>\n",
              "      <td>2</td>\n",
              "    </tr>\n",
              "    <tr>\n",
              "      <th>264</th>\n",
              "      <td>UMLS:C0015672_fatigue^UMLS:C0557875_tired</td>\n",
              "      <td>2</td>\n",
              "    </tr>\n",
              "    <tr>\n",
              "      <th>298</th>\n",
              "      <td>UMLS:C0332601_cushingoid facies^UMLS:C0878661_...</td>\n",
              "      <td>2</td>\n",
              "    </tr>\n",
              "    <tr>\n",
              "      <th>317</th>\n",
              "      <td>UMLS:C0026827_muscle hypotonia^UMLS:C0241938_h...</td>\n",
              "      <td>2</td>\n",
              "    </tr>\n",
              "    <tr>\n",
              "      <th>348</th>\n",
              "      <td>UMLS:C0038990_sweat^UMLS:C0700590_sweating inc...</td>\n",
              "      <td>2</td>\n",
              "    </tr>\n",
              "    <tr>\n",
              "      <th>390</th>\n",
              "      <td>UMLS:C0039070_syncope^UMLS:C0312422_blackout^U...</td>\n",
              "      <td>3</td>\n",
              "    </tr>\n",
              "    <tr>\n",
              "      <th>544</th>\n",
              "      <td>UMLS:C0038990_sweat^UMLS:C0700590_sweating inc...</td>\n",
              "      <td>2</td>\n",
              "    </tr>\n",
              "    <tr>\n",
              "      <th>586</th>\n",
              "      <td>UMLS:C0015672_fatigue^UMLS:C0557875_tired</td>\n",
              "      <td>2</td>\n",
              "    </tr>\n",
              "    <tr>\n",
              "      <th>591</th>\n",
              "      <td>UMLS:C0013144_drowsiness^UMLS:C0234450_sleepy</td>\n",
              "      <td>2</td>\n",
              "    </tr>\n",
              "    <tr>\n",
              "      <th>600</th>\n",
              "      <td>UMLS:C0038990_sweat^UMLS:C0700590_sweating inc...</td>\n",
              "      <td>2</td>\n",
              "    </tr>\n",
              "    <tr>\n",
              "      <th>702</th>\n",
              "      <td>UMLS:C0013144_drowsiness^UMLS:C0234450_sleepy</td>\n",
              "      <td>2</td>\n",
              "    </tr>\n",
              "    <tr>\n",
              "      <th>750</th>\n",
              "      <td>UMLS:C0008767_cicatrisation^UMLS:C0241158_scar...</td>\n",
              "      <td>2</td>\n",
              "    </tr>\n",
              "    <tr>\n",
              "      <th>765</th>\n",
              "      <td>UMLS:C0008767_cicatrisation^UMLS:C0241158_scar...</td>\n",
              "      <td>2</td>\n",
              "    </tr>\n",
              "    <tr>\n",
              "      <th>799</th>\n",
              "      <td>UMLS:C0038990_sweat^UMLS:C0700590_sweating inc...</td>\n",
              "      <td>2</td>\n",
              "    </tr>\n",
              "    <tr>\n",
              "      <th>850</th>\n",
              "      <td>UMLS:C0038990_sweat^UMLS:C0700590_sweating inc...</td>\n",
              "      <td>2</td>\n",
              "    </tr>\n",
              "    <tr>\n",
              "      <th>906</th>\n",
              "      <td>UMLS:C0041667_underweight^UMLS:C1319518_underw...</td>\n",
              "      <td>2</td>\n",
              "    </tr>\n",
              "    <tr>\n",
              "      <th>933</th>\n",
              "      <td>UMLS:C0013144_drowsiness^UMLS:C0234450_sleepy</td>\n",
              "      <td>2</td>\n",
              "    </tr>\n",
              "    <tr>\n",
              "      <th>1002</th>\n",
              "      <td>UMLS:C0425251_bedridden^UMLS:C0741453_bedridden</td>\n",
              "      <td>2</td>\n",
              "    </tr>\n",
              "    <tr>\n",
              "      <th>1113</th>\n",
              "      <td>UMLS:C0311395_lameness^UMLS:C1456822_claudication</td>\n",
              "      <td>2</td>\n",
              "    </tr>\n",
              "    <tr>\n",
              "      <th>1225</th>\n",
              "      <td>UMLS:C0013144_drowsiness^UMLS:C0234450_sleepy</td>\n",
              "      <td>2</td>\n",
              "    </tr>\n",
              "    <tr>\n",
              "      <th>1240</th>\n",
              "      <td>UMLS:C0015672_fatigue^UMLS:C0557875_tired</td>\n",
              "      <td>2</td>\n",
              "    </tr>\n",
              "    <tr>\n",
              "      <th>1247</th>\n",
              "      <td>UMLS:C0332601_cushingoid facies^UMLS:C0878661_...</td>\n",
              "      <td>2</td>\n",
              "    </tr>\n",
              "    <tr>\n",
              "      <th>1257</th>\n",
              "      <td>UMLS:C0013144_drowsiness^UMLS:C0234450_sleepy</td>\n",
              "      <td>2</td>\n",
              "    </tr>\n",
              "    <tr>\n",
              "      <th>1283</th>\n",
              "      <td>UMLS:C0425251_bedridden^UMLS:C0741453_bedridden</td>\n",
              "      <td>2</td>\n",
              "    </tr>\n",
              "    <tr>\n",
              "      <th>1307</th>\n",
              "      <td>UMLS:C0559546_adverse reaction^UMLS:C0879626_a...</td>\n",
              "      <td>2</td>\n",
              "    </tr>\n",
              "    <tr>\n",
              "      <th>1329</th>\n",
              "      <td>UMLS:C0026827_muscle hypotonia^UMLS:C0241938_h...</td>\n",
              "      <td>2</td>\n",
              "    </tr>\n",
              "    <tr>\n",
              "      <th>1653</th>\n",
              "      <td>UMLS:C0425560_cardiovascular\\n  finding^UMLS:C...</td>\n",
              "      <td>2</td>\n",
              "    </tr>\n",
              "    <tr>\n",
              "      <th>1667</th>\n",
              "      <td>UMLS:C0013144_drowsiness^UMLS:C0234450_sleepy</td>\n",
              "      <td>2</td>\n",
              "    </tr>\n",
              "    <tr>\n",
              "      <th>1690</th>\n",
              "      <td>UMLS:C0332601_cushingoid facies^UMLS:C0878661_...</td>\n",
              "      <td>2</td>\n",
              "    </tr>\n",
              "    <tr>\n",
              "      <th>1748</th>\n",
              "      <td>UMLS:C0425560_cardiovascular\\n  finding^UMLS:C...</td>\n",
              "      <td>2</td>\n",
              "    </tr>\n",
              "    <tr>\n",
              "      <th>1781</th>\n",
              "      <td>UMLS:C0332601_cushingoid facies^UMLS:C0878661_...</td>\n",
              "      <td>2</td>\n",
              "    </tr>\n",
              "    <tr>\n",
              "      <th>1788</th>\n",
              "      <td>UMLS:C0332601_cushingoid facies^UMLS:C0878661_...</td>\n",
              "      <td>2</td>\n",
              "    </tr>\n",
              "    <tr>\n",
              "      <th>1796</th>\n",
              "      <td>UMLS:C0038990_sweat^UMLS:C0700590_sweating inc...</td>\n",
              "      <td>2</td>\n",
              "    </tr>\n",
              "    <tr>\n",
              "      <th>1800</th>\n",
              "      <td>UMLS:C0425560_cardiovascular\\n  finding^UMLS:C...</td>\n",
              "      <td>2</td>\n",
              "    </tr>\n",
              "    <tr>\n",
              "      <th>1861</th>\n",
              "      <td>UMLS:C0425251_bedridden^UMLS:C0741453_bedridden</td>\n",
              "      <td>2</td>\n",
              "    </tr>\n",
              "  </tbody>\n",
              "</table>\n",
              "</div>"
            ],
            "text/plain": [
              "                                                Symptom  UMLS_Count\n",
              "7     UMLS:C0038990_sweat^UMLS:C0700590_sweating\\n  ...           2\n",
              "20    UMLS:C0038990_sweat^UMLS:C0700590_sweating\\n  ...           2\n",
              "51    UMLS:C0038990_sweat^UMLS:C0700590_sweating\\n  ...           2\n",
              "101   UMLS:C0038990_sweat^UMLS:C0700590_sweating inc...           2\n",
              "119   UMLS:C0038990_sweat^UMLS:C0700590_sweating inc...           2\n",
              "195     UMLS:C0425251_bedridden^UMLS:C0741453_bedridden           2\n",
              "252       UMLS:C0013144_drowsiness^UMLS:C0234450_sleepy           2\n",
              "264           UMLS:C0015672_fatigue^UMLS:C0557875_tired           2\n",
              "298   UMLS:C0332601_cushingoid facies^UMLS:C0878661_...           2\n",
              "317   UMLS:C0026827_muscle hypotonia^UMLS:C0241938_h...           2\n",
              "348   UMLS:C0038990_sweat^UMLS:C0700590_sweating inc...           2\n",
              "390   UMLS:C0039070_syncope^UMLS:C0312422_blackout^U...           3\n",
              "544   UMLS:C0038990_sweat^UMLS:C0700590_sweating inc...           2\n",
              "586           UMLS:C0015672_fatigue^UMLS:C0557875_tired           2\n",
              "591       UMLS:C0013144_drowsiness^UMLS:C0234450_sleepy           2\n",
              "600   UMLS:C0038990_sweat^UMLS:C0700590_sweating inc...           2\n",
              "702       UMLS:C0013144_drowsiness^UMLS:C0234450_sleepy           2\n",
              "750   UMLS:C0008767_cicatrisation^UMLS:C0241158_scar...           2\n",
              "765   UMLS:C0008767_cicatrisation^UMLS:C0241158_scar...           2\n",
              "799   UMLS:C0038990_sweat^UMLS:C0700590_sweating inc...           2\n",
              "850   UMLS:C0038990_sweat^UMLS:C0700590_sweating inc...           2\n",
              "906   UMLS:C0041667_underweight^UMLS:C1319518_underw...           2\n",
              "933       UMLS:C0013144_drowsiness^UMLS:C0234450_sleepy           2\n",
              "1002    UMLS:C0425251_bedridden^UMLS:C0741453_bedridden           2\n",
              "1113  UMLS:C0311395_lameness^UMLS:C1456822_claudication           2\n",
              "1225      UMLS:C0013144_drowsiness^UMLS:C0234450_sleepy           2\n",
              "1240          UMLS:C0015672_fatigue^UMLS:C0557875_tired           2\n",
              "1247  UMLS:C0332601_cushingoid facies^UMLS:C0878661_...           2\n",
              "1257      UMLS:C0013144_drowsiness^UMLS:C0234450_sleepy           2\n",
              "1283    UMLS:C0425251_bedridden^UMLS:C0741453_bedridden           2\n",
              "1307  UMLS:C0559546_adverse reaction^UMLS:C0879626_a...           2\n",
              "1329  UMLS:C0026827_muscle hypotonia^UMLS:C0241938_h...           2\n",
              "1653  UMLS:C0425560_cardiovascular\\n  finding^UMLS:C...           2\n",
              "1667      UMLS:C0013144_drowsiness^UMLS:C0234450_sleepy           2\n",
              "1690  UMLS:C0332601_cushingoid facies^UMLS:C0878661_...           2\n",
              "1748  UMLS:C0425560_cardiovascular\\n  finding^UMLS:C...           2\n",
              "1781  UMLS:C0332601_cushingoid facies^UMLS:C0878661_...           2\n",
              "1788  UMLS:C0332601_cushingoid facies^UMLS:C0878661_...           2\n",
              "1796  UMLS:C0038990_sweat^UMLS:C0700590_sweating inc...           2\n",
              "1800  UMLS:C0425560_cardiovascular\\n  finding^UMLS:C...           2\n",
              "1861    UMLS:C0425251_bedridden^UMLS:C0741453_bedridden           2"
            ]
          },
          "metadata": {},
          "output_type": "display_data"
        }
      ],
      "source": [
        "# Step 1: Add a column to count the occurrences of \"UMLS\" in each row\n",
        "df['UMLS_Count'] = df['Symptom'].fillna('').str.count('UMLS')\n",
        "\n",
        "# Step 2: Calculate the total occurrences of \"UMLS\" in the 'Symptom' column\n",
        "Symptom_umls_count = df['UMLS_Count'].sum()\n",
        "\n",
        "# Print the total count of \"UMLS\"\n",
        "print(f\"Total occurrences of 'UMLS' in 'Symptom' column: {Symptom_umls_count}\")\n",
        "\n",
        "# Step 3: Identify rows where a cell contains more than one occurrence of \"UMLS\"\n",
        "rows_with_multiple_umls = df[df['UMLS_Count'] > 1]\n",
        "\n",
        "# Print these rows\n",
        "print(f\"\\n{len(rows_with_multiple_umls)} Rows with more than one 'UMLS':\")\n",
        "display(rows_with_multiple_umls[['Symptom', 'UMLS_Count']])"
      ]
    },
    {
      "cell_type": "code",
      "execution_count": 17,
      "metadata": {},
      "outputs": [
        {
          "name": "stdout",
          "output_type": "stream",
          "text": [
            "\n",
            "symptoms_df created successfully:\n"
          ]
        },
        {
          "data": {
            "application/vnd.microsoft.datawrangler.viewer.v0+json": {
              "columns": [
                {
                  "name": "index",
                  "rawType": "int64",
                  "type": "integer"
                },
                {
                  "name": "symptom_id",
                  "rawType": "object",
                  "type": "string"
                },
                {
                  "name": "s_name",
                  "rawType": "object",
                  "type": "string"
                }
              ],
              "conversionMethod": "pd.DataFrame",
              "ref": "bb824852-eb8e-42d4-a087-6dbbd899470d",
              "rows": [
                [
                  "0",
                  "C0008031",
                  "pain chest"
                ],
                [
                  "1",
                  "C0392680",
                  "shortness of breath"
                ],
                [
                  "2",
                  "C0012833",
                  "dizziness"
                ],
                [
                  "3",
                  "C0004093",
                  "asthenia"
                ],
                [
                  "4",
                  "C0085639",
                  "fall"
                ],
                [
                  "5",
                  "C0039070",
                  "syncope"
                ],
                [
                  "6",
                  "C0042571",
                  "vertigo"
                ],
                [
                  "7",
                  "C0038990",
                  "sweat"
                ],
                [
                  "8",
                  "C0700590",
                  "sweating increased"
                ],
                [
                  "9",
                  "C0030252",
                  "palpitation"
                ],
                [
                  "10",
                  "C0027497",
                  "nausea"
                ],
                [
                  "11",
                  "C0002962",
                  "angina pectoris"
                ],
                [
                  "12",
                  "C0438716",
                  "pressure chest"
                ],
                [
                  "13",
                  "C0032617",
                  "polyuria"
                ],
                [
                  "14",
                  "C0085602",
                  "polydypsia"
                ],
                [
                  "15",
                  "C0392680",
                  "shortness of breath"
                ],
                [
                  "16",
                  "C0008031",
                  "pain chest"
                ],
                [
                  "17",
                  "C0004093",
                  "asthenia"
                ],
                [
                  "18",
                  "C0027497",
                  "nausea"
                ],
                [
                  "19",
                  "C0085619",
                  "orthopnea"
                ],
                [
                  "20",
                  "C0034642",
                  "rale"
                ],
                [
                  "21",
                  "C0038990",
                  "sweat"
                ],
                [
                  "22",
                  "C0700590",
                  "sweating increased"
                ],
                [
                  "23",
                  "C0241526",
                  "unresponsiveness"
                ],
                [
                  "24",
                  "C0856054",
                  "mental status changes"
                ],
                [
                  "25",
                  "C0042571",
                  "vertigo"
                ],
                [
                  "26",
                  "C0042963",
                  "vomiting"
                ],
                [
                  "27",
                  "C0553668",
                  "labored breathing"
                ],
                [
                  "28",
                  "C0424000",
                  "feeling suicidal"
                ],
                [
                  "29",
                  "C0438696",
                  "suicidal"
                ],
                [
                  "30",
                  "C0233762",
                  "hallucinations auditory"
                ],
                [
                  "31",
                  "C0150041",
                  "feeling hopeless"
                ],
                [
                  "32",
                  "C0424109",
                  "weepiness"
                ],
                [
                  "33",
                  "C0917801",
                  "sleeplessness"
                ],
                [
                  "34",
                  "C0424230",
                  "motor retardation"
                ],
                [
                  "35",
                  "C0022107",
                  "irritable mood"
                ],
                [
                  "36",
                  "C0312422",
                  "blackout"
                ],
                [
                  "37",
                  "C0344315",
                  "mood depressed"
                ],
                [
                  "38",
                  "C0233763",
                  "hallucinations visual"
                ],
                [
                  "39",
                  "C0233481",
                  "worry"
                ],
                [
                  "40",
                  "C0085631",
                  "agitation"
                ],
                [
                  "41",
                  "C0040822",
                  "tremor"
                ],
                [
                  "42",
                  "C0728899",
                  "intoxication"
                ],
                [
                  "43",
                  "C0424068",
                  "verbal auditory hallucinations"
                ],
                [
                  "44",
                  "C0455769",
                  "energy increased"
                ],
                [
                  "45",
                  "C1299586",
                  "difficulty"
                ],
                [
                  "46",
                  "C0028084",
                  "nightmare"
                ],
                [
                  "47",
                  "C0235198",
                  "unable to concentrate"
                ],
                [
                  "48",
                  "C0237154",
                  "homelessness"
                ],
                [
                  "49",
                  "C0008031",
                  "pain chest"
                ]
              ],
              "shape": {
                "columns": 2,
                "rows": 1907
              }
            },
            "text/html": [
              "<div>\n",
              "<style scoped>\n",
              "    .dataframe tbody tr th:only-of-type {\n",
              "        vertical-align: middle;\n",
              "    }\n",
              "\n",
              "    .dataframe tbody tr th {\n",
              "        vertical-align: top;\n",
              "    }\n",
              "\n",
              "    .dataframe thead th {\n",
              "        text-align: right;\n",
              "    }\n",
              "</style>\n",
              "<table border=\"1\" class=\"dataframe\">\n",
              "  <thead>\n",
              "    <tr style=\"text-align: right;\">\n",
              "      <th></th>\n",
              "      <th>symptom_id</th>\n",
              "      <th>s_name</th>\n",
              "    </tr>\n",
              "  </thead>\n",
              "  <tbody>\n",
              "    <tr>\n",
              "      <th>0</th>\n",
              "      <td>C0008031</td>\n",
              "      <td>pain chest</td>\n",
              "    </tr>\n",
              "    <tr>\n",
              "      <th>1</th>\n",
              "      <td>C0392680</td>\n",
              "      <td>shortness of breath</td>\n",
              "    </tr>\n",
              "    <tr>\n",
              "      <th>2</th>\n",
              "      <td>C0012833</td>\n",
              "      <td>dizziness</td>\n",
              "    </tr>\n",
              "    <tr>\n",
              "      <th>3</th>\n",
              "      <td>C0004093</td>\n",
              "      <td>asthenia</td>\n",
              "    </tr>\n",
              "    <tr>\n",
              "      <th>4</th>\n",
              "      <td>C0085639</td>\n",
              "      <td>fall</td>\n",
              "    </tr>\n",
              "    <tr>\n",
              "      <th>...</th>\n",
              "      <td>...</td>\n",
              "      <td>...</td>\n",
              "    </tr>\n",
              "    <tr>\n",
              "      <th>1902</th>\n",
              "      <td>C0741453</td>\n",
              "      <td>bedridden</td>\n",
              "    </tr>\n",
              "    <tr>\n",
              "      <th>1903</th>\n",
              "      <td>C0242453</td>\n",
              "      <td>prostatism</td>\n",
              "    </tr>\n",
              "    <tr>\n",
              "      <th>1904</th>\n",
              "      <td>C0232257</td>\n",
              "      <td>systolic murmur</td>\n",
              "    </tr>\n",
              "    <tr>\n",
              "      <th>1905</th>\n",
              "      <td>C0871754</td>\n",
              "      <td>frail</td>\n",
              "    </tr>\n",
              "    <tr>\n",
              "      <th>1906</th>\n",
              "      <td>C0015967</td>\n",
              "      <td>fever</td>\n",
              "    </tr>\n",
              "  </tbody>\n",
              "</table>\n",
              "<p>1907 rows × 2 columns</p>\n",
              "</div>"
            ],
            "text/plain": [
              "     symptom_id               s_name\n",
              "0      C0008031           pain chest\n",
              "1      C0392680  shortness of breath\n",
              "2      C0012833            dizziness\n",
              "3      C0004093             asthenia\n",
              "4      C0085639                 fall\n",
              "...         ...                  ...\n",
              "1902   C0741453            bedridden\n",
              "1903   C0242453           prostatism\n",
              "1904   C0232257      systolic murmur\n",
              "1905   C0871754                frail\n",
              "1906   C0015967                fever\n",
              "\n",
              "[1907 rows x 2 columns]"
            ]
          },
          "metadata": {},
          "output_type": "display_data"
        }
      ],
      "source": [
        "# Step 1: Initialize a list to store extracted symptom_id and s_name pairs\n",
        "symptom_list = []\n",
        "\n",
        "# Step 2: Iterate through the 'symptom' column to process each cell\n",
        "for row in df['Symptom']:\n",
        "    if pd.notna(row):  \n",
        "        entries = row.split('^')  \n",
        "        for entry in entries:\n",
        "            entry = entry.strip()  \n",
        "            if entry.startswith(\"UMLS:\") and '_' in entry:  \n",
        "                parts = entry.split('_', 1)  \n",
        "                if len(parts) == 2:\n",
        "                    symptom_id = parts[0].replace(\"UMLS:\", \"\").strip()  \n",
        "                    s_name = ' '.join(parts[1].split()).lower()  \n",
        "                    symptom_list.append({'symptom_id': symptom_id, 's_name': s_name})\n",
        "\n",
        "# Step 3: Convert the extracted list into a DataFrame\n",
        "if symptom_list:\n",
        "    symptoms_df = pd.DataFrame(symptom_list)\n",
        "\n",
        "    # Print the resulting DataFrame for preview\n",
        "    print(\"\\nsymptoms_df created successfully:\")\n",
        "    display(symptoms_df)\n",
        "else:\n",
        "    print(\"No valid symptom entries found in the column.\")\n"
      ]
    },
    {
      "cell_type": "code",
      "execution_count": 18,
      "metadata": {},
      "outputs": [
        {
          "name": "stdout",
          "output_type": "stream",
          "text": [
            "\n",
            "Updated symptoms_df with unique symptom_id values, no nulls, s_name in title case, and reset index:\n"
          ]
        },
        {
          "data": {
            "application/vnd.microsoft.datawrangler.viewer.v0+json": {
              "columns": [
                {
                  "name": "index",
                  "rawType": "int64",
                  "type": "integer"
                },
                {
                  "name": "symptom_id",
                  "rawType": "object",
                  "type": "string"
                },
                {
                  "name": "s_name",
                  "rawType": "object",
                  "type": "string"
                }
              ],
              "conversionMethod": "pd.DataFrame",
              "ref": "e06392c4-9edc-498e-8963-d481e049cb5f",
              "rows": [
                [
                  "0",
                  "C0008031",
                  "Pain Chest"
                ],
                [
                  "1",
                  "C0392680",
                  "Shortness Of Breath"
                ],
                [
                  "2",
                  "C0012833",
                  "Dizziness"
                ],
                [
                  "3",
                  "C0004093",
                  "Asthenia"
                ],
                [
                  "4",
                  "C0085639",
                  "Fall"
                ],
                [
                  "5",
                  "C0039070",
                  "Syncope"
                ],
                [
                  "6",
                  "C0042571",
                  "Vertigo"
                ],
                [
                  "7",
                  "C0038990",
                  "Sweat"
                ],
                [
                  "8",
                  "C0700590",
                  "Sweating Increased"
                ],
                [
                  "9",
                  "C0030252",
                  "Palpitation"
                ],
                [
                  "10",
                  "C0027497",
                  "Nausea"
                ],
                [
                  "11",
                  "C0002962",
                  "Angina Pectoris"
                ],
                [
                  "12",
                  "C0438716",
                  "Pressure Chest"
                ],
                [
                  "13",
                  "C0032617",
                  "Polyuria"
                ],
                [
                  "14",
                  "C0085602",
                  "Polydypsia"
                ],
                [
                  "15",
                  "C0085619",
                  "Orthopnea"
                ],
                [
                  "16",
                  "C0034642",
                  "Rale"
                ],
                [
                  "17",
                  "C0241526",
                  "Unresponsiveness"
                ],
                [
                  "18",
                  "C0856054",
                  "Mental Status Changes"
                ],
                [
                  "19",
                  "C0042963",
                  "Vomiting"
                ],
                [
                  "20",
                  "C0553668",
                  "Labored Breathing"
                ],
                [
                  "21",
                  "C0424000",
                  "Feeling Suicidal"
                ],
                [
                  "22",
                  "C0438696",
                  "Suicidal"
                ],
                [
                  "23",
                  "C0233762",
                  "Hallucinations Auditory"
                ],
                [
                  "24",
                  "C0150041",
                  "Feeling Hopeless"
                ],
                [
                  "25",
                  "C0424109",
                  "Weepiness"
                ],
                [
                  "26",
                  "C0917801",
                  "Sleeplessness"
                ],
                [
                  "27",
                  "C0424230",
                  "Motor Retardation"
                ],
                [
                  "28",
                  "C0022107",
                  "Irritable Mood"
                ],
                [
                  "29",
                  "C0312422",
                  "Blackout"
                ],
                [
                  "30",
                  "C0344315",
                  "Mood Depressed"
                ],
                [
                  "31",
                  "C0233763",
                  "Hallucinations Visual"
                ],
                [
                  "32",
                  "C0233481",
                  "Worry"
                ],
                [
                  "33",
                  "C0085631",
                  "Agitation"
                ],
                [
                  "34",
                  "C0040822",
                  "Tremor"
                ],
                [
                  "35",
                  "C0728899",
                  "Intoxication"
                ],
                [
                  "36",
                  "C0424068",
                  "Verbal Auditory Hallucinations"
                ],
                [
                  "37",
                  "C0455769",
                  "Energy Increased"
                ],
                [
                  "38",
                  "C1299586",
                  "Difficulty"
                ],
                [
                  "39",
                  "C0028084",
                  "Nightmare"
                ],
                [
                  "40",
                  "C0235198",
                  "Unable To Concentrate"
                ],
                [
                  "41",
                  "C0237154",
                  "Homelessness"
                ],
                [
                  "42",
                  "C0086439",
                  "Hypokinesia"
                ],
                [
                  "43",
                  "C0231807",
                  "Dyspnea On Exertion"
                ],
                [
                  "44",
                  "C0232292",
                  "Chest Tightness"
                ],
                [
                  "45",
                  "C0010200",
                  "Cough"
                ],
                [
                  "46",
                  "C0015967",
                  "Fever"
                ],
                [
                  "47",
                  "C0029053",
                  "Decreased Translucency"
                ],
                [
                  "48",
                  "C0239134",
                  "Productive Cough"
                ],
                [
                  "49",
                  "C0008033",
                  "Pleuritic Pain"
                ]
              ],
              "shape": {
                "columns": 2,
                "rows": 406
              }
            },
            "text/html": [
              "<div>\n",
              "<style scoped>\n",
              "    .dataframe tbody tr th:only-of-type {\n",
              "        vertical-align: middle;\n",
              "    }\n",
              "\n",
              "    .dataframe tbody tr th {\n",
              "        vertical-align: top;\n",
              "    }\n",
              "\n",
              "    .dataframe thead th {\n",
              "        text-align: right;\n",
              "    }\n",
              "</style>\n",
              "<table border=\"1\" class=\"dataframe\">\n",
              "  <thead>\n",
              "    <tr style=\"text-align: right;\">\n",
              "      <th></th>\n",
              "      <th>symptom_id</th>\n",
              "      <th>s_name</th>\n",
              "    </tr>\n",
              "  </thead>\n",
              "  <tbody>\n",
              "    <tr>\n",
              "      <th>0</th>\n",
              "      <td>C0008031</td>\n",
              "      <td>Pain Chest</td>\n",
              "    </tr>\n",
              "    <tr>\n",
              "      <th>1</th>\n",
              "      <td>C0392680</td>\n",
              "      <td>Shortness Of Breath</td>\n",
              "    </tr>\n",
              "    <tr>\n",
              "      <th>2</th>\n",
              "      <td>C0012833</td>\n",
              "      <td>Dizziness</td>\n",
              "    </tr>\n",
              "    <tr>\n",
              "      <th>3</th>\n",
              "      <td>C0004093</td>\n",
              "      <td>Asthenia</td>\n",
              "    </tr>\n",
              "    <tr>\n",
              "      <th>4</th>\n",
              "      <td>C0085639</td>\n",
              "      <td>Fall</td>\n",
              "    </tr>\n",
              "    <tr>\n",
              "      <th>...</th>\n",
              "      <td>...</td>\n",
              "      <td>...</td>\n",
              "    </tr>\n",
              "    <tr>\n",
              "      <th>401</th>\n",
              "      <td>C0740844</td>\n",
              "      <td>Air Fluid Level</td>\n",
              "    </tr>\n",
              "    <tr>\n",
              "      <th>402</th>\n",
              "      <td>C0425491</td>\n",
              "      <td>Catching Breath</td>\n",
              "    </tr>\n",
              "    <tr>\n",
              "      <th>403</th>\n",
              "      <td>C0456091</td>\n",
              "      <td>Large-For-Dates Fetus</td>\n",
              "    </tr>\n",
              "    <tr>\n",
              "      <th>404</th>\n",
              "      <td>C0231441</td>\n",
              "      <td>Immobile</td>\n",
              "    </tr>\n",
              "    <tr>\n",
              "      <th>405</th>\n",
              "      <td>C0455204</td>\n",
              "      <td>Homicidal Thoughts</td>\n",
              "    </tr>\n",
              "  </tbody>\n",
              "</table>\n",
              "<p>406 rows × 2 columns</p>\n",
              "</div>"
            ],
            "text/plain": [
              "    symptom_id                 s_name\n",
              "0     C0008031             Pain Chest\n",
              "1     C0392680    Shortness Of Breath\n",
              "2     C0012833              Dizziness\n",
              "3     C0004093               Asthenia\n",
              "4     C0085639                   Fall\n",
              "..         ...                    ...\n",
              "401   C0740844        Air Fluid Level\n",
              "402   C0425491        Catching Breath\n",
              "403   C0456091  Large-For-Dates Fetus\n",
              "404   C0231441               Immobile\n",
              "405   C0455204     Homicidal Thoughts\n",
              "\n",
              "[406 rows x 2 columns]"
            ]
          },
          "execution_count": 18,
          "metadata": {},
          "output_type": "execute_result"
        }
      ],
      "source": [
        "# Step 1: Remove rows with null values in 'symptom_id' or 's_name'\n",
        "symptoms_df = symptoms_df.dropna(subset=['symptom_id', 's_name'])\n",
        "\n",
        "# Step 2: Remove rows where 's_name' is empty or contains only whitespace\n",
        "symptoms_df = symptoms_df[symptoms_df['s_name'].str.strip() != '']\n",
        "\n",
        "# Step 3: Retain only rows with unique symptom_id\n",
        "symptoms_df = symptoms_df.drop_duplicates(subset='symptom_id')\n",
        "\n",
        "# Step 4: Convert s_name column to title case\n",
        "symptoms_df['s_name'] = symptoms_df['s_name'].str.title()\n",
        "\n",
        "# Step 5: Reset the index\n",
        "symptoms_df = symptoms_df.reset_index(drop=True)\n",
        "\n",
        "# Print the updated DataFrame\n",
        "print(\"\\nUpdated symptoms_df with unique symptom_id values, no nulls, s_name in title case, and reset index:\")\n",
        "symptoms_df"
      ]
    },
    {
      "cell_type": "code",
      "execution_count": 19,
      "metadata": {},
      "outputs": [
        {
          "name": "stdout",
          "output_type": "stream",
          "text": [
            "\n",
            "Updated DataFrame (df_copy) with 'Disease' column filled:\n"
          ]
        },
        {
          "data": {
            "application/vnd.microsoft.datawrangler.viewer.v0+json": {
              "columns": [
                {
                  "name": "index",
                  "rawType": "int64",
                  "type": "integer"
                },
                {
                  "name": "Disease",
                  "rawType": "object",
                  "type": "string"
                },
                {
                  "name": "Count of Disease\n  Occurrence",
                  "rawType": "object",
                  "type": "string"
                },
                {
                  "name": "Symptom",
                  "rawType": "object",
                  "type": "string"
                },
                {
                  "name": "UMLS_Count",
                  "rawType": "int64",
                  "type": "integer"
                }
              ],
              "conversionMethod": "pd.DataFrame",
              "ref": "b3b608b9-9f5e-43fb-b608-3fc9e09fc412",
              "rows": [
                [
                  "0",
                  "UMLS:C0020538_hypertensive   disease",
                  "3363",
                  "UMLS:C0008031_pain\n  chest",
                  "1"
                ],
                [
                  "1",
                  "UMLS:C0020538_hypertensive   disease",
                  "",
                  "UMLS:C0392680_shortness\n  of breath",
                  "1"
                ],
                [
                  "2",
                  "UMLS:C0020538_hypertensive   disease",
                  "",
                  "UMLS:C0012833_dizziness",
                  "1"
                ],
                [
                  "3",
                  "UMLS:C0020538_hypertensive   disease",
                  "",
                  "UMLS:C0004093_asthenia",
                  "1"
                ],
                [
                  "4",
                  "UMLS:C0020538_hypertensive   disease",
                  "",
                  "UMLS:C0085639_fall",
                  "1"
                ],
                [
                  "5",
                  "UMLS:C0020538_hypertensive   disease",
                  "",
                  "UMLS:C0039070_syncope",
                  "1"
                ],
                [
                  "6",
                  "UMLS:C0020538_hypertensive   disease",
                  "",
                  "UMLS:C0042571_vertigo",
                  "1"
                ],
                [
                  "7",
                  "UMLS:C0020538_hypertensive   disease",
                  "",
                  "UMLS:C0038990_sweat^UMLS:C0700590_sweating\n  increased",
                  "2"
                ],
                [
                  "8",
                  "UMLS:C0020538_hypertensive   disease",
                  "",
                  "UMLS:C0030252_palpitation",
                  "1"
                ],
                [
                  "9",
                  "UMLS:C0020538_hypertensive   disease",
                  "",
                  "UMLS:C0027497_nausea",
                  "1"
                ],
                [
                  "10",
                  "UMLS:C0020538_hypertensive   disease",
                  "",
                  "UMLS:C0002962_angina\n  pectoris",
                  "1"
                ],
                [
                  "11",
                  "UMLS:C0020538_hypertensive   disease",
                  "",
                  "UMLS:C0438716_pressure\n  chest",
                  "1"
                ],
                [
                  "12",
                  "UMLS:C0011847_diabetes",
                  "1421",
                  "UMLS:C0032617_polyuria",
                  "1"
                ],
                [
                  "13",
                  "UMLS:C0011847_diabetes",
                  "",
                  "UMLS:C0085602_polydypsia",
                  "1"
                ],
                [
                  "14",
                  "UMLS:C0011847_diabetes",
                  "",
                  "UMLS:C0392680_shortness\n  of breath",
                  "1"
                ],
                [
                  "15",
                  "UMLS:C0011847_diabetes",
                  "",
                  "UMLS:C0008031_pain\n  chest",
                  "1"
                ],
                [
                  "16",
                  "UMLS:C0011847_diabetes",
                  "",
                  "UMLS:C0004093_asthenia",
                  "1"
                ],
                [
                  "17",
                  "UMLS:C0011847_diabetes",
                  "",
                  "UMLS:C0027497_nausea",
                  "1"
                ],
                [
                  "18",
                  "UMLS:C0011847_diabetes",
                  "",
                  "UMLS:C0085619_orthopnea",
                  "1"
                ],
                [
                  "19",
                  "UMLS:C0011847_diabetes",
                  "",
                  "UMLS:C0034642_rale",
                  "1"
                ],
                [
                  "20",
                  "UMLS:C0011847_diabetes",
                  "",
                  "UMLS:C0038990_sweat^UMLS:C0700590_sweating\n  increased",
                  "2"
                ],
                [
                  "21",
                  "UMLS:C0011847_diabetes",
                  "",
                  "UMLS:C0241526_unresponsiveness",
                  "1"
                ],
                [
                  "22",
                  "UMLS:C0011847_diabetes",
                  "",
                  "UMLS:C0856054_mental\n  status changes",
                  "1"
                ],
                [
                  "23",
                  "UMLS:C0011847_diabetes",
                  "",
                  "UMLS:C0042571_vertigo",
                  "1"
                ],
                [
                  "24",
                  "UMLS:C0011847_diabetes",
                  "",
                  "UMLS:C0042963_vomiting",
                  "1"
                ],
                [
                  "25",
                  "UMLS:C0011847_diabetes",
                  "",
                  "UMLS:C0553668_labored breathing",
                  "1"
                ],
                [
                  "26",
                  "UMLS:C0011570_depression   mental^UMLS:C0011581_depressive disorder",
                  "1337",
                  "UMLS:C0424000_feeling\n  suicidal",
                  "1"
                ],
                [
                  "27",
                  "UMLS:C0011570_depression   mental^UMLS:C0011581_depressive disorder",
                  "",
                  "UMLS:C0438696_suicidal",
                  "1"
                ],
                [
                  "28",
                  "UMLS:C0011570_depression   mental^UMLS:C0011581_depressive disorder",
                  "",
                  "UMLS:C0233762_hallucinations\n  auditory",
                  "1"
                ],
                [
                  "29",
                  "UMLS:C0011570_depression   mental^UMLS:C0011581_depressive disorder",
                  "",
                  "UMLS:C0150041_feeling\n  hopeless",
                  "1"
                ],
                [
                  "30",
                  "UMLS:C0011570_depression   mental^UMLS:C0011581_depressive disorder",
                  "",
                  "UMLS:C0424109_weepiness",
                  "1"
                ],
                [
                  "31",
                  "UMLS:C0011570_depression   mental^UMLS:C0011581_depressive disorder",
                  "",
                  "UMLS:C0917801_sleeplessness",
                  "1"
                ],
                [
                  "32",
                  "UMLS:C0011570_depression   mental^UMLS:C0011581_depressive disorder",
                  "",
                  "UMLS:C0424230_motor\n  retardation",
                  "1"
                ],
                [
                  "33",
                  "UMLS:C0011570_depression   mental^UMLS:C0011581_depressive disorder",
                  "",
                  "UMLS:C0022107_irritable\n  mood",
                  "1"
                ],
                [
                  "34",
                  "UMLS:C0011570_depression   mental^UMLS:C0011581_depressive disorder",
                  "",
                  "UMLS:C0312422_blackout",
                  "1"
                ],
                [
                  "35",
                  "UMLS:C0011570_depression   mental^UMLS:C0011581_depressive disorder",
                  "",
                  "UMLS:C0344315_mood\n  depressed",
                  "1"
                ],
                [
                  "36",
                  "UMLS:C0011570_depression   mental^UMLS:C0011581_depressive disorder",
                  "",
                  "UMLS:C0233763_hallucinations\n  visual",
                  "1"
                ],
                [
                  "37",
                  "UMLS:C0011570_depression   mental^UMLS:C0011581_depressive disorder",
                  "",
                  "UMLS:C0233481_worry",
                  "1"
                ],
                [
                  "38",
                  "UMLS:C0011570_depression   mental^UMLS:C0011581_depressive disorder",
                  "",
                  "UMLS:C0085631_agitation",
                  "1"
                ],
                [
                  "39",
                  "UMLS:C0011570_depression   mental^UMLS:C0011581_depressive disorder",
                  "",
                  "UMLS:C0040822_tremor",
                  "1"
                ],
                [
                  "40",
                  "UMLS:C0011570_depression   mental^UMLS:C0011581_depressive disorder",
                  "",
                  "UMLS:C0728899_intoxication",
                  "1"
                ],
                [
                  "41",
                  "UMLS:C0011570_depression   mental^UMLS:C0011581_depressive disorder",
                  "",
                  "UMLS:C0424068_verbal\n  auditory hallucinations",
                  "1"
                ],
                [
                  "42",
                  "UMLS:C0011570_depression   mental^UMLS:C0011581_depressive disorder",
                  "",
                  "UMLS:C0455769_energy\n  increased",
                  "1"
                ],
                [
                  "43",
                  "UMLS:C0011570_depression   mental^UMLS:C0011581_depressive disorder",
                  "",
                  "UMLS:C1299586_difficulty",
                  "1"
                ],
                [
                  "44",
                  "UMLS:C0011570_depression   mental^UMLS:C0011581_depressive disorder",
                  "",
                  "UMLS:C0028084_nightmare",
                  "1"
                ],
                [
                  "45",
                  "UMLS:C0011570_depression   mental^UMLS:C0011581_depressive disorder",
                  "",
                  "UMLS:C0235198_unable\n  to concentrate",
                  "1"
                ],
                [
                  "46",
                  "UMLS:C0011570_depression   mental^UMLS:C0011581_depressive disorder",
                  "",
                  "UMLS:C0237154_homelessness",
                  "1"
                ],
                [
                  "47",
                  "UMLS:C0010054_coronary   arteriosclerosis^UMLS:C0010068_coronary heart disease",
                  "1284",
                  "UMLS:C0008031_pain\n  chest",
                  "1"
                ],
                [
                  "48",
                  "UMLS:C0010054_coronary   arteriosclerosis^UMLS:C0010068_coronary heart disease",
                  "",
                  "UMLS:C0002962_angina\n  pectoris",
                  "1"
                ],
                [
                  "49",
                  "UMLS:C0010054_coronary   arteriosclerosis^UMLS:C0010068_coronary heart disease",
                  "",
                  "UMLS:C0392680_shortness\n  of breath",
                  "1"
                ]
              ],
              "shape": {
                "columns": 4,
                "rows": 1866
              }
            },
            "text/html": [
              "<div>\n",
              "<style scoped>\n",
              "    .dataframe tbody tr th:only-of-type {\n",
              "        vertical-align: middle;\n",
              "    }\n",
              "\n",
              "    .dataframe tbody tr th {\n",
              "        vertical-align: top;\n",
              "    }\n",
              "\n",
              "    .dataframe thead th {\n",
              "        text-align: right;\n",
              "    }\n",
              "</style>\n",
              "<table border=\"1\" class=\"dataframe\">\n",
              "  <thead>\n",
              "    <tr style=\"text-align: right;\">\n",
              "      <th></th>\n",
              "      <th>Disease</th>\n",
              "      <th>Count of Disease\\n  Occurrence</th>\n",
              "      <th>Symptom</th>\n",
              "      <th>UMLS_Count</th>\n",
              "    </tr>\n",
              "  </thead>\n",
              "  <tbody>\n",
              "    <tr>\n",
              "      <th>0</th>\n",
              "      <td>UMLS:C0020538_hypertensive   disease</td>\n",
              "      <td>3363</td>\n",
              "      <td>UMLS:C0008031_pain\\n  chest</td>\n",
              "      <td>1</td>\n",
              "    </tr>\n",
              "    <tr>\n",
              "      <th>1</th>\n",
              "      <td>UMLS:C0020538_hypertensive   disease</td>\n",
              "      <td></td>\n",
              "      <td>UMLS:C0392680_shortness\\n  of breath</td>\n",
              "      <td>1</td>\n",
              "    </tr>\n",
              "    <tr>\n",
              "      <th>2</th>\n",
              "      <td>UMLS:C0020538_hypertensive   disease</td>\n",
              "      <td></td>\n",
              "      <td>UMLS:C0012833_dizziness</td>\n",
              "      <td>1</td>\n",
              "    </tr>\n",
              "    <tr>\n",
              "      <th>3</th>\n",
              "      <td>UMLS:C0020538_hypertensive   disease</td>\n",
              "      <td></td>\n",
              "      <td>UMLS:C0004093_asthenia</td>\n",
              "      <td>1</td>\n",
              "    </tr>\n",
              "    <tr>\n",
              "      <th>4</th>\n",
              "      <td>UMLS:C0020538_hypertensive   disease</td>\n",
              "      <td></td>\n",
              "      <td>UMLS:C0085639_fall</td>\n",
              "      <td>1</td>\n",
              "    </tr>\n",
              "    <tr>\n",
              "      <th>...</th>\n",
              "      <td>...</td>\n",
              "      <td>...</td>\n",
              "      <td>...</td>\n",
              "      <td>...</td>\n",
              "    </tr>\n",
              "    <tr>\n",
              "      <th>1861</th>\n",
              "      <td>UMLS:C0233472_affect   labile</td>\n",
              "      <td></td>\n",
              "      <td>UMLS:C0425251_bedridden^UMLS:C0741453_bedridden</td>\n",
              "      <td>2</td>\n",
              "    </tr>\n",
              "    <tr>\n",
              "      <th>1862</th>\n",
              "      <td>UMLS:C0233472_affect   labile</td>\n",
              "      <td></td>\n",
              "      <td>UMLS:C0242453_prostatism</td>\n",
              "      <td>1</td>\n",
              "    </tr>\n",
              "    <tr>\n",
              "      <th>1863</th>\n",
              "      <td>UMLS:C0011127_decubitus   ulcer</td>\n",
              "      <td>42</td>\n",
              "      <td>UMLS:C0232257_systolic murmur</td>\n",
              "      <td>1</td>\n",
              "    </tr>\n",
              "    <tr>\n",
              "      <th>1864</th>\n",
              "      <td>UMLS:C0011127_decubitus   ulcer</td>\n",
              "      <td></td>\n",
              "      <td>UMLS:C0871754_frail</td>\n",
              "      <td>1</td>\n",
              "    </tr>\n",
              "    <tr>\n",
              "      <th>1865</th>\n",
              "      <td>UMLS:C0011127_decubitus   ulcer</td>\n",
              "      <td></td>\n",
              "      <td>UMLS:C0015967_fever</td>\n",
              "      <td>1</td>\n",
              "    </tr>\n",
              "  </tbody>\n",
              "</table>\n",
              "<p>1866 rows × 4 columns</p>\n",
              "</div>"
            ],
            "text/plain": [
              "                                   Disease Count of Disease\\n  Occurrence  \\\n",
              "0     UMLS:C0020538_hypertensive   disease                           3363   \n",
              "1     UMLS:C0020538_hypertensive   disease                                  \n",
              "2     UMLS:C0020538_hypertensive   disease                                  \n",
              "3     UMLS:C0020538_hypertensive   disease                                  \n",
              "4     UMLS:C0020538_hypertensive   disease                                  \n",
              "...                                    ...                            ...   \n",
              "1861         UMLS:C0233472_affect   labile                                  \n",
              "1862         UMLS:C0233472_affect   labile                                  \n",
              "1863       UMLS:C0011127_decubitus   ulcer                             42   \n",
              "1864       UMLS:C0011127_decubitus   ulcer                                  \n",
              "1865       UMLS:C0011127_decubitus   ulcer                                  \n",
              "\n",
              "                                              Symptom  UMLS_Count  \n",
              "0                         UMLS:C0008031_pain\\n  chest           1  \n",
              "1                UMLS:C0392680_shortness\\n  of breath           1  \n",
              "2                             UMLS:C0012833_dizziness           1  \n",
              "3                              UMLS:C0004093_asthenia           1  \n",
              "4                                  UMLS:C0085639_fall           1  \n",
              "...                                               ...         ...  \n",
              "1861  UMLS:C0425251_bedridden^UMLS:C0741453_bedridden           2  \n",
              "1862                         UMLS:C0242453_prostatism           1  \n",
              "1863                    UMLS:C0232257_systolic murmur           1  \n",
              "1864                              UMLS:C0871754_frail           1  \n",
              "1865                              UMLS:C0015967_fever           1  \n",
              "\n",
              "[1866 rows x 4 columns]"
            ]
          },
          "execution_count": 19,
          "metadata": {},
          "output_type": "execute_result"
        }
      ],
      "source": [
        "# Step 1: Create a copy of the original DataFrame\n",
        "df_copy = df.copy()\n",
        "\n",
        "# Step 2: Replace different representations of empty values with actual NA\n",
        "df_copy['Disease'] = df_copy['Disease'].replace(['', 'None', 'nan'], pd.NA)\n",
        "\n",
        "# Step 3: Fill empty rows with the last valid entry\n",
        "last_valid_entry = None\n",
        "for i, disease_entry in enumerate(df_copy['Disease']):\n",
        "    if pd.notna(disease_entry):  # If the entry is valid, update last_valid_entry\n",
        "        last_valid_entry = disease_entry\n",
        "    else:  # If the entry is empty, use the last valid entry\n",
        "        df_copy.at[i, 'Disease'] = last_valid_entry\n",
        "\n",
        "# Step 4: Display the updated DataFrame\n",
        "print(\"\\nUpdated DataFrame (df_copy) with 'Disease' column filled:\")\n",
        "df_copy"
      ]
    },
    {
      "cell_type": "code",
      "execution_count": 20,
      "metadata": {},
      "outputs": [
        {
          "name": "stdout",
          "output_type": "stream",
          "text": [
            "\n",
            "Final disease_symptom_df created:\n"
          ]
        },
        {
          "data": {
            "application/vnd.microsoft.datawrangler.viewer.v0+json": {
              "columns": [
                {
                  "name": "index",
                  "rawType": "int64",
                  "type": "integer"
                },
                {
                  "name": "disease_id",
                  "rawType": "object",
                  "type": "string"
                },
                {
                  "name": "d_name",
                  "rawType": "object",
                  "type": "string"
                },
                {
                  "name": "symptom_id",
                  "rawType": "object",
                  "type": "string"
                },
                {
                  "name": "s_name",
                  "rawType": "object",
                  "type": "string"
                }
              ],
              "conversionMethod": "pd.DataFrame",
              "ref": "2bd151af-1cf9-46b9-8f2a-d0e42e605a64",
              "rows": [
                [
                  "0",
                  "C0020538",
                  "Hypertensive Disease",
                  "C0008031",
                  "Pain Chest"
                ],
                [
                  "1",
                  "C0020538",
                  "Hypertensive Disease",
                  "C0392680",
                  "Shortness Of Breath"
                ],
                [
                  "2",
                  "C0020538",
                  "Hypertensive Disease",
                  "C0012833",
                  "Dizziness"
                ],
                [
                  "3",
                  "C0020538",
                  "Hypertensive Disease",
                  "C0004093",
                  "Asthenia"
                ],
                [
                  "4",
                  "C0020538",
                  "Hypertensive Disease",
                  "C0085639",
                  "Fall"
                ],
                [
                  "5",
                  "C0020538",
                  "Hypertensive Disease",
                  "C0039070",
                  "Syncope"
                ],
                [
                  "6",
                  "C0020538",
                  "Hypertensive Disease",
                  "C0042571",
                  "Vertigo"
                ],
                [
                  "7",
                  "C0020538",
                  "Hypertensive Disease",
                  "C0038990",
                  "Sweat"
                ],
                [
                  "8",
                  "C0020538",
                  "Hypertensive Disease",
                  "C0700590",
                  "Sweating Increased"
                ],
                [
                  "9",
                  "C0020538",
                  "Hypertensive Disease",
                  "C0030252",
                  "Palpitation"
                ],
                [
                  "10",
                  "C0020538",
                  "Hypertensive Disease",
                  "C0027497",
                  "Nausea"
                ],
                [
                  "11",
                  "C0020538",
                  "Hypertensive Disease",
                  "C0002962",
                  "Angina Pectoris"
                ],
                [
                  "12",
                  "C0020538",
                  "Hypertensive Disease",
                  "C0438716",
                  "Pressure Chest"
                ],
                [
                  "13",
                  "C0011847",
                  "Diabetes",
                  "C0032617",
                  "Polyuria"
                ],
                [
                  "14",
                  "C0011847",
                  "Diabetes",
                  "C0085602",
                  "Polydypsia"
                ],
                [
                  "15",
                  "C0011847",
                  "Diabetes",
                  "C0392680",
                  "Shortness Of Breath"
                ],
                [
                  "16",
                  "C0011847",
                  "Diabetes",
                  "C0008031",
                  "Pain Chest"
                ],
                [
                  "17",
                  "C0011847",
                  "Diabetes",
                  "C0004093",
                  "Asthenia"
                ],
                [
                  "18",
                  "C0011847",
                  "Diabetes",
                  "C0027497",
                  "Nausea"
                ],
                [
                  "19",
                  "C0011847",
                  "Diabetes",
                  "C0085619",
                  "Orthopnea"
                ],
                [
                  "20",
                  "C0011847",
                  "Diabetes",
                  "C0034642",
                  "Rale"
                ],
                [
                  "21",
                  "C0011847",
                  "Diabetes",
                  "C0038990",
                  "Sweat"
                ],
                [
                  "22",
                  "C0011847",
                  "Diabetes",
                  "C0700590",
                  "Sweating Increased"
                ],
                [
                  "23",
                  "C0011847",
                  "Diabetes",
                  "C0241526",
                  "Unresponsiveness"
                ],
                [
                  "24",
                  "C0011847",
                  "Diabetes",
                  "C0856054",
                  "Mental Status Changes"
                ],
                [
                  "25",
                  "C0011847",
                  "Diabetes",
                  "C0042571",
                  "Vertigo"
                ],
                [
                  "26",
                  "C0011847",
                  "Diabetes",
                  "C0042963",
                  "Vomiting"
                ],
                [
                  "27",
                  "C0011847",
                  "Diabetes",
                  "C0553668",
                  "Labored Breathing"
                ],
                [
                  "28",
                  "C0011570",
                  "Depression Mental",
                  "C0424000",
                  "Feeling Suicidal"
                ],
                [
                  "29",
                  "C0011570",
                  "Depression Mental",
                  "C0438696",
                  "Suicidal"
                ],
                [
                  "30",
                  "C0011570",
                  "Depression Mental",
                  "C0233762",
                  "Hallucinations Auditory"
                ],
                [
                  "31",
                  "C0011570",
                  "Depression Mental",
                  "C0150041",
                  "Feeling Hopeless"
                ],
                [
                  "32",
                  "C0011570",
                  "Depression Mental",
                  "C0424109",
                  "Weepiness"
                ],
                [
                  "33",
                  "C0011570",
                  "Depression Mental",
                  "C0917801",
                  "Sleeplessness"
                ],
                [
                  "34",
                  "C0011570",
                  "Depression Mental",
                  "C0424230",
                  "Motor Retardation"
                ],
                [
                  "35",
                  "C0011570",
                  "Depression Mental",
                  "C0022107",
                  "Irritable Mood"
                ],
                [
                  "36",
                  "C0011570",
                  "Depression Mental",
                  "C0312422",
                  "Blackout"
                ],
                [
                  "37",
                  "C0011570",
                  "Depression Mental",
                  "C0344315",
                  "Mood Depressed"
                ],
                [
                  "38",
                  "C0011570",
                  "Depression Mental",
                  "C0233763",
                  "Hallucinations Visual"
                ],
                [
                  "39",
                  "C0011570",
                  "Depression Mental",
                  "C0233481",
                  "Worry"
                ],
                [
                  "40",
                  "C0011570",
                  "Depression Mental",
                  "C0085631",
                  "Agitation"
                ],
                [
                  "41",
                  "C0011570",
                  "Depression Mental",
                  "C0040822",
                  "Tremor"
                ],
                [
                  "42",
                  "C0011570",
                  "Depression Mental",
                  "C0728899",
                  "Intoxication"
                ],
                [
                  "43",
                  "C0011570",
                  "Depression Mental",
                  "C0424068",
                  "Verbal Auditory Hallucinations"
                ],
                [
                  "44",
                  "C0011570",
                  "Depression Mental",
                  "C0455769",
                  "Energy Increased"
                ],
                [
                  "45",
                  "C0011570",
                  "Depression Mental",
                  "C1299586",
                  "Difficulty"
                ],
                [
                  "46",
                  "C0011570",
                  "Depression Mental",
                  "C0028084",
                  "Nightmare"
                ],
                [
                  "47",
                  "C0011570",
                  "Depression Mental",
                  "C0235198",
                  "Unable To Concentrate"
                ],
                [
                  "48",
                  "C0011570",
                  "Depression Mental",
                  "C0237154",
                  "Homelessness"
                ],
                [
                  "49",
                  "C0010054",
                  "Coronary Arteriosclerosis",
                  "C0008031",
                  "Pain Chest"
                ]
              ],
              "shape": {
                "columns": 4,
                "rows": 1906
              }
            },
            "text/html": [
              "<div>\n",
              "<style scoped>\n",
              "    .dataframe tbody tr th:only-of-type {\n",
              "        vertical-align: middle;\n",
              "    }\n",
              "\n",
              "    .dataframe tbody tr th {\n",
              "        vertical-align: top;\n",
              "    }\n",
              "\n",
              "    .dataframe thead th {\n",
              "        text-align: right;\n",
              "    }\n",
              "</style>\n",
              "<table border=\"1\" class=\"dataframe\">\n",
              "  <thead>\n",
              "    <tr style=\"text-align: right;\">\n",
              "      <th></th>\n",
              "      <th>disease_id</th>\n",
              "      <th>d_name</th>\n",
              "      <th>symptom_id</th>\n",
              "      <th>s_name</th>\n",
              "    </tr>\n",
              "  </thead>\n",
              "  <tbody>\n",
              "    <tr>\n",
              "      <th>0</th>\n",
              "      <td>C0020538</td>\n",
              "      <td>Hypertensive Disease</td>\n",
              "      <td>C0008031</td>\n",
              "      <td>Pain Chest</td>\n",
              "    </tr>\n",
              "    <tr>\n",
              "      <th>1</th>\n",
              "      <td>C0020538</td>\n",
              "      <td>Hypertensive Disease</td>\n",
              "      <td>C0392680</td>\n",
              "      <td>Shortness Of Breath</td>\n",
              "    </tr>\n",
              "    <tr>\n",
              "      <th>2</th>\n",
              "      <td>C0020538</td>\n",
              "      <td>Hypertensive Disease</td>\n",
              "      <td>C0012833</td>\n",
              "      <td>Dizziness</td>\n",
              "    </tr>\n",
              "    <tr>\n",
              "      <th>3</th>\n",
              "      <td>C0020538</td>\n",
              "      <td>Hypertensive Disease</td>\n",
              "      <td>C0004093</td>\n",
              "      <td>Asthenia</td>\n",
              "    </tr>\n",
              "    <tr>\n",
              "      <th>4</th>\n",
              "      <td>C0020538</td>\n",
              "      <td>Hypertensive Disease</td>\n",
              "      <td>C0085639</td>\n",
              "      <td>Fall</td>\n",
              "    </tr>\n",
              "    <tr>\n",
              "      <th>...</th>\n",
              "      <td>...</td>\n",
              "      <td>...</td>\n",
              "      <td>...</td>\n",
              "      <td>...</td>\n",
              "    </tr>\n",
              "    <tr>\n",
              "      <th>1901</th>\n",
              "      <td>C0233472</td>\n",
              "      <td>Affect Labile</td>\n",
              "      <td>C0741453</td>\n",
              "      <td>Bedridden</td>\n",
              "    </tr>\n",
              "    <tr>\n",
              "      <th>1902</th>\n",
              "      <td>C0233472</td>\n",
              "      <td>Affect Labile</td>\n",
              "      <td>C0242453</td>\n",
              "      <td>Prostatism</td>\n",
              "    </tr>\n",
              "    <tr>\n",
              "      <th>1903</th>\n",
              "      <td>C0011127</td>\n",
              "      <td>Decubitus Ulcer</td>\n",
              "      <td>C0232257</td>\n",
              "      <td>Systolic Murmur</td>\n",
              "    </tr>\n",
              "    <tr>\n",
              "      <th>1904</th>\n",
              "      <td>C0011127</td>\n",
              "      <td>Decubitus Ulcer</td>\n",
              "      <td>C0871754</td>\n",
              "      <td>Frail</td>\n",
              "    </tr>\n",
              "    <tr>\n",
              "      <th>1905</th>\n",
              "      <td>C0011127</td>\n",
              "      <td>Decubitus Ulcer</td>\n",
              "      <td>C0015967</td>\n",
              "      <td>Fever</td>\n",
              "    </tr>\n",
              "  </tbody>\n",
              "</table>\n",
              "<p>1906 rows × 4 columns</p>\n",
              "</div>"
            ],
            "text/plain": [
              "     disease_id                d_name symptom_id               s_name\n",
              "0      C0020538  Hypertensive Disease   C0008031           Pain Chest\n",
              "1      C0020538  Hypertensive Disease   C0392680  Shortness Of Breath\n",
              "2      C0020538  Hypertensive Disease   C0012833            Dizziness\n",
              "3      C0020538  Hypertensive Disease   C0004093             Asthenia\n",
              "4      C0020538  Hypertensive Disease   C0085639                 Fall\n",
              "...         ...                   ...        ...                  ...\n",
              "1901   C0233472         Affect Labile   C0741453            Bedridden\n",
              "1902   C0233472         Affect Labile   C0242453           Prostatism\n",
              "1903   C0011127       Decubitus Ulcer   C0232257      Systolic Murmur\n",
              "1904   C0011127       Decubitus Ulcer   C0871754                Frail\n",
              "1905   C0011127       Decubitus Ulcer   C0015967                Fever\n",
              "\n",
              "[1906 rows x 4 columns]"
            ]
          },
          "execution_count": 20,
          "metadata": {},
          "output_type": "execute_result"
        }
      ],
      "source": [
        "# Step 1: Initialize lists for storing extracted data\n",
        "data_list = []\n",
        "\n",
        "# Create a set of valid symptom_ids from symptoms_df\n",
        "valid_symptom_ids = set(symptoms_df['symptom_id'])\n",
        "\n",
        "# Step 2: Iterate through each row of df_copy\n",
        "for _, row in df_copy.iterrows():\n",
        "    disease = row['Disease']\n",
        "    symptom = row['Symptom']\n",
        "\n",
        "    # Parse out disease_id and d_name\n",
        "    if pd.notna(disease):\n",
        "        disease_entry = next((e.strip() for e in disease.split('^') if e.startswith(\"UMLS:\")), None)\n",
        "        if disease_entry and '_' in disease_entry:\n",
        "            disease_parts = disease_entry.split('_', 1)\n",
        "            if len(disease_parts) == 2:\n",
        "                disease_id = disease_parts[0].replace(\"UMLS:\", \"\").strip()\n",
        "                d_name = ' '.join(disease_parts[1].replace('_', ' ').split()).lower().title()\n",
        "    else:\n",
        "        disease_id = None\n",
        "        d_name = None\n",
        "\n",
        "    # Parse out symptom_id and s_name\n",
        "    if pd.notna(symptom):\n",
        "        symptom_entries = symptom.split('^')\n",
        "        for sym_entry in symptom_entries:\n",
        "            sym_entry = sym_entry.strip()\n",
        "            if sym_entry.startswith(\"UMLS:\") and '_' in sym_entry:\n",
        "                sym_parts = sym_entry.split('_', 1)\n",
        "                if len(sym_parts) == 2:\n",
        "                    symptom_id = sym_parts[0].replace(\"UMLS:\", \"\").strip()\n",
        "                    s_name = ' '.join(sym_parts[1].replace('_', ' ').split()).lower().title()\n",
        "\n",
        "                    # Only append if symptom_id is valid\n",
        "                    if symptom_id in valid_symptom_ids:\n",
        "                        data_list.append({\n",
        "                            'disease_id': disease_id,\n",
        "                            'd_name': d_name,\n",
        "                            'symptom_id': symptom_id,\n",
        "                            's_name': s_name\n",
        "                        })\n",
        "    else:\n",
        "        # If no symptoms are present, add a blank row\n",
        "        data_list.append({\n",
        "            'disease_id': disease_id,\n",
        "            'd_name': d_name,\n",
        "            'symptom_id': None,\n",
        "            's_name': None\n",
        "        })\n",
        "\n",
        "# Step 3: Convert the list into a DataFrame\n",
        "disease_symptom_df = pd.DataFrame(data_list)\n",
        "\n",
        "# Display the resulting DataFrame\n",
        "print(\"\\nFinal disease_symptom_df created:\")\n",
        "disease_symptom_df\n"
      ]
    },
    {
      "cell_type": "code",
      "execution_count": 21,
      "metadata": {},
      "outputs": [
        {
          "name": "stdout",
          "output_type": "stream",
          "text": [
            "DataFrame 'disease_symptom_df' exported successfully!\n"
          ]
        }
      ],
      "source": [
        "# Exporting the disease_symptom_df DataFrame to a CSV file\n",
        "disease_symptom_df.to_csv(\"../resources/disease_symptom_data.csv\", index=False)\n",
        "\n",
        "print(\"DataFrame 'disease_symptom_df' exported successfully!\")\n"
      ]
    },
    {
      "cell_type": "code",
      "execution_count": 22,
      "metadata": {},
      "outputs": [
        {
          "name": "stdout",
          "output_type": "stream",
          "text": [
            "Database disease_symptom_db dropped successfully.\n",
            "Database disease_symptom_db created successfully.\n",
            "SQL schema file executed successfully.\n",
            "Data for diseases_tb uploaded successfully. Total rows: 133\n",
            "Data for symptoms_tb uploaded successfully. Total rows: 406\n",
            "Data for disease_symptom_tb uploaded successfully. Total rows: 1906\n"
          ]
        }
      ],
      "source": [
        "import psycopg2\n",
        "from sqlalchemy import create_engine\n",
        "from psycopg2 import sql\n",
        "\n",
        "\n",
        "# Define initial and target database parameters\n",
        "initial_db_params = {\n",
        "    'dbname': 'postgres',  \n",
        "    'user': 'postgres',\n",
        "    'password': 'postgres',\n",
        "    'host': 'localhost',\n",
        "    'port': '5432'\n",
        "}\n",
        "\n",
        "db_params = {\n",
        "    'dbname': 'disease_symptom_db',  \n",
        "    'user': 'postgres',\n",
        "    'password': 'postgres',\n",
        "    'host': 'localhost',\n",
        "    'port': '5432'\n",
        "}\n",
        "\n",
        "# Functions for database operations\n",
        "def terminate_sessions(cursor, dbname):\n",
        "    cursor.execute(sql.SQL(\"\"\"\n",
        "        SELECT pg_terminate_backend(pid)\n",
        "        FROM pg_stat_activity\n",
        "        WHERE datname = %s AND pid <> pg_backend_pid();\n",
        "    \"\"\"), [dbname])\n",
        "\n",
        "def drop_database(cursor, dbname):\n",
        "    cursor.execute(\"SELECT pg_terminate_backend(pg_stat_activity.pid) FROM pg_stat_activity WHERE pg_stat_activity.datname = %s AND pid <> pg_backend_pid();\", [dbname])\n",
        "    cursor.execute(sql.SQL(\"DROP DATABASE IF EXISTS {}\").format(sql.Identifier(dbname)))\n",
        "\n",
        "def create_database(cursor, dbname):\n",
        "    cursor.execute(sql.SQL(\"CREATE DATABASE {}\").format(sql.Identifier(dbname)))\n",
        "\n",
        "def execute_sql_file(cursor, sql_file_path):\n",
        "    with open(sql_file_path, 'r') as file:\n",
        "        sql_commands = file.read()\n",
        "    cursor.execute(sql.SQL(sql_commands))\n",
        "\n",
        "sql_file_path = 'schema.sql'\n",
        "\n",
        "# Connect to the initial database and create the target database\n",
        "try:\n",
        "    # Connect to the initial database (postgres)\n",
        "    connection = psycopg2.connect(**initial_db_params)\n",
        "    connection.autocommit = True\n",
        "    cursor = connection.cursor()\n",
        "\n",
        "    # Drop the target database if it exists\n",
        "    drop_database(cursor, db_params['dbname'])\n",
        "    print(f\"Database {db_params['dbname']} dropped successfully.\")\n",
        "\n",
        "    # Create the target database\n",
        "    create_database(cursor, db_params['dbname'])\n",
        "    print(f\"Database {db_params['dbname']} created successfully.\")\n",
        "\n",
        "    # Close the initial connection\n",
        "    cursor.close()\n",
        "    connection.close()\n",
        "\n",
        "    # Connect to the newly created target database (stocks_dashboard_db)\n",
        "    connection = psycopg2.connect(**db_params)\n",
        "    cursor = connection.cursor()\n",
        "\n",
        "    # Execute the SQL schema file to set up the database\n",
        "    execute_sql_file(cursor, sql_file_path)\n",
        "    connection.commit()\n",
        "    print(\"SQL schema file executed successfully.\")\n",
        "\n",
        "except Exception as e:\n",
        "    print(f\"An error occurred: {e}\")\n",
        "    if connection:\n",
        "        connection.rollback()\n",
        "\n",
        "finally:\n",
        "    if cursor:\n",
        "        cursor.close()\n",
        "    if connection:\n",
        "        connection.close()\n",
        "        \n",
        "# ==============================================================================================================================================\n",
        "\n",
        "# Function to upload DataFrame to PostgreSQL table\n",
        "def upload_df_to_table(connection_string, table_name, df):\n",
        "    engine = create_engine(connection_string)\n",
        "    df.to_sql(table_name, con=engine, if_exists='append', index=False)\n",
        "    return len(df)\n",
        "\n",
        "# Ensure column names in diseases_df and symptoms_df match the table schema\n",
        "diseases_df.columns = ['disease_id', 'd_name', 'description']\n",
        "symptoms_df.columns = ['symptom_id', 's_name']\n",
        "disease_symptom_df.columns = ['disease_id', 'd_name', 'symptom_id', 's_name']\n",
        "\n",
        "# PostgreSQL connection string\n",
        "connection_string = f\"postgresql://{db_params['user']}:{db_params['password']}@{db_params['host']}:{db_params['port']}/{db_params['dbname']}\"\n",
        "\n",
        "# Upload the DataFrames to PostgreSQL tables\n",
        "try:\n",
        "    # Upload diseases_df to diseases_tb\n",
        "    diseases_rows = upload_df_to_table(connection_string, 'diseases_tb', diseases_df)\n",
        "    print(f\"Data for diseases_tb uploaded successfully. Total rows: {diseases_rows}\")\n",
        "    \n",
        "    # Upload symptoms_df to symptoms_tb\n",
        "    symptoms_rows = upload_df_to_table(connection_string, 'symptoms_tb', symptoms_df)\n",
        "    print(f\"Data for symptoms_tb uploaded successfully. Total rows: {symptoms_rows}\")\n",
        "    \n",
        "    # Upload disease_symptom_df to disease_symptom_tb\n",
        "    disease_symptom_rows = upload_df_to_table(connection_string, 'disease_symptom_tb', disease_symptom_df)\n",
        "    print(f\"Data for disease_symptom_tb uploaded successfully. Total rows: {disease_symptom_rows}\")\n",
        "\n",
        "except Exception as e:\n",
        "    print(f\"An error occurred while uploading data: {e}\")\n"
      ]
    }
  ],
  "metadata": {
    "colab": {
      "provenance": []
    },
    "kernelspec": {
      "display_name": "base",
      "language": "python",
      "name": "python3"
    },
    "language_info": {
      "codemirror_mode": {
        "name": "ipython",
        "version": 3
      },
      "file_extension": ".py",
      "mimetype": "text/x-python",
      "name": "python",
      "nbconvert_exporter": "python",
      "pygments_lexer": "ipython3",
      "version": "3.12.3"
    }
  },
  "nbformat": 4,
  "nbformat_minor": 0
}
