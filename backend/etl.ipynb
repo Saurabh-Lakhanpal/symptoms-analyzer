{
  "cells": [
    {
      "cell_type": "code",
      "execution_count": null,
      "metadata": {
        "id": "u_llum7x5PTs"
      },
      "outputs": [],
      "source": [
        "import os\n",
        "import pandas as pd\n",
        "import requests\n",
        "from bs4 import BeautifulSoup\n",
        "from io import StringIO\n",
        "import re\n",
        "from pprint import pprint"
      ]
    },
    {
      "cell_type": "code",
      "execution_count": 46,
      "metadata": {
        "colab": {
          "base_uri": "https://localhost:8080/"
        },
        "id": "AaU0f-oL47Kt",
        "outputId": "b397053a-9f0b-4ffa-f329-6a7bba9c4ecc"
      },
      "outputs": [
        {
          "name": "stdout",
          "output_type": "stream",
          "text": [
            "Table scraped successfully\n"
          ]
        },
        {
          "data": {
            "application/vnd.microsoft.datawrangler.viewer.v0+json": {
              "columns": [
                {
                  "name": "index",
                  "rawType": "int64",
                  "type": "integer"
                },
                {
                  "name": "Disease",
                  "rawType": "object",
                  "type": "string"
                },
                {
                  "name": "Count of Disease\n  Occurrence",
                  "rawType": "object",
                  "type": "string"
                },
                {
                  "name": "Symptom",
                  "rawType": "object",
                  "type": "string"
                }
              ],
              "conversionMethod": "pd.DataFrame",
              "ref": "37aed42e-e572-4e73-a4e6-eb0a0f8c0ad4",
              "rows": [
                [
                  "0",
                  "UMLS:C0020538_hypertensive\n  disease",
                  "3363",
                  "UMLS:C0008031_pain\n  chest"
                ],
                [
                  "1",
                  "",
                  "",
                  "UMLS:C0392680_shortness\n  of breath"
                ],
                [
                  "2",
                  "",
                  "",
                  "UMLS:C0012833_dizziness"
                ],
                [
                  "3",
                  "",
                  "",
                  "UMLS:C0004093_asthenia"
                ],
                [
                  "4",
                  "",
                  "",
                  "UMLS:C0085639_fall"
                ],
                [
                  "5",
                  "",
                  "",
                  "UMLS:C0039070_syncope"
                ],
                [
                  "6",
                  "",
                  "",
                  "UMLS:C0042571_vertigo"
                ],
                [
                  "7",
                  "",
                  "",
                  "UMLS:C0038990_sweat^UMLS:C0700590_sweating\n  increased"
                ],
                [
                  "8",
                  "",
                  "",
                  "UMLS:C0030252_palpitation"
                ],
                [
                  "9",
                  "",
                  "",
                  "UMLS:C0027497_nausea"
                ],
                [
                  "10",
                  "",
                  "",
                  "UMLS:C0002962_angina\n  pectoris"
                ],
                [
                  "11",
                  "",
                  "",
                  "UMLS:C0438716_pressure\n  chest"
                ],
                [
                  "12",
                  "UMLS:C0011847_diabetes",
                  "1421",
                  "UMLS:C0032617_polyuria"
                ],
                [
                  "13",
                  "",
                  "",
                  "UMLS:C0085602_polydypsia"
                ],
                [
                  "14",
                  "",
                  "",
                  "UMLS:C0392680_shortness\n  of breath"
                ],
                [
                  "15",
                  "",
                  "",
                  "UMLS:C0008031_pain\n  chest"
                ],
                [
                  "16",
                  "",
                  "",
                  "UMLS:C0004093_asthenia"
                ],
                [
                  "17",
                  "",
                  "",
                  "UMLS:C0027497_nausea"
                ],
                [
                  "18",
                  "",
                  "",
                  "UMLS:C0085619_orthopnea"
                ],
                [
                  "19",
                  "",
                  "",
                  "UMLS:C0034642_rale"
                ],
                [
                  "20",
                  "",
                  "",
                  "UMLS:C0038990_sweat^UMLS:C0700590_sweating\n  increased"
                ],
                [
                  "21",
                  "",
                  "",
                  "UMLS:C0241526_unresponsiveness"
                ],
                [
                  "22",
                  "",
                  "",
                  "UMLS:C0856054_mental\n  status changes"
                ],
                [
                  "23",
                  "",
                  "",
                  "UMLS:C0042571_vertigo"
                ],
                [
                  "24",
                  "",
                  "",
                  "UMLS:C0042963_vomiting"
                ],
                [
                  "25",
                  "",
                  "",
                  "UMLS:C0553668_labored breathing"
                ],
                [
                  "26",
                  "UMLS:C0011570_depression\n  mental^UMLS:C0011581_depressive disorder",
                  "1337",
                  "UMLS:C0424000_feeling\n  suicidal"
                ],
                [
                  "27",
                  "",
                  "",
                  "UMLS:C0438696_suicidal"
                ],
                [
                  "28",
                  "",
                  "",
                  "UMLS:C0233762_hallucinations\n  auditory"
                ],
                [
                  "29",
                  "",
                  "",
                  "UMLS:C0150041_feeling\n  hopeless"
                ],
                [
                  "30",
                  "",
                  "",
                  "UMLS:C0424109_weepiness"
                ],
                [
                  "31",
                  "",
                  "",
                  "UMLS:C0917801_sleeplessness"
                ],
                [
                  "32",
                  "",
                  "",
                  "UMLS:C0424230_motor\n  retardation"
                ],
                [
                  "33",
                  "",
                  "",
                  "UMLS:C0022107_irritable\n  mood"
                ],
                [
                  "34",
                  "",
                  "",
                  "UMLS:C0312422_blackout"
                ],
                [
                  "35",
                  "",
                  "",
                  "UMLS:C0344315_mood\n  depressed"
                ],
                [
                  "36",
                  "",
                  "",
                  "UMLS:C0233763_hallucinations\n  visual"
                ],
                [
                  "37",
                  "",
                  "",
                  "UMLS:C0233481_worry"
                ],
                [
                  "38",
                  "",
                  "",
                  "UMLS:C0085631_agitation"
                ],
                [
                  "39",
                  "",
                  "",
                  "UMLS:C0040822_tremor"
                ],
                [
                  "40",
                  "",
                  "",
                  "UMLS:C0728899_intoxication"
                ],
                [
                  "41",
                  "",
                  "",
                  "UMLS:C0424068_verbal\n  auditory hallucinations"
                ],
                [
                  "42",
                  "",
                  "",
                  "UMLS:C0455769_energy\n  increased"
                ],
                [
                  "43",
                  "",
                  "",
                  "UMLS:C1299586_difficulty"
                ],
                [
                  "44",
                  "",
                  "",
                  "UMLS:C0028084_nightmare"
                ],
                [
                  "45",
                  "",
                  "",
                  "UMLS:C0235198_unable\n  to concentrate"
                ],
                [
                  "46",
                  "",
                  "",
                  "UMLS:C0237154_homelessness"
                ],
                [
                  "47",
                  "UMLS:C0010054_coronary\n  arteriosclerosis^UMLS:C0010068_coronary heart disease",
                  "1284",
                  "UMLS:C0008031_pain\n  chest"
                ],
                [
                  "48",
                  "",
                  "",
                  "UMLS:C0002962_angina\n  pectoris"
                ],
                [
                  "49",
                  "",
                  "",
                  "UMLS:C0392680_shortness\n  of breath"
                ]
              ],
              "shape": {
                "columns": 3,
                "rows": 1866
              }
            },
            "text/html": [
              "<div>\n",
              "<style scoped>\n",
              "    .dataframe tbody tr th:only-of-type {\n",
              "        vertical-align: middle;\n",
              "    }\n",
              "\n",
              "    .dataframe tbody tr th {\n",
              "        vertical-align: top;\n",
              "    }\n",
              "\n",
              "    .dataframe thead th {\n",
              "        text-align: right;\n",
              "    }\n",
              "</style>\n",
              "<table border=\"1\" class=\"dataframe\">\n",
              "  <thead>\n",
              "    <tr style=\"text-align: right;\">\n",
              "      <th></th>\n",
              "      <th>Disease</th>\n",
              "      <th>Count of Disease\\n  Occurrence</th>\n",
              "      <th>Symptom</th>\n",
              "    </tr>\n",
              "  </thead>\n",
              "  <tbody>\n",
              "    <tr>\n",
              "      <th>0</th>\n",
              "      <td>UMLS:C0020538_hypertensive\\n  disease</td>\n",
              "      <td>3363</td>\n",
              "      <td>UMLS:C0008031_pain\\n  chest</td>\n",
              "    </tr>\n",
              "    <tr>\n",
              "      <th>1</th>\n",
              "      <td></td>\n",
              "      <td></td>\n",
              "      <td>UMLS:C0392680_shortness\\n  of breath</td>\n",
              "    </tr>\n",
              "    <tr>\n",
              "      <th>2</th>\n",
              "      <td></td>\n",
              "      <td></td>\n",
              "      <td>UMLS:C0012833_dizziness</td>\n",
              "    </tr>\n",
              "    <tr>\n",
              "      <th>3</th>\n",
              "      <td></td>\n",
              "      <td></td>\n",
              "      <td>UMLS:C0004093_asthenia</td>\n",
              "    </tr>\n",
              "    <tr>\n",
              "      <th>4</th>\n",
              "      <td></td>\n",
              "      <td></td>\n",
              "      <td>UMLS:C0085639_fall</td>\n",
              "    </tr>\n",
              "    <tr>\n",
              "      <th>...</th>\n",
              "      <td>...</td>\n",
              "      <td>...</td>\n",
              "      <td>...</td>\n",
              "    </tr>\n",
              "    <tr>\n",
              "      <th>1861</th>\n",
              "      <td></td>\n",
              "      <td></td>\n",
              "      <td>UMLS:C0425251_bedridden^UMLS:C0741453_bedridden</td>\n",
              "    </tr>\n",
              "    <tr>\n",
              "      <th>1862</th>\n",
              "      <td></td>\n",
              "      <td></td>\n",
              "      <td>UMLS:C0242453_prostatism</td>\n",
              "    </tr>\n",
              "    <tr>\n",
              "      <th>1863</th>\n",
              "      <td>UMLS:C0011127_decubitus\\n  ulcer</td>\n",
              "      <td>42</td>\n",
              "      <td>UMLS:C0232257_systolic murmur</td>\n",
              "    </tr>\n",
              "    <tr>\n",
              "      <th>1864</th>\n",
              "      <td></td>\n",
              "      <td></td>\n",
              "      <td>UMLS:C0871754_frail</td>\n",
              "    </tr>\n",
              "    <tr>\n",
              "      <th>1865</th>\n",
              "      <td></td>\n",
              "      <td></td>\n",
              "      <td>UMLS:C0015967_fever</td>\n",
              "    </tr>\n",
              "  </tbody>\n",
              "</table>\n",
              "<p>1866 rows × 3 columns</p>\n",
              "</div>"
            ],
            "text/plain": [
              "                                    Disease Count of Disease\\n  Occurrence  \\\n",
              "0     UMLS:C0020538_hypertensive\\n  disease                           3363   \n",
              "1                                                                            \n",
              "2                                                                            \n",
              "3                                                                            \n",
              "4                                                                            \n",
              "...                                     ...                            ...   \n",
              "1861                                                                         \n",
              "1862                                                                         \n",
              "1863       UMLS:C0011127_decubitus\\n  ulcer                             42   \n",
              "1864                                                                         \n",
              "1865                                                                         \n",
              "\n",
              "                                              Symptom  \n",
              "0                         UMLS:C0008031_pain\\n  chest  \n",
              "1                UMLS:C0392680_shortness\\n  of breath  \n",
              "2                             UMLS:C0012833_dizziness  \n",
              "3                              UMLS:C0004093_asthenia  \n",
              "4                                  UMLS:C0085639_fall  \n",
              "...                                               ...  \n",
              "1861  UMLS:C0425251_bedridden^UMLS:C0741453_bedridden  \n",
              "1862                         UMLS:C0242453_prostatism  \n",
              "1863                    UMLS:C0232257_systolic murmur  \n",
              "1864                              UMLS:C0871754_frail  \n",
              "1865                              UMLS:C0015967_fever  \n",
              "\n",
              "[1866 rows x 3 columns]"
            ]
          },
          "execution_count": 46,
          "metadata": {},
          "output_type": "execute_result"
        }
      ],
      "source": [
        "# Fetch Disease-symptoms knowledge database\n",
        "url = 'https://people.dbmi.columbia.edu/~friedma/Projects/DiseaseSymptomKB/index.html'\n",
        "\n",
        "# Request page content\n",
        "headers = {'User-Agent': 'Mozilla/5.0'}\n",
        "response = requests.get(url, headers=headers)\n",
        "\n",
        "if response.status_code == 200:\n",
        "    soup = BeautifulSoup(response.text, 'html.parser')\n",
        "    tables = soup.find_all('table', {'class': 'MsoTableWeb3'})\n",
        "\n",
        "    if len(tables) > 0:\n",
        "        table = tables[0]\n",
        "        rows = table.find_all('tr')\n",
        "\n",
        "        # Extract header from the first row\n",
        "        headers = [th.get_text(strip=True) for th in rows[0].find_all(['th', 'td'])]\n",
        "\n",
        "        # Extract all subsequent rows into a list of lists\n",
        "        data = []\n",
        "        for row in rows[1:]:\n",
        "            cols = row.find_all('td')\n",
        "            cols = [col.get_text(strip=True) for col in cols]\n",
        "            if cols:\n",
        "                data.append(cols)\n",
        "\n",
        "        # Create DataFrame\n",
        "        df = pd.DataFrame(data, columns=headers)\n",
        "\n",
        "        # Print preview\n",
        "        print(\"Table scraped successfully\")\n",
        "\n",
        "\n",
        "        # Now df holds your table as a DataFrame and you can continue using it\n",
        "    else:\n",
        "        print(\"No table with class 'MsoTableWeb3' found.\")\n",
        "else:\n",
        "    print(f\"Failed to fetch the page. Status code: {response.status_code}\")\n",
        "df"
      ]
    },
    {
      "cell_type": "code",
      "execution_count": 47,
      "metadata": {},
      "outputs": [
        {
          "name": "stdout",
          "output_type": "stream",
          "text": [
            "Total occurrences of 'UMLS' in 'Disease' column: 149\n",
            "\n",
            "Rows with more than one 'UMLS':\n"
          ]
        },
        {
          "data": {
            "application/vnd.microsoft.datawrangler.viewer.v0+json": {
              "columns": [
                {
                  "name": "index",
                  "rawType": "int64",
                  "type": "integer"
                },
                {
                  "name": "Disease",
                  "rawType": "object",
                  "type": "string"
                },
                {
                  "name": "Count of Disease\n  Occurrence",
                  "rawType": "object",
                  "type": "string"
                },
                {
                  "name": "Symptom",
                  "rawType": "object",
                  "type": "string"
                },
                {
                  "name": "UMLS_Count",
                  "rawType": "int64",
                  "type": "integer"
                }
              ],
              "conversionMethod": "pd.DataFrame",
              "ref": "4b044c83-157a-42ff-b1f0-f4d646aeba0c",
              "rows": [
                [
                  "26",
                  "UMLS:C0011570_depression\n  mental^UMLS:C0011581_depressive disorder",
                  "1337",
                  "UMLS:C0424000_feeling\n  suicidal",
                  "2"
                ],
                [
                  "47",
                  "UMLS:C0010054_coronary\n  arteriosclerosis^UMLS:C0010068_coronary heart disease",
                  "1284",
                  "UMLS:C0008031_pain\n  chest",
                  "2"
                ],
                [
                  "295",
                  "UMLS:C0006826_malignant\n  neoplasms^UMLS:C1306459_primary malignant neoplasm",
                  "354",
                  "UMLS:C0030193_pain",
                  "2"
                ],
                [
                  "305",
                  "UMLS:C0001175_acquiredimmuno-deficiency\n  syndrome^UMLS:C0019682_HIV^UMLS:C0019693_hiv infections",
                  "350",
                  "UMLS:C0015967_fever",
                  "3"
                ],
                [
                  "350",
                  "UMLS:C0036690_septicemia^UMLS:C0243026_systemic\n  infection^UMLS:C1090821_sepsis (invertebrate)",
                  "311",
                  "UMLS:C0015967_fever",
                  "3"
                ],
                [
                  "819",
                  "UMLS:C0376358_malignant\n  neoplasm of prostate^UMLS:C0600139_carcinoma prostate",
                  "163",
                  "UMLS:C0018965_hematuria",
                  "2"
                ],
                [
                  "885",
                  "UMLS:C0006142_malignant\n  neoplasm of breast^UMLS:C0678222_carcinoma breast",
                  "152",
                  "UMLS:C0024103_mass in breast",
                  "2"
                ],
                [
                  "1294",
                  "UMLS:C0006840_candidiasis^UMLS:C0006849_oralcandidiasis",
                  "99",
                  "UMLS:C0011991_diarrhea",
                  "2"
                ],
                [
                  "1357",
                  "UMLS:C0007102_malignant\n  tumor of colon^UMLS:C0699790_carcinoma colon",
                  "94",
                  "UMLS:C0221198_lesion",
                  "2"
                ],
                [
                  "1387",
                  "UMLS:C0014549_tonic-clonic\n  epilepsy^UMLS:C0494475_tonic-clonic seizures",
                  "92",
                  "UMLS:C0013144_drowsiness",
                  "2"
                ],
                [
                  "1454",
                  "UMLS:C0242379_malignant\n  neoplasm of lung^UMLS:C0684249_carcinoma of lung",
                  "86",
                  "UMLS:C0221198_lesion",
                  "2"
                ],
                [
                  "1625",
                  "UMLS:C0031039_effusion\n  pericardial^UMLS:C1253937_pericardial effusion body substance",
                  "71",
                  "UMLS:C0232267_pericardial friction rub",
                  "2"
                ],
                [
                  "1784",
                  "UMLS:C0008350_cholelithiasis^UMLS:C0242216_biliary\n  calculus",
                  "61",
                  "UMLS:C0042963_vomiting",
                  "2"
                ]
              ],
              "shape": {
                "columns": 4,
                "rows": 13
              }
            },
            "text/html": [
              "<div>\n",
              "<style scoped>\n",
              "    .dataframe tbody tr th:only-of-type {\n",
              "        vertical-align: middle;\n",
              "    }\n",
              "\n",
              "    .dataframe tbody tr th {\n",
              "        vertical-align: top;\n",
              "    }\n",
              "\n",
              "    .dataframe thead th {\n",
              "        text-align: right;\n",
              "    }\n",
              "</style>\n",
              "<table border=\"1\" class=\"dataframe\">\n",
              "  <thead>\n",
              "    <tr style=\"text-align: right;\">\n",
              "      <th></th>\n",
              "      <th>Disease</th>\n",
              "      <th>Count of Disease\\n  Occurrence</th>\n",
              "      <th>Symptom</th>\n",
              "      <th>UMLS_Count</th>\n",
              "    </tr>\n",
              "  </thead>\n",
              "  <tbody>\n",
              "    <tr>\n",
              "      <th>26</th>\n",
              "      <td>UMLS:C0011570_depression\\n  mental^UMLS:C00115...</td>\n",
              "      <td>1337</td>\n",
              "      <td>UMLS:C0424000_feeling\\n  suicidal</td>\n",
              "      <td>2</td>\n",
              "    </tr>\n",
              "    <tr>\n",
              "      <th>47</th>\n",
              "      <td>UMLS:C0010054_coronary\\n  arteriosclerosis^UML...</td>\n",
              "      <td>1284</td>\n",
              "      <td>UMLS:C0008031_pain\\n  chest</td>\n",
              "      <td>2</td>\n",
              "    </tr>\n",
              "    <tr>\n",
              "      <th>295</th>\n",
              "      <td>UMLS:C0006826_malignant\\n  neoplasms^UMLS:C130...</td>\n",
              "      <td>354</td>\n",
              "      <td>UMLS:C0030193_pain</td>\n",
              "      <td>2</td>\n",
              "    </tr>\n",
              "    <tr>\n",
              "      <th>305</th>\n",
              "      <td>UMLS:C0001175_acquiredimmuno-deficiency\\n  syn...</td>\n",
              "      <td>350</td>\n",
              "      <td>UMLS:C0015967_fever</td>\n",
              "      <td>3</td>\n",
              "    </tr>\n",
              "    <tr>\n",
              "      <th>350</th>\n",
              "      <td>UMLS:C0036690_septicemia^UMLS:C0243026_systemi...</td>\n",
              "      <td>311</td>\n",
              "      <td>UMLS:C0015967_fever</td>\n",
              "      <td>3</td>\n",
              "    </tr>\n",
              "    <tr>\n",
              "      <th>819</th>\n",
              "      <td>UMLS:C0376358_malignant\\n  neoplasm of prostat...</td>\n",
              "      <td>163</td>\n",
              "      <td>UMLS:C0018965_hematuria</td>\n",
              "      <td>2</td>\n",
              "    </tr>\n",
              "    <tr>\n",
              "      <th>885</th>\n",
              "      <td>UMLS:C0006142_malignant\\n  neoplasm of breast^...</td>\n",
              "      <td>152</td>\n",
              "      <td>UMLS:C0024103_mass in breast</td>\n",
              "      <td>2</td>\n",
              "    </tr>\n",
              "    <tr>\n",
              "      <th>1294</th>\n",
              "      <td>UMLS:C0006840_candidiasis^UMLS:C0006849_oralca...</td>\n",
              "      <td>99</td>\n",
              "      <td>UMLS:C0011991_diarrhea</td>\n",
              "      <td>2</td>\n",
              "    </tr>\n",
              "    <tr>\n",
              "      <th>1357</th>\n",
              "      <td>UMLS:C0007102_malignant\\n  tumor of colon^UMLS...</td>\n",
              "      <td>94</td>\n",
              "      <td>UMLS:C0221198_lesion</td>\n",
              "      <td>2</td>\n",
              "    </tr>\n",
              "    <tr>\n",
              "      <th>1387</th>\n",
              "      <td>UMLS:C0014549_tonic-clonic\\n  epilepsy^UMLS:C0...</td>\n",
              "      <td>92</td>\n",
              "      <td>UMLS:C0013144_drowsiness</td>\n",
              "      <td>2</td>\n",
              "    </tr>\n",
              "    <tr>\n",
              "      <th>1454</th>\n",
              "      <td>UMLS:C0242379_malignant\\n  neoplasm of lung^UM...</td>\n",
              "      <td>86</td>\n",
              "      <td>UMLS:C0221198_lesion</td>\n",
              "      <td>2</td>\n",
              "    </tr>\n",
              "    <tr>\n",
              "      <th>1625</th>\n",
              "      <td>UMLS:C0031039_effusion\\n  pericardial^UMLS:C12...</td>\n",
              "      <td>71</td>\n",
              "      <td>UMLS:C0232267_pericardial friction rub</td>\n",
              "      <td>2</td>\n",
              "    </tr>\n",
              "    <tr>\n",
              "      <th>1784</th>\n",
              "      <td>UMLS:C0008350_cholelithiasis^UMLS:C0242216_bil...</td>\n",
              "      <td>61</td>\n",
              "      <td>UMLS:C0042963_vomiting</td>\n",
              "      <td>2</td>\n",
              "    </tr>\n",
              "  </tbody>\n",
              "</table>\n",
              "</div>"
            ],
            "text/plain": [
              "                                                Disease  \\\n",
              "26    UMLS:C0011570_depression\\n  mental^UMLS:C00115...   \n",
              "47    UMLS:C0010054_coronary\\n  arteriosclerosis^UML...   \n",
              "295   UMLS:C0006826_malignant\\n  neoplasms^UMLS:C130...   \n",
              "305   UMLS:C0001175_acquiredimmuno-deficiency\\n  syn...   \n",
              "350   UMLS:C0036690_septicemia^UMLS:C0243026_systemi...   \n",
              "819   UMLS:C0376358_malignant\\n  neoplasm of prostat...   \n",
              "885   UMLS:C0006142_malignant\\n  neoplasm of breast^...   \n",
              "1294  UMLS:C0006840_candidiasis^UMLS:C0006849_oralca...   \n",
              "1357  UMLS:C0007102_malignant\\n  tumor of colon^UMLS...   \n",
              "1387  UMLS:C0014549_tonic-clonic\\n  epilepsy^UMLS:C0...   \n",
              "1454  UMLS:C0242379_malignant\\n  neoplasm of lung^UM...   \n",
              "1625  UMLS:C0031039_effusion\\n  pericardial^UMLS:C12...   \n",
              "1784  UMLS:C0008350_cholelithiasis^UMLS:C0242216_bil...   \n",
              "\n",
              "     Count of Disease\\n  Occurrence                                 Symptom  \\\n",
              "26                             1337       UMLS:C0424000_feeling\\n  suicidal   \n",
              "47                             1284             UMLS:C0008031_pain\\n  chest   \n",
              "295                             354                      UMLS:C0030193_pain   \n",
              "305                             350                     UMLS:C0015967_fever   \n",
              "350                             311                     UMLS:C0015967_fever   \n",
              "819                             163                 UMLS:C0018965_hematuria   \n",
              "885                             152            UMLS:C0024103_mass in breast   \n",
              "1294                             99                  UMLS:C0011991_diarrhea   \n",
              "1357                             94                    UMLS:C0221198_lesion   \n",
              "1387                             92                UMLS:C0013144_drowsiness   \n",
              "1454                             86                    UMLS:C0221198_lesion   \n",
              "1625                             71  UMLS:C0232267_pericardial friction rub   \n",
              "1784                             61                  UMLS:C0042963_vomiting   \n",
              "\n",
              "      UMLS_Count  \n",
              "26             2  \n",
              "47             2  \n",
              "295            2  \n",
              "305            3  \n",
              "350            3  \n",
              "819            2  \n",
              "885            2  \n",
              "1294           2  \n",
              "1357           2  \n",
              "1387           2  \n",
              "1454           2  \n",
              "1625           2  \n",
              "1784           2  "
            ]
          },
          "execution_count": 47,
          "metadata": {},
          "output_type": "execute_result"
        }
      ],
      "source": [
        "# Step 1: Add a column to count the occurrences of \"UMLS\" in each row\n",
        "df['UMLS_Count'] = df['Disease'].fillna('').str.count('UMLS')\n",
        "\n",
        "# Step 2: Calculate the total occurrences of \"UMLS\" in the 'Disease' column\n",
        "disease_umls_count = df['UMLS_Count'].sum()\n",
        "\n",
        "# Print the total count of \"UMLS\"\n",
        "print(f\"Total occurrences of 'UMLS' in 'Disease' column: {disease_umls_count}\")\n",
        "\n",
        "# Step 3: Identify rows where a cell contains more than one occurrence of \"UMLS\"\n",
        "rows_with_multiple_umls = df[df['UMLS_Count'] > 1]\n",
        "\n",
        "# Print these rows\n",
        "print(\"\\nRows with more than one 'UMLS':\")\n",
        "rows_with_multiple_umls\n"
      ]
    },
    {
      "cell_type": "code",
      "execution_count": null,
      "metadata": {
        "colab": {
          "base_uri": "https://localhost:8080/"
        },
        "id": "zXkn5daBUaPk",
        "outputId": "b68b14e3-08ef-4f9b-8cfa-a0d8a749fad2"
      },
      "outputs": [
        {
          "name": "stdout",
          "output_type": "stream",
          "text": [
            "\n",
            "Duplicate diseaseIDs:\n"
          ]
        },
        {
          "data": {
            "application/vnd.microsoft.datawrangler.viewer.v0+json": {
              "columns": [
                {
                  "name": "index",
                  "rawType": "int64",
                  "type": "integer"
                },
                {
                  "name": "diseaseID",
                  "rawType": "object",
                  "type": "string"
                },
                {
                  "name": "Dname",
                  "rawType": "object",
                  "type": "string"
                }
              ],
              "conversionMethod": "pd.DataFrame",
              "ref": "7f3ae50a-0dee-497e-8da7-6268228dac39",
              "rows": [
                [
                  "20",
                  "C0006826",
                  "malignant neoplasms"
                ],
                [
                  "99",
                  "C0006826",
                  "malignantneoplasms"
                ]
              ],
              "shape": {
                "columns": 2,
                "rows": 2
              }
            },
            "text/html": [
              "<div>\n",
              "<style scoped>\n",
              "    .dataframe tbody tr th:only-of-type {\n",
              "        vertical-align: middle;\n",
              "    }\n",
              "\n",
              "    .dataframe tbody tr th {\n",
              "        vertical-align: top;\n",
              "    }\n",
              "\n",
              "    .dataframe thead th {\n",
              "        text-align: right;\n",
              "    }\n",
              "</style>\n",
              "<table border=\"1\" class=\"dataframe\">\n",
              "  <thead>\n",
              "    <tr style=\"text-align: right;\">\n",
              "      <th></th>\n",
              "      <th>diseaseID</th>\n",
              "      <th>Dname</th>\n",
              "    </tr>\n",
              "  </thead>\n",
              "  <tbody>\n",
              "    <tr>\n",
              "      <th>20</th>\n",
              "      <td>C0006826</td>\n",
              "      <td>malignant neoplasms</td>\n",
              "    </tr>\n",
              "    <tr>\n",
              "      <th>99</th>\n",
              "      <td>C0006826</td>\n",
              "      <td>malignantneoplasms</td>\n",
              "    </tr>\n",
              "  </tbody>\n",
              "</table>\n",
              "</div>"
            ],
            "text/plain": [
              "   diseaseID                Dname\n",
              "20  C0006826  malignant neoplasms\n",
              "99  C0006826   malignantneoplasms"
            ]
          },
          "metadata": {},
          "output_type": "display_data"
        },
        {
          "name": "stdout",
          "output_type": "stream",
          "text": [
            "\n",
            "Duplicates dropped, DataFrame Updated.\n",
            "\n",
            "Final diseases_df created with 133 records.\n"
          ]
        },
        {
          "data": {
            "application/vnd.microsoft.datawrangler.viewer.v0+json": {
              "columns": [
                {
                  "name": "index",
                  "rawType": "int64",
                  "type": "integer"
                },
                {
                  "name": "diseaseID",
                  "rawType": "object",
                  "type": "string"
                },
                {
                  "name": "Dname",
                  "rawType": "object",
                  "type": "string"
                }
              ],
              "conversionMethod": "pd.DataFrame",
              "ref": "10206399-39d5-4ffe-819f-69516d25ffa5",
              "rows": [
                [
                  "0",
                  "C0020538",
                  "hypertensive disease"
                ],
                [
                  "1",
                  "C0011847",
                  "diabetes"
                ],
                [
                  "2",
                  "C0011570",
                  "depression mental"
                ],
                [
                  "3",
                  "C0010054",
                  "coronary arteriosclerosis"
                ],
                [
                  "4",
                  "C0032285",
                  "pneumonia"
                ],
                [
                  "5",
                  "C0018802",
                  "failure heart congestive"
                ],
                [
                  "6",
                  "C0038454",
                  "accidentcerebrovascular"
                ],
                [
                  "7",
                  "C0004096",
                  "asthma"
                ],
                [
                  "8",
                  "C0027051",
                  "myocardial infarction"
                ],
                [
                  "9",
                  "C0020443",
                  "hypercholesterolemia"
                ],
                [
                  "10",
                  "C0021311",
                  "infection"
                ],
                [
                  "11",
                  "C0042029",
                  "infection urinary tract"
                ],
                [
                  "12",
                  "C0002871",
                  "anemia"
                ],
                [
                  "13",
                  "C0024117",
                  "chronic obstructive airway disease"
                ],
                [
                  "14",
                  "C0497327",
                  "dementia"
                ],
                [
                  "15",
                  "C1565489",
                  "insufficiency renal"
                ],
                [
                  "16",
                  "C0009676",
                  "confusion"
                ],
                [
                  "17",
                  "C0029408",
                  "degenerativepolyarthritis"
                ],
                [
                  "18",
                  "C0020676",
                  "hypothyroidism"
                ],
                [
                  "19",
                  "C0700613",
                  "anxiety state"
                ],
                [
                  "20",
                  "C0006826",
                  "malignant neoplasms"
                ],
                [
                  "21",
                  "C0001175",
                  "acquiredimmuno-deficiency syndrome"
                ],
                [
                  "22",
                  "C0007642",
                  "cellulitis"
                ],
                [
                  "23",
                  "C0017168",
                  "gastroesophageal reflux disease"
                ],
                [
                  "24",
                  "C0036690",
                  "septicemia"
                ],
                [
                  "25",
                  "C0149871",
                  "deep vein thrombosis"
                ],
                [
                  "26",
                  "C0011175",
                  "dehydration"
                ],
                [
                  "27",
                  "C0027651",
                  "neoplasm"
                ],
                [
                  "28",
                  "C0034065",
                  "embolism pulmonary"
                ],
                [
                  "29",
                  "C0014544",
                  "epilepsy"
                ],
                [
                  "30",
                  "C0878544",
                  "cardiomyopathy"
                ],
                [
                  "31",
                  "C0022661",
                  "chronic kidney failure"
                ],
                [
                  "32",
                  "C0007097",
                  "carcinoma"
                ],
                [
                  "33",
                  "C0019196",
                  "hepatitis c"
                ],
                [
                  "34",
                  "C0085096",
                  "peripheral vascular disease"
                ],
                [
                  "35",
                  "C0033975",
                  "psychotic disorder"
                ],
                [
                  "36",
                  "C0020473",
                  "hyperlipidemia"
                ],
                [
                  "37",
                  "C0005586",
                  "bipolar disorder"
                ],
                [
                  "38",
                  "C0028754",
                  "obesity"
                ],
                [
                  "39",
                  "C0022116",
                  "ischemia"
                ],
                [
                  "40",
                  "C1623038",
                  "cirrhosis"
                ],
                [
                  "41",
                  "C0015230",
                  "exanthema"
                ],
                [
                  "42",
                  "C0005001",
                  "benign prostatic hypertrophy"
                ],
                [
                  "43",
                  "C0022660",
                  "kidney failure acute"
                ],
                [
                  "44",
                  "C0026266",
                  "mitral valve insufficiency"
                ],
                [
                  "45",
                  "C0003864",
                  "arthritis"
                ],
                [
                  "46",
                  "C0006277",
                  "bronchitis"
                ],
                [
                  "47",
                  "C0018989",
                  "hemiparesis"
                ],
                [
                  "48",
                  "C0029456",
                  "osteoporosis"
                ],
                [
                  "49",
                  "C0007787",
                  "transient ischemic attack"
                ]
              ],
              "shape": {
                "columns": 2,
                "rows": 133
              }
            },
            "text/html": [
              "<div>\n",
              "<style scoped>\n",
              "    .dataframe tbody tr th:only-of-type {\n",
              "        vertical-align: middle;\n",
              "    }\n",
              "\n",
              "    .dataframe tbody tr th {\n",
              "        vertical-align: top;\n",
              "    }\n",
              "\n",
              "    .dataframe thead th {\n",
              "        text-align: right;\n",
              "    }\n",
              "</style>\n",
              "<table border=\"1\" class=\"dataframe\">\n",
              "  <thead>\n",
              "    <tr style=\"text-align: right;\">\n",
              "      <th></th>\n",
              "      <th>diseaseID</th>\n",
              "      <th>Dname</th>\n",
              "    </tr>\n",
              "  </thead>\n",
              "  <tbody>\n",
              "    <tr>\n",
              "      <th>0</th>\n",
              "      <td>C0020538</td>\n",
              "      <td>hypertensive disease</td>\n",
              "    </tr>\n",
              "    <tr>\n",
              "      <th>1</th>\n",
              "      <td>C0011847</td>\n",
              "      <td>diabetes</td>\n",
              "    </tr>\n",
              "    <tr>\n",
              "      <th>2</th>\n",
              "      <td>C0011570</td>\n",
              "      <td>depression mental</td>\n",
              "    </tr>\n",
              "    <tr>\n",
              "      <th>3</th>\n",
              "      <td>C0010054</td>\n",
              "      <td>coronary arteriosclerosis</td>\n",
              "    </tr>\n",
              "    <tr>\n",
              "      <th>4</th>\n",
              "      <td>C0032285</td>\n",
              "      <td>pneumonia</td>\n",
              "    </tr>\n",
              "    <tr>\n",
              "      <th>...</th>\n",
              "      <td>...</td>\n",
              "      <td>...</td>\n",
              "    </tr>\n",
              "    <tr>\n",
              "      <th>129</th>\n",
              "      <td>C1258215</td>\n",
              "      <td>ileus</td>\n",
              "    </tr>\n",
              "    <tr>\n",
              "      <th>130</th>\n",
              "      <td>C0001511</td>\n",
              "      <td>adhesion</td>\n",
              "    </tr>\n",
              "    <tr>\n",
              "      <th>131</th>\n",
              "      <td>C0011253</td>\n",
              "      <td>delusion</td>\n",
              "    </tr>\n",
              "    <tr>\n",
              "      <th>132</th>\n",
              "      <td>C0233472</td>\n",
              "      <td>affect labile</td>\n",
              "    </tr>\n",
              "    <tr>\n",
              "      <th>133</th>\n",
              "      <td>C0011127</td>\n",
              "      <td>decubitus ulcer</td>\n",
              "    </tr>\n",
              "  </tbody>\n",
              "</table>\n",
              "<p>133 rows × 2 columns</p>\n",
              "</div>"
            ],
            "text/plain": [
              "    diseaseID                      Dname\n",
              "0    C0020538       hypertensive disease\n",
              "1    C0011847                   diabetes\n",
              "2    C0011570          depression mental\n",
              "3    C0010054  coronary arteriosclerosis\n",
              "4    C0032285                  pneumonia\n",
              "..        ...                        ...\n",
              "129  C1258215                      ileus\n",
              "130  C0001511                   adhesion\n",
              "131  C0011253                   delusion\n",
              "132  C0233472              affect labile\n",
              "133  C0011127            decubitus ulcer\n",
              "\n",
              "[133 rows x 2 columns]"
            ]
          },
          "execution_count": 59,
          "metadata": {},
          "output_type": "execute_result"
        }
      ],
      "source": [
        "# Step 1: Clean and normalize the 'Disease' column\n",
        "df['Disease'] = df['Disease'].str.replace('\\n', ' ', regex=False).str.strip()\n",
        "\n",
        "# Step 2: Filter rows containing valid 'UMLS:' entries\n",
        "disease_rows = df[df['Disease'].notna() & df['Disease'].str.contains('UMLS:')]\n",
        "\n",
        "# Step 3: Extract the first valid diseaseID and Dname from each cell\n",
        "disease_list = []  # Use a list instead of a set\n",
        "seen_diseases = set()  # Track unique entries to avoid duplicates\n",
        "\n",
        "for row in disease_rows['Disease']:\n",
        "    # Extract the first occurrence of a valid \"UMLS:\" entry\n",
        "    entry = next((e.strip() for e in row.split('^') if e.startswith(\"UMLS:\")), None)\n",
        "    if entry and '_' in entry:  # Ensure it's a valid entry with an underscore\n",
        "        parts = entry.split('_', 1)  # Split at the first underscore\n",
        "        if len(parts) == 2:\n",
        "            disease_id = parts[0].replace(\"UMLS:\", \"\").strip()  # Remove 'UMLS:'\n",
        "            # Replace underscores with spaces, then normalize spaces in Dname\n",
        "            dname = ' '.join(parts[1].replace('_', ' ').split()).lower()\n",
        "            if (disease_id, dname) not in seen_diseases:  # Avoid duplicates\n",
        "                disease_list.append({'diseaseID': disease_id, 'Dname': dname})\n",
        "                seen_diseases.add((disease_id, dname))\n",
        "    else:\n",
        "        # Log unmatched or invalid entries for debugging\n",
        "        print(f\"Unmatched or invalid entry: '{row}'\")\n",
        "\n",
        "# Step 4: Convert to DataFrame\n",
        "if disease_list:\n",
        "    diseases_df = pd.DataFrame(disease_list)\n",
        "\n",
        "    # Step 5: Check for duplicate diseaseID values\n",
        "    duplicates = diseases_df[diseases_df['diseaseID'].duplicated(keep=False)]  # Find all duplicate rows\n",
        "    print(\"\\nDuplicate diseaseIDs:\")\n",
        "    display(duplicates)\n",
        "\n",
        "    # Step 6: Drop duplicate rows and keep the first occurrence\n",
        "    diseases_df = diseases_df.drop_duplicates(subset='diseaseID', keep='first')\n",
        "    print(\"\\nDuplicates dropped, DataFrame Updated.\")\n",
        "\n",
        "    # Final Output\n",
        "    print(f\"\\nFinal diseases_df created with {len(diseases_df)} records.\")\n",
        "else:\n",
        "    print(\"No valid disease entries found.\")\n",
        "\n",
        "# Display the resulting DataFrame\n",
        "diseases_df\n"
      ]
    },
    {
      "cell_type": "code",
      "execution_count": null,
      "metadata": {
        "colab": {
          "base_uri": "https://localhost:8080/"
        },
        "id": "WG60T4K1fhaM",
        "outputId": "bc011a73-3f67-4bc4-d06e-b93784c4fea1"
      },
      "outputs": [
        {
          "name": "stdout",
          "output_type": "stream",
          "text": [
            "Disease Names:\n",
            "{0: 'hypertensive disease',\n",
            " 1: 'diabetes',\n",
            " 2: 'depression mental',\n",
            " 3: 'coronary arteriosclerosis',\n",
            " 4: 'pneumonia',\n",
            " 5: 'failure heart congestive',\n",
            " 6: 'accidentcerebrovascular',\n",
            " 7: 'asthma',\n",
            " 8: 'myocardial infarction',\n",
            " 9: 'hypercholesterolemia',\n",
            " 10: 'infection',\n",
            " 11: 'infection urinary tract',\n",
            " 12: 'anemia',\n",
            " 13: 'chronic obstructive airway disease',\n",
            " 14: 'dementia',\n",
            " 15: 'insufficiency renal',\n",
            " 16: 'confusion',\n",
            " 17: 'degenerativepolyarthritis',\n",
            " 18: 'hypothyroidism',\n",
            " 19: 'anxiety state',\n",
            " 20: 'malignant neoplasms',\n",
            " 21: 'acquiredimmuno-deficiency syndrome',\n",
            " 22: 'cellulitis',\n",
            " 23: 'gastroesophageal reflux disease',\n",
            " 24: 'septicemia',\n",
            " 25: 'deep vein thrombosis',\n",
            " 26: 'dehydration',\n",
            " 27: 'neoplasm',\n",
            " 28: 'embolism pulmonary',\n",
            " 29: 'epilepsy',\n",
            " 30: 'cardiomyopathy',\n",
            " 31: 'chronic kidney failure',\n",
            " 32: 'carcinoma',\n",
            " 33: 'hepatitis c',\n",
            " 34: 'peripheral vascular disease',\n",
            " 35: 'psychotic disorder',\n",
            " 36: 'hyperlipidemia',\n",
            " 37: 'bipolar disorder',\n",
            " 38: 'obesity',\n",
            " 39: 'ischemia',\n",
            " 40: 'cirrhosis',\n",
            " 41: 'exanthema',\n",
            " 42: 'benign prostatic hypertrophy',\n",
            " 43: 'kidney failure acute',\n",
            " 44: 'mitral valve insufficiency',\n",
            " 45: 'arthritis',\n",
            " 46: 'bronchitis',\n",
            " 47: 'hemiparesis',\n",
            " 48: 'osteoporosis',\n",
            " 49: 'transient ischemic attack',\n",
            " 50: 'adenocarcinoma',\n",
            " 51: 'paranoia',\n",
            " 52: 'pancreatitis',\n",
            " 53: 'incontinence',\n",
            " 54: 'paroxysmaldyspnea',\n",
            " 55: 'hernia',\n",
            " 56: 'malignant neoplasm of prostate',\n",
            " 57: 'edema pulmonary',\n",
            " 58: 'lymphatic diseases',\n",
            " 59: 'stenosis aortic valve',\n",
            " 60: 'malignant neoplasm of breast',\n",
            " 61: 'schizophrenia',\n",
            " 62: 'diverticulitis',\n",
            " 63: 'overload fluid',\n",
            " 64: 'ulcer peptic',\n",
            " 65: 'osteomyelitis',\n",
            " 66: 'gastritis',\n",
            " 67: 'bacteremia',\n",
            " 68: 'failure kidney',\n",
            " 69: 'sickle cell anemia',\n",
            " 70: 'failure heart',\n",
            " 71: 'upper respiratory infection',\n",
            " 72: 'hepatitis',\n",
            " 73: 'hypertension pulmonary',\n",
            " 74: 'deglutition disorder',\n",
            " 75: 'gout',\n",
            " 76: 'thrombocytopaenia',\n",
            " 77: 'hypoglycemia',\n",
            " 78: 'pneumonia aspiration',\n",
            " 79: 'colitis',\n",
            " 80: 'diverticulosis',\n",
            " 81: 'suicide attempt',\n",
            " 82: 'pneumocystiscariniipneumonia',\n",
            " 83: 'hepatitis b',\n",
            " 84: 'parkinson disease',\n",
            " 85: 'lymphoma',\n",
            " 86: 'hyperglycemia',\n",
            " 87: 'encephalopathy',\n",
            " 88: 'tricuspid valve insufficiency',\n",
            " 89: \"alzheimer's disease\",\n",
            " 90: 'candidiasis',\n",
            " 91: 'neuropathy',\n",
            " 92: 'kidney disease',\n",
            " 93: 'fibroid tumor',\n",
            " 94: 'glaucoma',\n",
            " 95: 'neoplasm metastasis',\n",
            " 96: 'malignant tumor of colon',\n",
            " 97: 'ketoacidosis diabetic',\n",
            " 98: 'tonic-clonic epilepsy',\n",
            " 100: 'respiratory failure',\n",
            " 101: 'melanoma',\n",
            " 102: 'gastroenteritis',\n",
            " 103: 'malignant neoplasm of lung',\n",
            " 104: 'manic disorder',\n",
            " 105: 'personality disorder',\n",
            " 106: 'primary carcinoma of the liver cells',\n",
            " 107: 'emphysema pulmonary',\n",
            " 108: 'hemorrhoids',\n",
            " 109: 'spasm bronchial',\n",
            " 110: 'aphasia',\n",
            " 111: 'obesity morbid',\n",
            " 112: 'pyelonephritis',\n",
            " 113: 'endocarditis',\n",
            " 114: 'effusion pericardial',\n",
            " 115: 'chronic alcoholic intoxication',\n",
            " 116: 'pneumothorax',\n",
            " 117: 'delirium',\n",
            " 118: 'neutropenia',\n",
            " 119: 'hyperbilirubinemia',\n",
            " 120: 'influenza',\n",
            " 121: 'dependence',\n",
            " 122: 'thrombus',\n",
            " 123: 'cholecystitis',\n",
            " 124: 'herniahiatal',\n",
            " 125: 'migraine disorders',\n",
            " 126: 'pancytopenia',\n",
            " 127: 'cholelithiasis',\n",
            " 128: 'tachycardia sinus',\n",
            " 129: 'ileus',\n",
            " 130: 'adhesion',\n",
            " 131: 'delusion',\n",
            " 132: 'affect labile',\n",
            " 133: 'decubitus ulcer'}\n"
          ]
        }
      ],
      "source": [
        "# Extract Dnames into a dictionary with index as key\n",
        "if 'Dname' in diseases_df.columns:\n",
        "    dnames_dict = diseases_df['Dname'].to_dict()  \n",
        "    print(\"Disease Names:\")\n",
        "    pprint(dnames_dict)  \n",
        "else:\n",
        "    print(\"The 'Dname' column is missing!\")"
      ]
    },
    {
      "cell_type": "code",
      "execution_count": 28,
      "metadata": {
        "colab": {
          "base_uri": "https://localhost:8080/",
          "height": 206
        },
        "id": "aFbjyvQEaT6t",
        "outputId": "6303ca4e-d79c-4b19-e1ef-db2912c56499"
      },
      "outputs": [
        {
          "data": {
            "application/vnd.microsoft.datawrangler.viewer.v0+json": {
              "columns": [
                {
                  "name": "index",
                  "rawType": "int64",
                  "type": "integer"
                },
                {
                  "name": "diseaseID",
                  "rawType": "object",
                  "type": "string"
                },
                {
                  "name": "Dname",
                  "rawType": "object",
                  "type": "string"
                },
                {
                  "name": "Description",
                  "rawType": "object",
                  "type": "string"
                }
              ],
              "conversionMethod": "pd.DataFrame",
              "ref": "6f01e46d-36d7-4937-89c3-35707aa751df",
              "rows": [
                [
                  "0",
                  "C0020538",
                  "Acquired Immuno-deficiency Syndrome",
                  "A chronic, life-threatening condition caused by HIV, weakening the immune system."
                ],
                [
                  "1",
                  "C0011847",
                  "Diabetes",
                  "Chronic condition affecting the body's ability to regulate blood sugar levels."
                ],
                [
                  "2",
                  "C0011570",
                  "Depression Mental",
                  "Persistent feelings of sadness or hopelessness, affecting daily life and mental well-being."
                ],
                [
                  "3",
                  "C0011581",
                  "Depressive Disorder",
                  "A mood disorder characterized by prolonged periods of depression, impacting thoughts and behavior."
                ],
                [
                  "4",
                  "C0010054",
                  "Coronary Arteriosclerosis",
                  "Hardening and narrowing of coronary arteries due to plaque buildup, reducing blood flow to the heart."
                ]
              ],
              "shape": {
                "columns": 3,
                "rows": 5
              }
            },
            "text/html": [
              "<div>\n",
              "<style scoped>\n",
              "    .dataframe tbody tr th:only-of-type {\n",
              "        vertical-align: middle;\n",
              "    }\n",
              "\n",
              "    .dataframe tbody tr th {\n",
              "        vertical-align: top;\n",
              "    }\n",
              "\n",
              "    .dataframe thead th {\n",
              "        text-align: right;\n",
              "    }\n",
              "</style>\n",
              "<table border=\"1\" class=\"dataframe\">\n",
              "  <thead>\n",
              "    <tr style=\"text-align: right;\">\n",
              "      <th></th>\n",
              "      <th>diseaseID</th>\n",
              "      <th>Dname</th>\n",
              "      <th>Description</th>\n",
              "    </tr>\n",
              "  </thead>\n",
              "  <tbody>\n",
              "    <tr>\n",
              "      <th>0</th>\n",
              "      <td>C0020538</td>\n",
              "      <td>Acquired Immuno-deficiency Syndrome</td>\n",
              "      <td>A chronic, life-threatening condition caused b...</td>\n",
              "    </tr>\n",
              "    <tr>\n",
              "      <th>1</th>\n",
              "      <td>C0011847</td>\n",
              "      <td>Diabetes</td>\n",
              "      <td>Chronic condition affecting the body's ability...</td>\n",
              "    </tr>\n",
              "    <tr>\n",
              "      <th>2</th>\n",
              "      <td>C0011570</td>\n",
              "      <td>Depression Mental</td>\n",
              "      <td>Persistent feelings of sadness or hopelessness...</td>\n",
              "    </tr>\n",
              "    <tr>\n",
              "      <th>3</th>\n",
              "      <td>C0011581</td>\n",
              "      <td>Depressive Disorder</td>\n",
              "      <td>A mood disorder characterized by prolonged per...</td>\n",
              "    </tr>\n",
              "    <tr>\n",
              "      <th>4</th>\n",
              "      <td>C0010054</td>\n",
              "      <td>Coronary Arteriosclerosis</td>\n",
              "      <td>Hardening and narrowing of coronary arteries d...</td>\n",
              "    </tr>\n",
              "  </tbody>\n",
              "</table>\n",
              "</div>"
            ],
            "text/plain": [
              "  diseaseID                                Dname  \\\n",
              "0  C0020538  Acquired Immuno-deficiency Syndrome   \n",
              "1  C0011847                             Diabetes   \n",
              "2  C0011570                    Depression Mental   \n",
              "3  C0011581                  Depressive Disorder   \n",
              "4  C0010054            Coronary Arteriosclerosis   \n",
              "\n",
              "                                         Description  \n",
              "0  A chronic, life-threatening condition caused b...  \n",
              "1  Chronic condition affecting the body's ability...  \n",
              "2  Persistent feelings of sadness or hopelessness...  \n",
              "3  A mood disorder characterized by prolonged per...  \n",
              "4  Hardening and narrowing of coronary arteries d...  "
            ]
          },
          "execution_count": 28,
          "metadata": {},
          "output_type": "execute_result"
        }
      ],
      "source": [
        "import pandas as pd\n",
        "import requests\n",
        "\n",
        "# Replace the URL below with the raw file URL for your text file\n",
        "github_url = \"https://raw.githubusercontent.com/Saurabh-Lakhanpal/symptoms-analyzer/main/resources/disease_description.txt\"\n",
        "\n",
        "# Fetch the file content from GitHub\n",
        "response = requests.get(github_url)\n",
        "content = response.text\n",
        "\n",
        "# Parse the content to create a mapping of Dname to description\n",
        "dname_to_description = {}\n",
        "for line in content.splitlines():\n",
        "    if \": \" in line:\n",
        "        parts = line.split(\": \", 1)\n",
        "        dname_key = parts[0].split(\". \", 1)[1].strip().lower()\n",
        "        description_value = parts[1].strip()\n",
        "        dname_to_description[dname_key] = description_value\n",
        "\n",
        "# Map descriptions to the DataFrame\n",
        "diseases_df['Description'] = diseases_df['Dname'].str.lower().map(dname_to_description)\n",
        "\n",
        "# Output the updated DataFrame\n",
        "diseases_df.head()\n"
      ]
    },
    {
      "cell_type": "code",
      "execution_count": 29,
      "metadata": {},
      "outputs": [
        {
          "name": "stdout",
          "output_type": "stream",
          "text": [
            "<class 'pandas.core.frame.DataFrame'>\n",
            "RangeIndex: 149 entries, 0 to 148\n",
            "Data columns (total 3 columns):\n",
            " #   Column       Non-Null Count  Dtype \n",
            "---  ------       --------------  ----- \n",
            " 0   diseaseID    149 non-null    object\n",
            " 1   Dname        149 non-null    object\n",
            " 2   Description  143 non-null    object\n",
            "dtypes: object(3)\n",
            "memory usage: 3.6+ KB\n"
          ]
        }
      ],
      "source": [
        "diseases_df.info()"
      ]
    },
    {
      "cell_type": "code",
      "execution_count": 32,
      "metadata": {
        "colab": {
          "base_uri": "https://localhost:8080/"
        },
        "id": "FBtV9LIAcyRZ",
        "outputId": "663a2fd2-81b0-4858-cd07-d38df8214465"
      },
      "outputs": [
        {
          "name": "stdout",
          "output_type": "stream",
          "text": [
            "\n",
            "Duplicates in 'diseaseID' column (detailed):\n",
            "    diseaseID                Dname  \\\n",
            "22   C0006826  Malignant Neoplasms   \n",
            "111  C0006826   Malignantneoplasms   \n",
            "\n",
            "                                           Description  \n",
            "22   General term for cancers characterized by unco...  \n",
            "111                                                NaN  \n",
            "\n",
            "Total duplicate entries in 'diseaseID' column: 2\n",
            "\n",
            "Whitespace trimming complete.\n",
            "\n",
            "Null values in the DataFrame (per column):\n",
            "diseaseID      0\n",
            "Dname          0\n",
            "Description    6\n",
            "dtype: int64\n",
            "\n",
            "Rows with NaN values:\n",
            "    diseaseID                      Dname Description\n",
            "8    C0038454    Accidentcerebrovascular         NaN\n",
            "19   C0029408  Degenerativepolyarthritis         NaN\n",
            "61   C0013405          Paroxysmaldyspnea         NaN\n",
            "100  C0006849            Oralcandidiasis         NaN\n",
            "111  C0006826         Malignantneoplasms         NaN\n",
            "138  C0019291               Herniahiatal         NaN\n"
          ]
        }
      ],
      "source": [
        "# Step 1: Check for duplicates in the 'diseaseID' column\n",
        "duplicates_in_diseaseID = diseases_df[diseases_df['diseaseID'].duplicated(keep=False)]  # Find all duplicate rows\n",
        "print(\"\\nDuplicates in 'diseaseID' column (detailed):\")\n",
        "print(duplicates_in_diseaseID)\n",
        "\n",
        "# Count the number of unique and duplicate entries\n",
        "total_duplicates_count = duplicates_in_diseaseID.shape[0]\n",
        "print(f\"\\nTotal duplicate entries in 'diseaseID' column: {total_duplicates_count}\")\n",
        "\n",
        "# Step 2: Trim leading and trailing whitespaces from all string columns\n",
        "diseases_df = diseases_df.apply(lambda x: x.str.strip() if x.dtype == \"object\" else x)\n",
        "print(\"\\nWhitespace trimming complete.\")\n",
        "\n",
        "# Step 3: Check for null values and display rows with NaN values\n",
        "null_values_per_column = diseases_df.isnull().sum()\n",
        "print(\"\\nNull values in the DataFrame (per column):\")\n",
        "print(null_values_per_column)\n",
        "\n",
        "# Show rows with NaN values\n",
        "rows_with_nan = diseases_df[diseases_df.isnull().any(axis=1)]  # Select rows with any NaN value\n",
        "print(\"\\nRows with NaN values:\")\n",
        "print(rows_with_nan)\n"
      ]
    },
    {
      "cell_type": "code",
      "execution_count": null,
      "metadata": {},
      "outputs": [],
      "source": [
        "# Remove duplicates based on the 'diseaseID' column\n",
        "diseases_df = diseases_df.drop_duplicates(subset='diseaseID', keep='first')\n",
        "\n",
        "# Confirm duplicates are removed\n",
        "print(\"Duplicates removed. Current shape of diseases_df:\")\n",
        "diseases_df"
      ]
    },
    {
      "cell_type": "code",
      "execution_count": null,
      "metadata": {
        "colab": {
          "base_uri": "https://localhost:8080/"
        },
        "id": "IWXVT4gZUk40",
        "outputId": "3c52a48d-5f7b-4a5e-c855-682c9de2ae26"
      },
      "outputs": [],
      "source": [
        "import pandas as pd\n",
        "\n",
        "# Check if 'Symptom' column exists\n",
        "if 'Symptom' in df.columns:\n",
        "    # Step 1: Clean and normalize the 'Symptom' column\n",
        "    df['Symptom'] = df['Symptom'].str.replace('\\n', ' ', regex=False).str.strip()\n",
        "\n",
        "    # Step 2: Filter rows containing valid 'UMLS:' entries\n",
        "    symptom_rows = df[df['Symptom'].notna() & df['Symptom'].str.startswith('UMLS:')]\n",
        "\n",
        "    # Step 3: Extract symptomID and Sname from valid entries\n",
        "    symptom_set = set()\n",
        "\n",
        "    for row in symptom_rows['Symptom']:\n",
        "        entries = str(row).split('^')\n",
        "\n",
        "        for entry in entries:\n",
        "            entry = ' '.join(entry.split())\n",
        "            if entry.startswith(\"UMLS:\") and '_' in entry:\n",
        "                parts = entry.split('_', 1)\n",
        "                if len(parts) == 2:\n",
        "                    symptom_id = parts[0].replace(\"UMLS:\", \"\").strip()\n",
        "                    sname = parts[1].replace('_', ' ').strip().lower()\n",
        "                    symptom_set.add((symptom_id, sname))\n",
        "            else:\n",
        "                # Log unmatched entries for debugging\n",
        "                print(f\"Unmatched entry: '{entry}'\")\n",
        "\n",
        "    # Step 4: Convert to DataFrame\n",
        "    if symptom_set:\n",
        "        symptom_records = [{'symptomID': sid, 'Sname': sname.title()} for sid, sname in sorted(symptom_set)]\n",
        "        symptoms_df = pd.DataFrame(symptom_records)\n",
        "\n",
        "        # Final Output\n",
        "        print(f\"symptoms_df created with {len(symptoms_df)} records.\")\n",
        "        print(symptoms_df.head())\n",
        "    else:\n",
        "        print(\"No valid symptom entries found.\")\n",
        "else:\n",
        "    print(\"The 'Symptom' column is missing!\")\n"
      ]
    }
  ],
  "metadata": {
    "colab": {
      "provenance": []
    },
    "kernelspec": {
      "display_name": "dev",
      "language": "python",
      "name": "python3"
    },
    "language_info": {
      "codemirror_mode": {
        "name": "ipython",
        "version": 3
      },
      "file_extension": ".py",
      "mimetype": "text/x-python",
      "name": "python",
      "nbconvert_exporter": "python",
      "pygments_lexer": "ipython3",
      "version": "3.10.13"
    }
  },
  "nbformat": 4,
  "nbformat_minor": 0
}
